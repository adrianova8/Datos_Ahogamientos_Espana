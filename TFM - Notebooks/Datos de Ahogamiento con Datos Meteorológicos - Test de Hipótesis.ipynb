{
 "cells": [
  {
   "attachments": {
    "UIMP.jpeg": {
     "image/jpeg": "[encoded data removed]"
    }
   },
   "cell_type": "markdown",
   "id": "b1f359b7",
   "metadata": {},
   "source": [
    "![UIMP.jpeg](attachment:UIMP.jpeg)"
   ]
  },
  {
   "cell_type": "markdown",
   "id": "661abce3",
   "metadata": {},
   "source": [
    "<div class=\"alert alert-block alert-info\"><font size=\"5\"><center><b><u>Adrià Nova Pagés</u></b></center></font>"
   ]
  },
  {
   "cell_type": "markdown",
   "id": "f9fb0331",
   "metadata": {},
   "source": [
    "# <span style=color:darkblue> Datos de Ahogamiento con Datos Meteorológicos - Test de Hipótesis </span>\n",
    " "
   ]
  },
  {
   "cell_type": "markdown",
   "id": "666b4776",
   "metadata": {},
   "source": [
    "**DESCRIPCIÓN DE LAS VARIABLES**\n",
    "- **Fecha:** Esta variable representa la fecha en la que ocurrió el accidente acuático y se compone de tres partes: el día, el mes y el año. Es una variable temporal que permite identificar el momento en que ocurrió el incidente.\n",
    "---\n",
    "- **IdAhogado:** Es un identificador único asignado a cada incidente de ahogamiento registrado en el conjunto de datos. Esta variable ayuda a distinguir cada incidente de ahogamiento registrado y a realizar análisis específicos para cada caso.\n",
    "---\n",
    "- **IdPersona:** Es un identificador único asignado a cada persona involucrada en un incidente de ahogamiento. Esta variable permite distinguir cada persona involucrada en el incidente y llevar a cabo análisis específicos para cada caso.\n",
    "---\n",
    "- **Localidad:** Es el nombre de la ciudad o pueblo donde se produjo el accidente acuático. Esta variable indica la ubicación geográfica del incidente y permite realizar análisis geográficos y comparar los incidentes en diferentes lugares.\n",
    "---\n",
    "- **Provincia:** Es la demarcación administrativa dentro del país donde se produjo el accidente acuático. Esta variable ayuda a realizar análisis a nivel regional y comparar los incidentes entre diferentes provincias.\n",
    "---\n",
    "- **Comunidad Autónoma (CCAA):** Es la entidad territorial dotada de autonomía dentro del actual ordenamiento jurídico constitucional, donde se produjo el accidente acuático. Esta variable permite realizar análisis a nivel regional y comparar los incidentes entre diferentes comunidades autónomas.\n",
    "---\n",
    "- **Hora:** Esta variable indica la hora en la que ocurrió el accidente acuático y se expresa en horas y minutos. Es una variable temporal que permite identificar la hora del día en que se produjo el incidente.\n",
    "---\n",
    "- **Latitud:** Es la distancia en grados, minutos y segundos con respecto al paralelo principal, que es el ecuador (0º). Esta variable indica la ubicación geográfica del incidente en el hemisferio norte o sur.\n",
    "---\n",
    "- **Longitud:** Es la distancia en grados, minutos y segundos con respecto al meridiano principal, que es el meridiano de Greenwich (0º). Esta variable indica la ubicación geográfica del incidente en el este o oeste del meridiano principal.\n",
    "---\n",
    "- **Sexo:** Esta variable indica el género de la persona involucrada en el incidente de ahogamiento. Toma el valor de \"M\" si es masculino y \"F\" si es femenino.\n",
    "---\n",
    "- **Edad:** Esta variable indica la edad de la persona involucrada en el incidente de ahogamiento. Es una variable numérica que permite realizar análisis sobre la edad de los afectados.\n",
    "---\n",
    "- **Nacionalidad:** Esta variable indica la nación o territorio en el que vive la persona involucrada en el incidente de ahogamiento. Permite realizar análisis sobre los incidentes que involucran a personas de diferentes nacionalidades.\n",
    "--- \n",
    "- **Origen:** Esta variable indica si la persona involucrada en el incidente de ahogamiento era local, extranjera, residente, limítrofe o de otra comunidad autónoma. Permite realizar análisis sobre la procedencia de los afectados.\n",
    "---\n",
    "- **Titular:** El titular se refiere al encabezado de la noticia que busca captar la atención de los lectores y resumir el contenido de la misma.\n",
    "---\n",
    "- **Causa:** Esta variable se refiere a las circunstancias que llevaron al individuo a sufrir un accidente acuático, como pueden ser errores de juicio, falta de habilidad para nadar, la presencia de obstáculos o peligros en el agua, entre otros factores.\n",
    "---\n",
    "- **TipoAhogamiento:** El tipo de ahogamiento hace referencia a la forma en que el individuo se ahogó, como puede ser por sumersión, aspiración de agua, hipotermia, entre otras causas.\n",
    "---\n",
    "- **Factor:** Los factores se refieren a las condiciones o situaciones que aumentan la probabilidad de que un individuo sufra un accidente acuático, como pueden ser la falta de conocimiento o formación en natación, la ausencia de medidas de seguridad adecuadas, entre otros.\n",
    "---\n",
    "- **Intervención:** La intervención hace referencia a las acciones que se llevaron a cabo tras el accidente acuático para asistir al individuo, como pueden ser la aplicación de primeros auxilios, la llamada a servicios de emergencia, entre otros.\n",
    "---\n",
    "- **Pronóstico:** El pronóstico se refiere a la predicción de la evolución del individuo tras sufrir el accidente acuático, como puede ser su recuperación, secuelas o incluso fallecimiento.\n",
    "---\n",
    "- **Localización:** La localización se refiere al lugar donde fue encontrado el individuo que sufrió el accidente acuático, como puede ser una piscina, un río, el mar, entre otros.\n",
    "---\n",
    "- **Riesgo:** El riesgo hace referencia a las condiciones del agua para poder realizar actividades acuáticas, considerando banderas rojas, amarillas o verdes, que indican el nivel de peligro y seguridad para los bañistas.\n",
    "---\n",
    "- **Reanimación:** La reanimación se refiere al tipo de técnicas de primeros auxilios que se utilizaron para intentar revivir al individuo tras sufrir el accidente acuático, como pueden ser la respiración boca a boca o la aplicación de desfibriladores automáticos externos.\n",
    "---\n",
    "- **Vigilancia:** La vigilancia se refiere a si había presencia de personal especializado en el momento de producirse el accidente acuático, como pueden ser socorristas, bomberos o personal médico.\n",
    "---\n",
    "- **Actividad:** La actividad se refiere a la acción que estaba realizando el individuo en el momento de sufrir el accidente acuático, como pueden ser nadar, bucear, pescar, entre otras.\n",
    "---\n",
    "- **Detección:** La detección se refiere a quién fue el primero en notar o darse cuenta del accidente acuático, como pueden ser testigos presenciales, familiares o amigos del individuo, entre otros.\n",
    "---\n",
    "- **Enlace1:** Enlace1 se refiere al titular de noticia en la que se confirma el accidente acuático.\n",
    "---\n",
    "- **Indicador:** El indicador se refiere al número asociado que se le otorga a cada estación meteorológica.\n",
    "---\n",
    "- **Estacion:** Estación se refiere al nombre que recibe la estación meteorológica por provincia.\n",
    "---\n",
    "- **Altitud:** La altitud se refiere la ditancia entre un punto de la superfície terrestre respecto el nivel del mar en el que se produjó el accidente acuático.\n",
    "---\n",
    "- **TempMed:** La temperatura media se refiere a la temperatura que hizo a lo largo del dia, de media, en que se produjo el accidente acuático.\n",
    "---\n",
    "- **Precip:** La precipitación se refiere a la cantidad de litros por m2 que hubo en el dia del accidente acuático (l/m2).\n",
    "---\n",
    "- **TempMin:** La temperatura mínima se refiere a la temperatura más baja que se registro a lo largo del dia en que se produjo el accidente acuático.\n",
    "---\n",
    "- **TempMax:** La temperatura máxima se refiere a la temperatura más alta que se registro a lo largo del dia en que se produjo el accidente acuático.\n",
    "---\n",
    "- **DirViento:** La direccion del viento se refiere en la dirección en la que sopla el viento, ya sea norte, sur, este u oeste en el momento del accidente acuático.\n",
    "---\n",
    "- **VelMedViento:** La velocidad media del viento se refiere a la velocidad que se registro a lo largo del dia, de media, en que se produjo el accidente acuático en metros por segundo(m/s).\n",
    "---\n",
    "- **RachaViento:** La racha de viento se refiere al aumento repentino del viento que excede el viento promedio de 18km/h para el dia en que se registró el accidente acuático.\n",
    "---\n",
    "- **TiempoSol:** El tiempo de sol se refiere al número de horas que tuvo el dia del accidente acuático.\n",
    "---\n",
    "- **PresionMax:** La presión máxima se refiere a la fuerza máxima que ejerce el aire sobre la superfície terrestre, cuantos más accidentes acuáticos cerca del mar mayor presión.\n",
    "---\n",
    "- **PresionMin:** La presión mínima se refiere a la fuerza mínima que ejerce el aire sobre la superfície terrestre, cuantos menos accidentes acuáticos cerca del mar menor presión."
   ]
  },
  {
   "cell_type": "code",
   "execution_count": 1,
   "id": "a6e0f742",
   "metadata": {},
   "outputs": [],
   "source": [
    "# Libraries\n",
    "import numpy as np\n",
    "import pandas as pd\n",
    "import matplotlib.pyplot as plt\n",
    "import scipy.stats as stats\n",
    "import scipy"
   ]
  },
  {
   "cell_type": "code",
   "execution_count": 2,
   "id": "acb25377",
   "metadata": {
    "scrolled": true
   },
   "outputs": [
    {
     "data": {
      "text/html": [
       "<div>\n",
       "<style scoped>\n",
       "    .dataframe tbody tr th:only-of-type {\n",
       "        vertical-align: middle;\n",
       "    }\n",
       "\n",
       "    .dataframe tbody tr th {\n",
       "        vertical-align: top;\n",
       "    }\n",
       "\n",
       "    .dataframe thead th {\n",
       "        text-align: right;\n",
       "    }\n",
       "</style>\n",
       "<table border=\"1\" class=\"dataframe\">\n",
       "  <thead>\n",
       "    <tr style=\"text-align: right;\">\n",
       "      <th></th>\n",
       "      <th>Fecha</th>\n",
       "      <th>IdAhogado</th>\n",
       "      <th>IdPersona</th>\n",
       "      <th>Localidad</th>\n",
       "      <th>Provincia</th>\n",
       "      <th>CCAA</th>\n",
       "      <th>Hora</th>\n",
       "      <th>Latitud</th>\n",
       "      <th>Longitud</th>\n",
       "      <th>Sexo</th>\n",
       "      <th>Edad</th>\n",
       "      <th>Nacionalidad</th>\n",
       "      <th>Origen</th>\n",
       "      <th>Extraccion</th>\n",
       "      <th>Titular</th>\n",
       "      <th>Causa</th>\n",
       "      <th>TipoAhogamiento</th>\n",
       "      <th>Factor</th>\n",
       "      <th>Intervencion</th>\n",
       "      <th>Pronostico</th>\n",
       "      <th>Localizacion</th>\n",
       "      <th>Riesgo</th>\n",
       "      <th>Reanimacion</th>\n",
       "      <th>Vigilancia</th>\n",
       "      <th>Actividad</th>\n",
       "      <th>Deteccion</th>\n",
       "      <th>Enlace1</th>\n",
       "      <th>Indicador</th>\n",
       "      <th>Estacion</th>\n",
       "      <th>Altitud</th>\n",
       "      <th>TempMed</th>\n",
       "      <th>Precip</th>\n",
       "      <th>TempMin</th>\n",
       "      <th>TempMax</th>\n",
       "      <th>DirViento</th>\n",
       "      <th>VelMedViento</th>\n",
       "      <th>RachaViento</th>\n",
       "      <th>TiempoSol</th>\n",
       "      <th>PresionMax</th>\n",
       "      <th>PresionMin</th>\n",
       "    </tr>\n",
       "  </thead>\n",
       "  <tbody>\n",
       "    <tr>\n",
       "      <th>0</th>\n",
       "      <td>30-12-2020</td>\n",
       "      <td>7432</td>\n",
       "      <td>8532</td>\n",
       "      <td>Torredembarra</td>\n",
       "      <td>Tarragona</td>\n",
       "      <td>Cataluña</td>\n",
       "      <td>NaN</td>\n",
       "      <td>41.130523</td>\n",
       "      <td>1.395311</td>\n",
       "      <td>NaN</td>\n",
       "      <td>NaN</td>\n",
       "      <td>España</td>\n",
       "      <td>NaN</td>\n",
       "      <td>Embarcación de rescate</td>\n",
       "      <td>Encuentran un cadáver flotando en el mar cerca...</td>\n",
       "      <td>NaN</td>\n",
       "      <td>Posible Ahogamiento</td>\n",
       "      <td>NaN</td>\n",
       "      <td>Recuperación de cadaver</td>\n",
       "      <td>Ahogamiento mortal</td>\n",
       "      <td>Franja costera o alta mar</td>\n",
       "      <td>NaN</td>\n",
       "      <td>Recuperacion de cadaver</td>\n",
       "      <td>No vigilado</td>\n",
       "      <td>NaN</td>\n",
       "      <td>Ciudadano</td>\n",
       "      <td>#https://www.diarimes.com/es/noticias/camp_tar...</td>\n",
       "      <td>9981A</td>\n",
       "      <td>ESTACIÓN DE TORTOSA (ROQUETES)</td>\n",
       "      <td>50</td>\n",
       "      <td>10.0</td>\n",
       "      <td>0.0</td>\n",
       "      <td>8.0</td>\n",
       "      <td>12.1</td>\n",
       "      <td>30.0</td>\n",
       "      <td>4.4</td>\n",
       "      <td>22.8</td>\n",
       "      <td>3.9</td>\n",
       "      <td>1010.0</td>\n",
       "      <td>1000.9</td>\n",
       "    </tr>\n",
       "    <tr>\n",
       "      <th>1</th>\n",
       "      <td>29-12-2020</td>\n",
       "      <td>7431</td>\n",
       "      <td>8531</td>\n",
       "      <td>Cádiz, Playa de Santa Maria del Mar</td>\n",
       "      <td>Cádiz</td>\n",
       "      <td>Andalucía</td>\n",
       "      <td>17:48</td>\n",
       "      <td>36.519991</td>\n",
       "      <td>-6.287258</td>\n",
       "      <td>NaN</td>\n",
       "      <td>NaN</td>\n",
       "      <td>España</td>\n",
       "      <td>NaN</td>\n",
       "      <td>Ciudadano</td>\n",
       "      <td>Evacuada al hospital en estado grave una perso...</td>\n",
       "      <td>NaN</td>\n",
       "      <td>Posible Ahogamiento</td>\n",
       "      <td>NaN</td>\n",
       "      <td>Recuperación de cadaver</td>\n",
       "      <td>Ahogamiento no mortal con hospitalizacion</td>\n",
       "      <td>Playas sin vigilancia</td>\n",
       "      <td>NaN</td>\n",
       "      <td>SVA por SEM</td>\n",
       "      <td>No vigilado</td>\n",
       "      <td>Natación recreativa</td>\n",
       "      <td>Ciudadano</td>\n",
       "      <td>#https://elcorreoweb.es/andalucia/encuentran-u...</td>\n",
       "      <td>5973</td>\n",
       "      <td>CÁDIZ</td>\n",
       "      <td>2</td>\n",
       "      <td>12.2</td>\n",
       "      <td>0.2</td>\n",
       "      <td>9.2</td>\n",
       "      <td>15.3</td>\n",
       "      <td>32.0</td>\n",
       "      <td>3.3</td>\n",
       "      <td>9.4</td>\n",
       "      <td>NaN</td>\n",
       "      <td>1017.0</td>\n",
       "      <td>1011.4</td>\n",
       "    </tr>\n",
       "  </tbody>\n",
       "</table>\n",
       "</div>"
      ],
      "text/plain": [
       "        Fecha  IdAhogado  IdPersona                            Localidad  \\\n",
       "0  30-12-2020       7432       8532                        Torredembarra   \n",
       "1  29-12-2020       7431       8531  Cádiz, Playa de Santa Maria del Mar   \n",
       "\n",
       "   Provincia       CCAA   Hora    Latitud   Longitud Sexo  Edad Nacionalidad  \\\n",
       "0  Tarragona   Cataluña    NaN  41.130523   1.395311  NaN   NaN       España   \n",
       "1      Cádiz  Andalucía  17:48  36.519991  -6.287258  NaN   NaN       España   \n",
       "\n",
       "  Origen              Extraccion  \\\n",
       "0    NaN  Embarcación de rescate   \n",
       "1    NaN               Ciudadano   \n",
       "\n",
       "                                             Titular Causa  \\\n",
       "0  Encuentran un cadáver flotando en el mar cerca...   NaN   \n",
       "1  Evacuada al hospital en estado grave una perso...   NaN   \n",
       "\n",
       "       TipoAhogamiento Factor             Intervencion  \\\n",
       "0  Posible Ahogamiento    NaN  Recuperación de cadaver   \n",
       "1  Posible Ahogamiento    NaN  Recuperación de cadaver   \n",
       "\n",
       "                                  Pronostico               Localizacion  \\\n",
       "0                         Ahogamiento mortal  Franja costera o alta mar   \n",
       "1  Ahogamiento no mortal con hospitalizacion      Playas sin vigilancia   \n",
       "\n",
       "  Riesgo              Reanimacion   Vigilancia            Actividad  \\\n",
       "0    NaN  Recuperacion de cadaver  No vigilado                  NaN   \n",
       "1    NaN              SVA por SEM  No vigilado  Natación recreativa   \n",
       "\n",
       "   Deteccion                                            Enlace1 Indicador  \\\n",
       "0  Ciudadano  #https://www.diarimes.com/es/noticias/camp_tar...     9981A   \n",
       "1  Ciudadano  #https://elcorreoweb.es/andalucia/encuentran-u...      5973   \n",
       "\n",
       "                         Estacion  Altitud  TempMed  Precip  TempMin  TempMax  \\\n",
       "0  ESTACIÓN DE TORTOSA (ROQUETES)       50     10.0     0.0      8.0     12.1   \n",
       "1                           CÁDIZ        2     12.2     0.2      9.2     15.3   \n",
       "\n",
       "   DirViento  VelMedViento  RachaViento  TiempoSol  PresionMax  PresionMin  \n",
       "0       30.0           4.4         22.8        3.9      1010.0      1000.9  \n",
       "1       32.0           3.3          9.4        NaN      1017.0      1011.4  "
      ]
     },
     "execution_count": 2,
     "metadata": {},
     "output_type": "execute_result"
    }
   ],
   "source": [
    "# Cargamos los datos\n",
    "pd.set_option('display.max_columns', None)\n",
    "datos_ahogamientos = pd.read_csv(\"datos_ahogamiento_meteorologicos.csv\")\n",
    "datos_ahogamientos.head(2)"
   ]
  },
  {
   "cell_type": "code",
   "execution_count": 121,
   "id": "2b063ada",
   "metadata": {
    "scrolled": true
   },
   "outputs": [
    {
     "name": "stdout",
     "output_type": "stream",
     "text": [
      "Nº de missings para la variable Fecha es: 0\n",
      "Nº de missings para la variable IdAhogado es: 0\n",
      "Nº de missings para la variable IdPersona es: 0\n",
      "Nº de missings para la variable Localidad es: 0\n",
      "Nº de missings para la variable Provincia es: 0\n",
      "Nº de missings para la variable CCAA es: 0\n",
      "Nº de missings para la variable Hora es: 1436\n",
      "Nº de missings para la variable Latitud es: 0\n",
      "Nº de missings para la variable Longitud es: 0\n",
      "Nº de missings para la variable Sexo es: 398\n",
      "Nº de missings para la variable Edad es: 1579\n",
      "Nº de missings para la variable Nacionalidad es: 93\n",
      "Nº de missings para la variable Origen es: 3516\n",
      "Nº de missings para la variable Extraccion es: 106\n",
      "Nº de missings para la variable Titular es: 0\n",
      "Nº de missings para la variable Causa es: 2252\n",
      "Nº de missings para la variable TipoAhogamiento es: 24\n",
      "Nº de missings para la variable Factor es: 4666\n",
      "Nº de missings para la variable Intervencion es: 78\n",
      "Nº de missings para la variable Pronostico es: 21\n",
      "Nº de missings para la variable Localizacion es: 0\n",
      "Nº de missings para la variable Riesgo es: 4919\n",
      "Nº de missings para la variable Reanimacion es: 227\n",
      "Nº de missings para la variable Vigilancia es: 27\n",
      "Nº de missings para la variable Actividad es: 333\n",
      "Nº de missings para la variable Deteccion es: 137\n",
      "Nº de missings para la variable Enlace1 es: 12\n",
      "Nº de missings para la variable Indicador es: 0\n",
      "Nº de missings para la variable Estacion es: 0\n",
      "Nº de missings para la variable Altitud es: 0\n",
      "Nº de missings para la variable TempMed es: 34\n",
      "Nº de missings para la variable Precip es: 371\n",
      "Nº de missings para la variable TempMin es: 34\n",
      "Nº de missings para la variable TempMax es: 29\n",
      "Nº de missings para la variable DirViento es: 183\n",
      "Nº de missings para la variable VelMedViento es: 161\n",
      "Nº de missings para la variable RachaViento es: 183\n",
      "Nº de missings para la variable TiempoSol es: 617\n",
      "Nº de missings para la variable PresionMax es: 57\n",
      "Nº de missings para la variable PresionMin es: 56\n"
     ]
    }
   ],
   "source": [
    "# Número de datos faltantes\n",
    "for i in range(0,len(datos_ahogamientos.columns)):\n",
    "    print(\"Nº de missings para la variable \" + str(datos_ahogamientos.columns[i]) + \" es: \" + str(datos_ahogamientos.iloc[:, i].isna().sum()))"
   ]
  },
  {
   "cell_type": "markdown",
   "id": "f7a9f2eb",
   "metadata": {},
   "source": [
    "+ Se observa que hay algunas variables como la Hora y la Edad que tienen más de 1000 registros con datos faltantes. Para las variables meterológicas encontramos el TiempoSol, Precip, DirViento, VelMedViento con datos faltantes también."
   ]
  },
  {
   "cell_type": "markdown",
   "id": "efb929b4",
   "metadata": {},
   "source": [
    "# <span style=color:darkblue> División grupo de edades en 5 grupos </span>"
   ]
  },
  {
   "cell_type": "code",
   "execution_count": 122,
   "id": "ab74cc77",
   "metadata": {},
   "outputs": [
    {
     "name": "stdout",
     "output_type": "stream",
     "text": [
      "Grupo 1: 0 a 15 años  1027\n",
      "Grupo 2: 16 a 30 años  1115\n",
      "Grupo 3: 31 a 45 años  1063\n",
      "Grupo 4: 46 a 60 años  1241\n",
      "Grupo 5: 61 años en adelante  1990\n"
     ]
    }
   ],
   "source": [
    "edad = datos_ahogamientos[\"Edad\"].dropna() # No tenemos en cuenta los valores faltantes\n",
    "\n",
    "# Grupo 1\n",
    "print(\"Grupo 1: 0 a 15 años \", edad[(edad > 0) & (edad <= 15)].count())\n",
    "\n",
    "# Grupo 2\n",
    "print(\"Grupo 2: 16 a 30 años \", edad[(edad >= 16) & (edad <= 30)].count())\n",
    "\n",
    "# Grupo 3\n",
    "print(\"Grupo 3: 31 a 45 años \", edad[(edad >= 31) & (edad <= 45)].count())\n",
    "\n",
    "# Grupo 4\n",
    "print(\"Grupo 4: 46 a 60 años \" , edad[(edad >= 46) & (edad <= 60)].count())\n",
    "\n",
    "# Grupo 5\n",
    "print(\"Grupo 5: 61 años en adelante \", edad[(edad >= 61)].count())"
   ]
  },
  {
   "cell_type": "code",
   "execution_count": 3,
   "id": "144e55e6",
   "metadata": {},
   "outputs": [],
   "source": [
    "# Guardamos cada grupo en una variable\n",
    "\n",
    "adolescentes = datos_ahogamientos[(datos_ahogamientos[\"Edad\"] > 0) & (datos_ahogamientos[\"Edad\"] <= 15)]\n",
    "\n",
    "jovenes = datos_ahogamientos[(datos_ahogamientos[\"Edad\"] >= 16) & (datos_ahogamientos[\"Edad\"] <= 30)]\n",
    "\n",
    "adultos_jovenes = datos_ahogamientos[(datos_ahogamientos[\"Edad\"] > 31) & (datos_ahogamientos[\"Edad\"] <= 45)]\n",
    "\n",
    "adultos_mediana_edad = datos_ahogamientos[(datos_ahogamientos[\"Edad\"] >= 46) & (datos_ahogamientos[\"Edad\"] <= 60)]\n",
    "\n",
    "mayores = datos_ahogamientos[(datos_ahogamientos[\"Edad\"] >= 61)]"
   ]
  },
  {
   "cell_type": "code",
   "execution_count": 4,
   "id": "c80bc3e5",
   "metadata": {},
   "outputs": [
    {
     "data": {
      "text/plain": [
       "35      9.0\n",
       "91      1.0\n",
       "113     2.0\n",
       "187    10.0\n",
       "191    14.0\n",
       "192    14.0\n",
       "196     5.0\n",
       "205    15.0\n",
       "219    11.0\n",
       "220     2.0\n",
       "Name: Edad, dtype: float64"
      ]
     },
     "execution_count": 4,
     "metadata": {},
     "output_type": "execute_result"
    }
   ],
   "source": [
    "# Veamos por encima los datos del grupo adolescentes\n",
    "adolescentes[\"Edad\"].head(10)"
   ]
  },
  {
   "cell_type": "code",
   "execution_count": 125,
   "id": "670ac6d0",
   "metadata": {},
   "outputs": [
    {
     "data": {
      "image/png": "[encoded data removed]",
      "text/plain": [
       "<Figure size 2500x500 with 5 Axes>"
      ]
     },
     "metadata": {},
     "output_type": "display_data"
    }
   ],
   "source": [
    "nombres_grupos_edad = [\"adolescentes\", \"jovenes\", \"adultos_jovenes\", \"adultos_mediana_edad\", \"mayores\"]\n",
    "fig, axs = plt.subplots(1, 5,figsize = (25, 5))\n",
    "\n",
    "for i, grupo_edad in enumerate(nombres_grupos_edad):\n",
    "\n",
    "    # Obtener el Dataframe con globals()\n",
    "    df = globals()[grupo_edad]\n",
    "    \n",
    "    axs[i].hist(df[\"Edad\"])\n",
    "    axs[i].set_xlabel('Edad')\n",
    "    axs[i].set_ylabel('Nº de accidentes acuáticos')\n",
    "    \n",
    "    # Añadir el título correspondiente al grupo de edad actual\n",
    "    axs[i].set_title(nombres_grupos_edad[i])\n",
    "\n",
    "fig.suptitle(\"HISTOGRAMA POR GRUPOS DE EDAD\")\n",
    "plt.show()"
   ]
  },
  {
   "cell_type": "markdown",
   "id": "77207a20",
   "metadata": {},
   "source": [
    "+ **GRUPO ADOLESCENTES:** Se observa como los individuos más propensos a sufrir accidentes acuáticos son los adolescentes de 15 años con una ligera diferencia sobre el resto. Los individuos entre 9 y 11+ años son el segundo grupo junto con los de 5 años más propensos a sufrir accidentes acuáticos.\n",
    "\n",
    "\n",
    "+ **GRUPO JOVENES:** Se observa como los individuos más propensos a sufrir accidentes acuáticos son los jovenes de 30 años con una gran diferencia sobre el resto. Los individuos de 17 y 20 años son el segundo grupo junto con los de [23-26] años más propensos a sufrir accidentes acuáticos.\n",
    "\n",
    "\n",
    "+ **GRUPO ADULTOS JOVENES:** Se observa como los individuos más propensos a sufrir accidentes acuáticos son los adultos jovenes de 40-41 años con una gran diferencia sobre el resto. Los individuos de 35 y 45 años son el segundo grupo más propensos a sufrir accidentes acuáticos.\n",
    "\n",
    "\n",
    "+ **GRUPO ADULTOS MEDIANA EDAD:** Se observa como los individuos más propensos a sufrir accidentes acuáticos son los adultos de mediana edad de 50  y 60 años con una gran diferencia sobre el resto.\n",
    "\n",
    "\n",
    "+ **GRUPO MAYORES:** Se observa como los individuos más propensos a sufrir accidentes acuáticos son los mayores de 70 años con una ligera diferencia sobre el resto. El resto de individuos para esta franja de edad mantienen unos niveles de accidentes acuáticos relativamente estables y es a partir de los 85 años que empieza a decaer, debido a que no acuden a los medios acuáticos."
   ]
  },
  {
   "cell_type": "code",
   "execution_count": 126,
   "id": "f9e47e15",
   "metadata": {},
   "outputs": [
    {
     "data": {
      "text/html": [
       "<div>\n",
       "<style scoped>\n",
       "    .dataframe tbody tr th:only-of-type {\n",
       "        vertical-align: middle;\n",
       "    }\n",
       "\n",
       "    .dataframe tbody tr th {\n",
       "        vertical-align: top;\n",
       "    }\n",
       "\n",
       "    .dataframe thead th {\n",
       "        text-align: right;\n",
       "    }\n",
       "</style>\n",
       "<table border=\"1\" class=\"dataframe\">\n",
       "  <thead>\n",
       "    <tr style=\"text-align: right;\">\n",
       "      <th></th>\n",
       "      <th>adolescentes</th>\n",
       "      <th>jovenes</th>\n",
       "      <th>adultos_jovenes</th>\n",
       "      <th>adultos_mediana_edad</th>\n",
       "      <th>mayores</th>\n",
       "    </tr>\n",
       "  </thead>\n",
       "  <tbody>\n",
       "    <tr>\n",
       "      <th>count</th>\n",
       "      <td>1027.000000</td>\n",
       "      <td>1115.000000</td>\n",
       "      <td>1035.000000</td>\n",
       "      <td>1241.000000</td>\n",
       "      <td>1990.000000</td>\n",
       "    </tr>\n",
       "    <tr>\n",
       "      <th>mean</th>\n",
       "      <td>8.866602</td>\n",
       "      <td>23.724664</td>\n",
       "      <td>39.123671</td>\n",
       "      <td>53.227236</td>\n",
       "      <td>73.423618</td>\n",
       "    </tr>\n",
       "    <tr>\n",
       "      <th>std</th>\n",
       "      <td>4.480489</td>\n",
       "      <td>4.790632</td>\n",
       "      <td>3.775643</td>\n",
       "      <td>4.438097</td>\n",
       "      <td>7.281591</td>\n",
       "    </tr>\n",
       "    <tr>\n",
       "      <th>min</th>\n",
       "      <td>1.000000</td>\n",
       "      <td>16.000000</td>\n",
       "      <td>32.000000</td>\n",
       "      <td>46.000000</td>\n",
       "      <td>61.000000</td>\n",
       "    </tr>\n",
       "    <tr>\n",
       "      <th>25%</th>\n",
       "      <td>5.000000</td>\n",
       "      <td>20.000000</td>\n",
       "      <td>35.000000</td>\n",
       "      <td>50.000000</td>\n",
       "      <td>68.000000</td>\n",
       "    </tr>\n",
       "    <tr>\n",
       "      <th>50%</th>\n",
       "      <td>10.000000</td>\n",
       "      <td>24.000000</td>\n",
       "      <td>40.000000</td>\n",
       "      <td>53.000000</td>\n",
       "      <td>72.500000</td>\n",
       "    </tr>\n",
       "    <tr>\n",
       "      <th>75%</th>\n",
       "      <td>13.000000</td>\n",
       "      <td>29.000000</td>\n",
       "      <td>42.000000</td>\n",
       "      <td>57.000000</td>\n",
       "      <td>79.000000</td>\n",
       "    </tr>\n",
       "    <tr>\n",
       "      <th>max</th>\n",
       "      <td>15.000000</td>\n",
       "      <td>30.000000</td>\n",
       "      <td>45.000000</td>\n",
       "      <td>60.000000</td>\n",
       "      <td>96.000000</td>\n",
       "    </tr>\n",
       "  </tbody>\n",
       "</table>\n",
       "</div>"
      ],
      "text/plain": [
       "       adolescentes      jovenes  adultos_jovenes  adultos_mediana_edad  \\\n",
       "count   1027.000000  1115.000000      1035.000000           1241.000000   \n",
       "mean       8.866602    23.724664        39.123671             53.227236   \n",
       "std        4.480489     4.790632         3.775643              4.438097   \n",
       "min        1.000000    16.000000        32.000000             46.000000   \n",
       "25%        5.000000    20.000000        35.000000             50.000000   \n",
       "50%       10.000000    24.000000        40.000000             53.000000   \n",
       "75%       13.000000    29.000000        42.000000             57.000000   \n",
       "max       15.000000    30.000000        45.000000             60.000000   \n",
       "\n",
       "           mayores  \n",
       "count  1990.000000  \n",
       "mean     73.423618  \n",
       "std       7.281591  \n",
       "min      61.000000  \n",
       "25%      68.000000  \n",
       "50%      72.500000  \n",
       "75%      79.000000  \n",
       "max      96.000000  "
      ]
     },
     "execution_count": 126,
     "metadata": {},
     "output_type": "execute_result"
    }
   ],
   "source": [
    "# Descripción de los datos para los 5 grupos de edad\n",
    "nombres_grupos_edad = [\"adolescentes\", \"jovenes\", \"adultos_jovenes\", \"adultos_mediana_edad\", \"mayores\"]\n",
    "\n",
    "description = [] # Variable que almacena los datos descriptivos de cada dataframe por grupo de edad\n",
    "\n",
    "for i, grupo_edad in enumerate(nombres_grupos_edad):\n",
    "\n",
    "    # Obtener el Dataframe con globals()\n",
    "    df = globals()[grupo_edad]\n",
    "    \n",
    "    # Description\n",
    "    describe = df[\"Edad\"].describe()\n",
    "    description.append(describe)\n",
    "    \n",
    "description = pd.concat(description, axis = 1)\n",
    "description.columns = nombres_grupos_edad\n",
    "description"
   ]
  },
  {
   "cell_type": "markdown",
   "id": "9f814234",
   "metadata": {},
   "source": [
    "+ **GRUPO ADOLESCENTES:** La media de edad de los accidentes acuáticos para el grupo de adolescentes es de aproximadamente 9 años, con una desviación estándard del 4,48. Podemos considerar esta desviación dentro del rango de la normalidad, tomando edades comprendidas entre [5-13] años. El 75% de los individuos tiene 13 años o menos, considerandose un grupo de edad muy jóven y que aún asi sufren bastantes accidentes acuáticos.\n",
    "\n",
    "\n",
    "+ **GRUPO JOVENES:** La media de edad de los accidentes acuáticos para el grupo de jovenes es de aproximadamente 24 años, con una desviación estándard del 4,79. Podemos considerar esta desviación dentro del rango de la normalidad, tomando edades comprendidas entre [20-28] años. \n",
    "\n",
    "\n",
    "+ **GRUPO ADULTOS JOVENES:** La media de edad de los accidentes acuáticos para el grupo de adultos jovenes es de 40 años, con una desviación estándard del 3,77. Podemos considerar esta desviación dentro del rango de la normalidad y la que mejor representa la media respecto al resto de grupos, tomando edades comprendidas entre [36-42] años.\n",
    "\n",
    "\n",
    "+ **GRUPO ADULTOS MEDIANA EDAD:** La media de edad de los accidentes acuáticos para el grupo de adultos mediana edad es de aproximadamente 53 años, con una desviación estándard del 4,43. Podemos considerar esta desviación dentro del rango de la normalidad, tomando edades comprendidas entre [49-57] años. \n",
    "\n",
    "\n",
    "+ **GRUPO MAYORES:** La media de edad de los accidentes acuáticos para el grupo de mayores es de aproximadamente 74 años, con una desviación estándard del 7,28, muy superior al resto de grupos. Podemos considerar esta desviación alejada del rango de la normalidad, tomando edades comprendidas entre [66-80] años. "
   ]
  },
  {
   "cell_type": "markdown",
   "id": "7c4745ed",
   "metadata": {},
   "source": [
    "# <span style=color:darkblue> Test de hipótesis número total de ahogamientos</span>"
   ]
  },
  {
   "cell_type": "markdown",
   "id": "7cadcc62",
   "metadata": {},
   "source": [
    "## <span style=color:darkblue> Grupos de edad con Distribución Normal </span>\n",
    "\n",
    "$H_0$: Los datos de edad siguen una distribución normal\n",
    "\n",
    "$H_A$: Los datos de edad no siguen una distribución normal"
   ]
  },
  {
   "cell_type": "code",
   "execution_count": 127,
   "id": "82109910",
   "metadata": {},
   "outputs": [],
   "source": [
    "# Comprobamos si los grupos de edad siguen una distribución normal\n",
    "def check_normality(datos):\n",
    "    \n",
    "    p_value = stats.shapiro(datos)[1]\n",
    "    \n",
    "    if p_value < 0.05:\n",
    "        print(\"Los datos de edad no siguen una distribución normal: \", p_value)\n",
    "    else:\n",
    "        print(\"Los datos de edad siguen una distribución normal: \", p_value)"
   ]
  },
  {
   "cell_type": "code",
   "execution_count": 128,
   "id": "4ca539d0",
   "metadata": {},
   "outputs": [
    {
     "name": "stdout",
     "output_type": "stream",
     "text": [
      "Para el grupo de edad: adolescentes\n",
      "Los datos de edad no siguen una distribución normal:  8.612617386868548e-23\n",
      "\n",
      "Para el grupo de edad: jovenes\n",
      "Los datos de edad no siguen una distribución normal:  8.574018245282381e-26\n",
      "\n",
      "Para el grupo de edad: adultos_jovenes\n",
      "Los datos de edad no siguen una distribución normal:  1.4281316896580638e-20\n",
      "\n",
      "Para el grupo de edad: adultos_mediana_edad\n",
      "Los datos de edad no siguen una distribución normal:  1.9261138475857655e-25\n",
      "\n",
      "Para el grupo de edad: mayores\n",
      "Los datos de edad no siguen una distribución normal:  1.2002654351964683e-18\n",
      "\n"
     ]
    }
   ],
   "source": [
    "for i, grupo_edad in enumerate(nombres_grupos_edad):\n",
    "\n",
    "    # Obtener el Dataframe con globals()\n",
    "    df = globals()[grupo_edad]\n",
    "    print(\"Para el grupo de edad:\", grupo_edad)\n",
    "    check_normality(df[\"Edad\"])\n",
    "    print(\"\")"
   ]
  },
  {
   "cell_type": "markdown",
   "id": "1bad2892",
   "metadata": {},
   "source": [
    "+ Podemos concluir que ninguno de los grupos de edad tiene una distribución normal, ya que su p-value es inferior a 0.05, por lo que rechazamos la hipótesis nula y no podemos afirmar que los datos siguen una distribución normal."
   ]
  },
  {
   "cell_type": "markdown",
   "id": "3bbbced8",
   "metadata": {},
   "source": [
    "## <span style=color:darkblue> Grupos de edad con varianza homogénea</span>\n",
    "\n",
    "$H_0$: La varianza de los grupos de edad es homogenea\n",
    "\n",
    "$H_A$: La varianza de los grupos de edad no es homogenea"
   ]
  },
  {
   "cell_type": "code",
   "execution_count": 129,
   "id": "4059224e",
   "metadata": {},
   "outputs": [],
   "source": [
    "# Comprobamos si los grupos de edad tienen una varianza parecida entre ellos (homogeneidad)\n",
    "def check_variance_homogeneity(group1, group2):\n",
    "    \n",
    "    p_value = stats.levene(group1, group2)[1] # Prueba de Levene\n",
    "    \n",
    "    if p_value < 0.05:\n",
    "        print(\"La varianza de los grupos no es homogénea\", p_value)\n",
    "    else:\n",
    "        print(\"La varianza de los grupos es homogénea\", p_value)"
   ]
  },
  {
   "cell_type": "code",
   "execution_count": 130,
   "id": "af3c093f",
   "metadata": {
    "scrolled": false
   },
   "outputs": [
    {
     "name": "stdout",
     "output_type": "stream",
     "text": [
      "Para el grupo de edad: adolescentes y jovenes\n",
      "La varianza de los grupos no es homogénea 0.0043770515968284095\n",
      "\n",
      "Para el grupo de edad: adolescentes y adultos_jovenes\n",
      "La varianza de los grupos no es homogénea 1.2047014409277054e-13\n",
      "\n",
      "Para el grupo de edad: adolescentes y adultos_mediana_edad\n",
      "La varianza de los grupos es homogénea 0.9644862152268961\n",
      "\n",
      "Para el grupo de edad: adolescentes y mayores\n",
      "La varianza de los grupos no es homogénea 4.160135700545411e-53\n",
      "\n",
      "Para el grupo de edad: jovenes y adultos_jovenes\n",
      "La varianza de los grupos no es homogénea 1.2374474699447155e-26\n",
      "\n",
      "Para el grupo de edad: jovenes y adultos_mediana_edad\n",
      "La varianza de los grupos no es homogénea 0.0011187790504763504\n",
      "\n",
      "Para el grupo de edad: jovenes y mayores\n",
      "La varianza de los grupos no es homogénea 5.617611724571271e-44\n",
      "\n",
      "Para el grupo de edad: adultos_jovenes y adultos_mediana_edad\n",
      "La varianza de los grupos no es homogénea 9.12909711832689e-17\n",
      "\n",
      "Para el grupo de edad: adultos_jovenes y mayores\n",
      "La varianza de los grupos no es homogénea 1.7884940353137269e-96\n",
      "\n",
      "Para el grupo de edad: adultos_mediana_edad y mayores\n",
      "La varianza de los grupos no es homogénea 1.1724903495923952e-64\n",
      "\n"
     ]
    }
   ],
   "source": [
    "for i, grupo_edad in enumerate(nombres_grupos_edad):\n",
    "    df = globals()[grupo_edad]\n",
    "    \n",
    "    for j in range(i+1, len(nombres_grupos_edad)):\n",
    "        grupo_edad2 = nombres_grupos_edad[j]\n",
    "        df2 = globals()[grupo_edad2]\n",
    "        \n",
    "        print(\"Para el grupo de edad:\", grupo_edad, \"y\", grupo_edad2)\n",
    "        check_variance_homogeneity(df[\"Edad\"], df2[\"Edad\"])\n",
    "        print(\"\")"
   ]
  },
  {
   "cell_type": "markdown",
   "id": "0c74f324",
   "metadata": {},
   "source": [
    "+ La regla general nos dice que al comparar la varianza de dos grupos de edad ésta no suele ser homogénea, excepto para el caso de comparar la varianza del grupo de edad entre adolescentes y adultos jóvenes, ya que ésta es homogénea.\n",
    "\n",
    "\n",
    "+ Incluso si hubiesemos cogido un p-valor inferior de 0.5 como el 0.1, la varianza del grupo de edad adolescentes y jóvenes hubiese sido también homogénea."
   ]
  },
  {
   "cell_type": "markdown",
   "id": "e6ed2726",
   "metadata": {},
   "source": [
    "**CONCLUSIÓN** Podemos resumir que los grupos de edad se distribuyen de manera no normal y la varianza de la mayoría de grupos no es homogénea.\n",
    "\n",
    "---\n"
   ]
  },
  {
   "cell_type": "markdown",
   "id": "f7698344",
   "metadata": {},
   "source": [
    "## <span style=color:darkblue> Test de Hipótesis : Número de ahogamientos por grupos de edad </span>\n",
    "\n",
    "+ El objetivo es analizar si los grupos de edad difieren significativamente en cuanto al número total de ahogamientos\n",
    "\n",
    "$H_0$: No hay diferencias significativas en el número total de ahogamientos entre los grupos de edad\n",
    "\n",
    "$H_A$: Existen diferencias significativas en el número total de ahogamientos entre al menos dos de los grupos de edad\n"
   ]
  },
  {
   "cell_type": "code",
   "execution_count": 211,
   "id": "0979ffe9",
   "metadata": {},
   "outputs": [
    {
     "data": {
      "image/png": "[encoded data removed]",
      "text/plain": [
       "<Figure size 640x480 with 1 Axes>"
      ]
     },
     "metadata": {},
     "output_type": "display_data"
    }
   ],
   "source": [
    "# Observamos el número de ahogamientos por edad para el grupo de adolescentes\n",
    "plt.hist(adolescentes[\"Edad\"])\n",
    "plt.xlabel('Edad')\n",
    "plt.ylabel('Nº de Ahogamientos')\n",
    "plt.title('Grupo de edad: Adolescentes')\n",
    "plt.show()"
   ]
  },
  {
   "cell_type": "markdown",
   "id": "5b59f5e5",
   "metadata": {},
   "source": [
    "+ Los datos nos revelan que para el grupo de edad adolescentes, el número de accidentes acuáticos sufridos por adolescentes con una edad de 15 años ha sido mayor que en el resto. Este procedimiento se sigue para el resto de grupos con el fin de poder aplicar el test de Kruskal-Wallis y poder comprobar si el número de accidentes acuáticos influye dependiendo del grupo de edad."
   ]
  },
  {
   "cell_type": "code",
   "execution_count": 141,
   "id": "dde34489",
   "metadata": {},
   "outputs": [],
   "source": [
    "# Grupos que almacenan el número de ahogamientos por edades\n",
    "ahog_por_edad_adolescentes = adolescentes[\"Edad\"].values\n",
    "ahog_por_edad_jovenes = jovenes[\"Edad\"].values\n",
    "ahog_por_edad_adultos_jovenes = adultos_jovenes[\"Edad\"].values\n",
    "ahog_por_edad_adultos_mediana_edad = adultos_mediana_edad[\"Edad\"].values\n",
    "ahog_por_edad_mayores = mayores[\"Edad\"].values"
   ]
  },
  {
   "cell_type": "code",
   "execution_count": 184,
   "id": "e503af18",
   "metadata": {},
   "outputs": [
    {
     "name": "stdout",
     "output_type": "stream",
     "text": [
      "Para el grupo de edad: ahog_por_edad_adolescentes\n",
      "Los datos de edad no siguen una distribución normal:  8.612617386868548e-23\n",
      "\n",
      "Para el grupo de edad: ahog_por_edad_jovenes\n",
      "Los datos de edad no siguen una distribución normal:  8.574018245282381e-26\n",
      "\n",
      "Para el grupo de edad: ahog_por_edad_adultos_jovenes\n",
      "Los datos de edad no siguen una distribución normal:  1.4281316896580638e-20\n",
      "\n",
      "Para el grupo de edad: ahog_por_edad_adultos_mediana_edad\n",
      "Los datos de edad no siguen una distribución normal:  1.9261138475857655e-25\n",
      "\n",
      "Para el grupo de edad: ahog_por_edad_mayores\n",
      "Los datos de edad no siguen una distribución normal:  1.2002654351964683e-18\n",
      "\n"
     ]
    }
   ],
   "source": [
    "# Comprobamos la distribución normal de los grupos de edad\n",
    "ahogamientos_por_edad = [\"ahog_por_edad_adolescentes\", \"ahog_por_edad_jovenes\", \\\n",
    "                         \"ahog_por_edad_adultos_jovenes\", \"ahog_por_edad_adultos_mediana_edad\", \\\n",
    "                         \"ahog_por_edad_mayores\"]\n",
    "\n",
    "for i, grupo_edad in enumerate(ahogamientos_por_edad):\n",
    "    df = globals()[grupo_edad]    \n",
    "    print(\"Para el grupo de edad:\", grupo_edad)\n",
    "    check_normality(df)\n",
    "    print(\"\")"
   ]
  },
  {
   "cell_type": "markdown",
   "id": "edb22c9f",
   "metadata": {},
   "source": [
    "+ Ningún grupo sigue una distribución normal en sus datos"
   ]
  },
  {
   "cell_type": "code",
   "execution_count": 185,
   "id": "c78cbd7c",
   "metadata": {},
   "outputs": [
    {
     "name": "stdout",
     "output_type": "stream",
     "text": [
      "Para el grupo de edad: ahog_por_edad_adolescentes y ahog_por_edad_jovenes\n",
      "La varianza de los grupos no es homogénea 0.0043770515968284095\n",
      "\n",
      "Para el grupo de edad: ahog_por_edad_adolescentes y ahog_por_edad_adultos_jovenes\n",
      "La varianza de los grupos no es homogénea 1.2047014409277054e-13\n",
      "\n",
      "Para el grupo de edad: ahog_por_edad_adolescentes y ahog_por_edad_adultos_mediana_edad\n",
      "La varianza de los grupos es homogénea 0.9644862152268961\n",
      "\n",
      "Para el grupo de edad: ahog_por_edad_adolescentes y ahog_por_edad_mayores\n",
      "La varianza de los grupos no es homogénea 4.160135700545411e-53\n",
      "\n",
      "Para el grupo de edad: ahog_por_edad_jovenes y ahog_por_edad_adultos_jovenes\n",
      "La varianza de los grupos no es homogénea 1.2374474699447155e-26\n",
      "\n",
      "Para el grupo de edad: ahog_por_edad_jovenes y ahog_por_edad_adultos_mediana_edad\n",
      "La varianza de los grupos no es homogénea 0.0011187790504763504\n",
      "\n",
      "Para el grupo de edad: ahog_por_edad_jovenes y ahog_por_edad_mayores\n",
      "La varianza de los grupos no es homogénea 5.617611724571271e-44\n",
      "\n",
      "Para el grupo de edad: ahog_por_edad_adultos_jovenes y ahog_por_edad_adultos_mediana_edad\n",
      "La varianza de los grupos no es homogénea 9.12909711832689e-17\n",
      "\n",
      "Para el grupo de edad: ahog_por_edad_adultos_jovenes y ahog_por_edad_mayores\n",
      "La varianza de los grupos no es homogénea 1.7884940353137269e-96\n",
      "\n",
      "Para el grupo de edad: ahog_por_edad_adultos_mediana_edad y ahog_por_edad_mayores\n",
      "La varianza de los grupos no es homogénea 1.1724903495923952e-64\n",
      "\n"
     ]
    }
   ],
   "source": [
    "# Comprobamos la homogeneidad de la varianza entre los grupos\n",
    "ahogamientos_por_edad = [\"ahog_por_edad_adolescentes\", \"ahog_por_edad_jovenes\", \\\n",
    "                         \"ahog_por_edad_adultos_jovenes\", \"ahog_por_edad_adultos_mediana_edad\", \\\n",
    "                         \"ahog_por_edad_mayores\"]\n",
    "\n",
    "for i, grupo_edad in enumerate(ahogamientos_por_edad):\n",
    "    df = globals()[grupo_edad]\n",
    "    \n",
    "    for j in range(i+1, len(ahogamientos_por_edad)):\n",
    "        grupo_edad2 = ahogamientos_por_edad[j]\n",
    "        df2 = globals()[grupo_edad2]\n",
    "        \n",
    "        print(\"Para el grupo de edad:\", grupo_edad, \"y\", grupo_edad2)\n",
    "        check_variance_homogeneity(df, df2)\n",
    "        print(\"\")"
   ]
  },
  {
   "cell_type": "markdown",
   "id": "a2628c9d",
   "metadata": {},
   "source": [
    "**CONCLUSIÓN:** Se observa como las varianzas entre todos los grupos es heterogénea, excepto para el grupo de edad de adolescentes y grupo de edad adultos jóvenes. Como se concluye que no se cumple el supuesto de normalidad ni tampoco el supuesto de homogeneidad en la varianza entre los grupos usaremos el test de hipótesis **Kruskal-Wallis**. "
   ]
  },
  {
   "cell_type": "markdown",
   "id": "f30c7c98",
   "metadata": {},
   "source": [
    "### <span style=color:darkblue> Kruskal-Wallis </span>"
   ]
  },
  {
   "cell_type": "code",
   "execution_count": 160,
   "id": "f9b93789",
   "metadata": {},
   "outputs": [],
   "source": [
    "# Test de Kruskal-Wallis // stats.mannwhitneyu()\n",
    "def kruskal_wallis_test(*groups):\n",
    "    \n",
    "    stat, p_value = stats.kruskal(*groups)\n",
    "\n",
    "    if p_value < 0.05:\n",
    "        \n",
    "        print(\"Existen diferencias significativas en el número total de ahogamientos entre al menos dos de los grupos de edad\", p_value)\n",
    "    else:\n",
    "        print( \"No hay diferencias significativas en el número total de ahogamientos entre los grupos de edad\", p_value)\n",
    "    "
   ]
  },
  {
   "cell_type": "code",
   "execution_count": 181,
   "id": "95659ce1",
   "metadata": {},
   "outputs": [
    {
     "name": "stdout",
     "output_type": "stream",
     "text": [
      "Para el grupo de edad: ahog_por_edad_adolescentes y ahog_por_edad_jovenes\n",
      "Existen diferencias significativas en el número total de ahogamientos entre al menos dos de los grupos de edad 0.0\n",
      "\n",
      "Para el grupo de edad: ahog_por_edad_adolescentes y ahog_por_edad_adultos_jovenes\n",
      "Existen diferencias significativas en el número total de ahogamientos entre al menos dos de los grupos de edad 0.0\n",
      "\n",
      "Para el grupo de edad: ahog_por_edad_adolescentes y ahog_por_edad_adultos_mediana_edad\n",
      "Existen diferencias significativas en el número total de ahogamientos entre al menos dos de los grupos de edad 0.0\n",
      "\n",
      "Para el grupo de edad: ahog_por_edad_adolescentes y ahog_por_edad_mayores\n",
      "Existen diferencias significativas en el número total de ahogamientos entre al menos dos de los grupos de edad 0.0\n",
      "\n",
      "Para el grupo de edad: ahog_por_edad_jovenes y ahog_por_edad_adultos_jovenes\n",
      "Existen diferencias significativas en el número total de ahogamientos entre al menos dos de los grupos de edad 0.0\n",
      "\n",
      "Para el grupo de edad: ahog_por_edad_jovenes y ahog_por_edad_adultos_mediana_edad\n",
      "Existen diferencias significativas en el número total de ahogamientos entre al menos dos de los grupos de edad 0.0\n",
      "\n",
      "Para el grupo de edad: ahog_por_edad_jovenes y ahog_por_edad_mayores\n",
      "Existen diferencias significativas en el número total de ahogamientos entre al menos dos de los grupos de edad 0.0\n",
      "\n",
      "Para el grupo de edad: ahog_por_edad_adultos_jovenes y ahog_por_edad_adultos_mediana_edad\n",
      "Existen diferencias significativas en el número total de ahogamientos entre al menos dos de los grupos de edad 0.0\n",
      "\n",
      "Para el grupo de edad: ahog_por_edad_adultos_jovenes y ahog_por_edad_mayores\n",
      "Existen diferencias significativas en el número total de ahogamientos entre al menos dos de los grupos de edad 0.0\n",
      "\n",
      "Para el grupo de edad: ahog_por_edad_adultos_mediana_edad y ahog_por_edad_mayores\n",
      "Existen diferencias significativas en el número total de ahogamientos entre al menos dos de los grupos de edad 0.0\n",
      "\n"
     ]
    }
   ],
   "source": [
    "# Comprobamos si hay diferencias en el número de ahogamientos por grupos de edad\n",
    "for i, grupo_edad in enumerate(ahogamientos_por_edad):\n",
    "    df = globals()[grupo_edad]\n",
    "    \n",
    "    for j in range(i+1, len(ahogamientos_por_edad)):\n",
    "        grupo_edad2 = ahogamientos_por_edad[j]\n",
    "        df2 = globals()[grupo_edad2]\n",
    "        \n",
    "        print(\"Para el grupo de edad:\", grupo_edad, \"y\", grupo_edad2)\n",
    "        kruskal_wallis_test(df, df2)\n",
    "        print(\"\")"
   ]
  },
  {
   "cell_type": "code",
   "execution_count": 158,
   "id": "8e6cde79",
   "metadata": {},
   "outputs": [
    {
     "name": "stdout",
     "output_type": "stream",
     "text": [
      "Existen diferencias significativas en el número total de ahogamientos entre al menos dos de los grupos de edad\n",
      " 0.0\n"
     ]
    }
   ],
   "source": [
    "# Analizando si hay diferencias a nivel global (entre todos los grupos)\n",
    "kruskal_wallis_test(ahog_por_edad_adolescentes, ahog_por_edad_jovenes, ahog_por_edad_adultos_jovenes, ahog_por_edad_adultos_mediana_edad, ahog_por_edad_mayores)"
   ]
  },
  {
   "cell_type": "markdown",
   "id": "b720dc37",
   "metadata": {},
   "source": [
    "**CONCLUSIÓN:** Se puede observar como claramente hay diferencias significativas entre el número de ahogamientos entre los grupos de edad."
   ]
  },
  {
   "cell_type": "markdown",
   "id": "09545d18",
   "metadata": {},
   "source": [
    "### <span style=color:darkblue> MannWhitneyU </span>\n"
   ]
  },
  {
   "cell_type": "code",
   "execution_count": 161,
   "id": "cec87b2c",
   "metadata": {},
   "outputs": [],
   "source": [
    "# Test de Mann Whitney u \n",
    "def MannWhitneyU_test(*groups):\n",
    "    \n",
    "    stat, p_value = stats.mannwhitneyu(*groups)\n",
    "\n",
    "    if p_value < 0.05:\n",
    "        \n",
    "        print(\"Existen diferencias significativas en el número total de ahogamientos entre al menos dos de los grupos de edad\", round(p_value, 4))\n",
    "    else:\n",
    "        print( \"No hay diferencias significativas en el número total de ahogamientos entre los grupos de edad\", round(p_value, 4))\n"
   ]
  },
  {
   "cell_type": "code",
   "execution_count": 162,
   "id": "2ddb4b31",
   "metadata": {},
   "outputs": [
    {
     "name": "stdout",
     "output_type": "stream",
     "text": [
      "Para el grupo de edad: ahog_por_edad_adolescentes y ahog_por_edad_jovenes\n",
      "Existen diferencias significativas en el número total de ahogamientos entre al menos dos de los grupos de edad 0.0\n",
      "\n",
      "Para el grupo de edad: ahog_por_edad_adolescentes y ahog_por_edad_adultos_jovenes\n",
      "Existen diferencias significativas en el número total de ahogamientos entre al menos dos de los grupos de edad 0.0\n",
      "\n",
      "Para el grupo de edad: ahog_por_edad_adolescentes y ahog_por_edad_adultos_mediana_edad\n",
      "Existen diferencias significativas en el número total de ahogamientos entre al menos dos de los grupos de edad 0.0\n",
      "\n",
      "Para el grupo de edad: ahog_por_edad_adolescentes y ahog_por_edad_mayores\n",
      "Existen diferencias significativas en el número total de ahogamientos entre al menos dos de los grupos de edad 0.0\n",
      "\n",
      "Para el grupo de edad: ahog_por_edad_jovenes y ahog_por_edad_adultos_jovenes\n",
      "Existen diferencias significativas en el número total de ahogamientos entre al menos dos de los grupos de edad 0.0\n",
      "\n",
      "Para el grupo de edad: ahog_por_edad_jovenes y ahog_por_edad_adultos_mediana_edad\n",
      "Existen diferencias significativas en el número total de ahogamientos entre al menos dos de los grupos de edad 0.0\n",
      "\n",
      "Para el grupo de edad: ahog_por_edad_jovenes y ahog_por_edad_mayores\n",
      "Existen diferencias significativas en el número total de ahogamientos entre al menos dos de los grupos de edad 0.0\n",
      "\n",
      "Para el grupo de edad: ahog_por_edad_adultos_jovenes y ahog_por_edad_adultos_mediana_edad\n",
      "Existen diferencias significativas en el número total de ahogamientos entre al menos dos de los grupos de edad 0.0\n",
      "\n",
      "Para el grupo de edad: ahog_por_edad_adultos_jovenes y ahog_por_edad_mayores\n",
      "Existen diferencias significativas en el número total de ahogamientos entre al menos dos de los grupos de edad 0.0\n",
      "\n",
      "Para el grupo de edad: ahog_por_edad_adultos_mediana_edad y ahog_por_edad_mayores\n",
      "Existen diferencias significativas en el número total de ahogamientos entre al menos dos de los grupos de edad 0.0\n",
      "\n"
     ]
    }
   ],
   "source": [
    "# Comprobamos si hay diferencias en el número de ahogamientos por grupos de edad\n",
    "for i, grupo_edad in enumerate(ahogamientos_por_edad):\n",
    "    df = globals()[grupo_edad]\n",
    "    \n",
    "    for j in range(i+1, len(ahogamientos_por_edad)):\n",
    "        grupo_edad2 = ahogamientos_por_edad[j]\n",
    "        df2 = globals()[grupo_edad2]\n",
    "        \n",
    "        print(\"Para el grupo de edad:\", grupo_edad, \"y\", grupo_edad2)\n",
    "        kruskal_wallis_test(df, df2)\n",
    "        print(\"\")"
   ]
  },
  {
   "cell_type": "markdown",
   "id": "49b3875c",
   "metadata": {},
   "source": [
    "---\n",
    "<span style=color:red> **DUDA** </span> No se si es mejor usar el test de kruskal-Wallis o U Mann Whitney\n",
    "\n",
    "- **Kruska-Wallis**\n",
    "\n",
    "    - Asume que las observaciones en cada grupo son independientes entre sí, las mediciones en un grupo no están relacionadas por las mediciones en otros grupos.\n",
    "    - La variable que se analiza es ordinal (No se requiere que sigan una distribución normal)\n",
    "    - Las distribuciones son similares entre los grupos (homogeneidad de la distribución)\n",
    "    \n",
    "    \n",
    "- **U Mann Whitney**\n",
    "\n",
    "    - Asume también que las observaciones de cada grupo son independientes entre sí.\n",
    "    - La variable que se analiza es ordinal\n",
    "    - No asume una distribución particular para los datos en cada uno de los grupos, pero si asume que la distribución sea similar entre los grupos.\n",
    "    "
   ]
  },
  {
   "cell_type": "markdown",
   "id": "1e646dd0",
   "metadata": {},
   "source": [
    "# <span style=color:darkblue> Test de hipótesis ahogamientos mortales</span>"
   ]
  },
  {
   "cell_type": "markdown",
   "id": "b5c50ae2",
   "metadata": {},
   "source": [
    "$H_0$: No hay asociación entre el grupo de edad y el número de ahogamientos mortales.\n",
    "\n",
    "$H_A$: Existe asociación entre el grupo de edad y el número de ahogamientos mortales.\n"
   ]
  },
  {
   "cell_type": "code",
   "execution_count": 24,
   "id": "a4e63c8f",
   "metadata": {
    "run_control": {
     "marked": false
    }
   },
   "outputs": [],
   "source": [
    "# Creamos una copia de los datos de ahogamientos\n",
    "datos_ahogamientos_mortal = datos_ahogamientos.copy()\n",
    "\n",
    "# Creamos variable fictícia si se ha producido ahogamiento 1 o no 0\n",
    "datos_ahogamientos_mortal[\"AhogamientoMortal\"] = np.where(datos_ahogamientos_mortal[\"Pronostico\"] == \"Ahogamiento mortal\", 1, 0)                                                                                                                                                                  "
   ]
  },
  {
   "cell_type": "code",
   "execution_count": 25,
   "id": "3bfb8774",
   "metadata": {},
   "outputs": [
    {
     "name": "stdout",
     "output_type": "stream",
     "text": [
      "Grupo 1: 0 a 15 años  1027\n",
      "Grupo 2: 16 a 30 años  1115\n",
      "Grupo 3: 31 a 45 años  1063\n",
      "Grupo 4: 46 a 60 años  1241\n",
      "Grupo 5: 61 años en adelante  1990\n"
     ]
    }
   ],
   "source": [
    "edad = datos_ahogamientos_mortal[\"Edad\"].dropna() # No tenemos en cuenta los valores faltantes\n",
    "\n",
    "# Grupo 1\n",
    "print(\"Grupo 1: 0 a 15 años \", edad[(edad > 0) & (edad <= 15)].count())\n",
    "\n",
    "# Grupo 2\n",
    "print(\"Grupo 2: 16 a 30 años \", edad[(edad >= 16) & (edad <= 30)].count())\n",
    "\n",
    "# Grupo 3\n",
    "print(\"Grupo 3: 31 a 45 años \", edad[(edad >= 31) & (edad <= 45)].count())\n",
    "\n",
    "# Grupo 4\n",
    "print(\"Grupo 4: 46 a 60 años \" , edad[(edad >= 46) & (edad <= 60)].count())\n",
    "\n",
    "# Grupo 5\n",
    "print(\"Grupo 5: 61 años en adelante \", edad[(edad >= 61)].count())"
   ]
  },
  {
   "cell_type": "code",
   "execution_count": 26,
   "id": "73373dee",
   "metadata": {},
   "outputs": [],
   "source": [
    "# Guardamos cada grupo en una variable\n",
    "adolescentes = datos_ahogamientos_mortal[(datos_ahogamientos_mortal[\"Edad\"] > 0) & (datos_ahogamientos_mortal[\"Edad\"] <= 15)]\n",
    "\n",
    "jovenes = datos_ahogamientos_mortal[(datos_ahogamientos_mortal[\"Edad\"] >= 16) & (datos_ahogamientos_mortal[\"Edad\"] <= 30)]\n",
    "\n",
    "adultos_jovenes = datos_ahogamientos_mortal[(datos_ahogamientos_mortal[\"Edad\"] > 31) & (datos_ahogamientos_mortal[\"Edad\"] <= 45)]\n",
    "\n",
    "adultos_mediana_edad = datos_ahogamientos_mortal[(datos_ahogamientos_mortal[\"Edad\"] >= 46) & (datos_ahogamientos_mortal[\"Edad\"] <= 60)]\n",
    "\n",
    "mayores = datos_ahogamientos_mortal[(datos_ahogamientos_mortal[\"Edad\"] >= 61)]"
   ]
  },
  {
   "cell_type": "code",
   "execution_count": 27,
   "id": "bae96e15",
   "metadata": {},
   "outputs": [
    {
     "data": {
      "text/plain": [
       "[[array([814, 213])],\n",
       " [array([762, 353])],\n",
       " [array([563, 472])],\n",
       " [array([761, 480])],\n",
       " [array([1404,  586])]]"
      ]
     },
     "execution_count": 27,
     "metadata": {},
     "output_type": "execute_result"
    }
   ],
   "source": [
    "# Creamos la tabla de contingencia de las frecuencias de ahogamiento mortal no mortal por grupo de edad\n",
    "tabla_contingencia = [[adolescentes[\"AhogamientoMortal\"].value_counts().values],\n",
    "     [jovenes[\"AhogamientoMortal\"].value_counts().values],\n",
    "    [adultos_jovenes[\"AhogamientoMortal\"].value_counts().values],\n",
    "    [adultos_mediana_edad[\"AhogamientoMortal\"].value_counts().values],\n",
    "    [mayores[\"AhogamientoMortal\"].value_counts().values]]\n",
    "\n",
    "tabla_contingencia"
   ]
  },
  {
   "cell_type": "code",
   "execution_count": 31,
   "id": "81103605",
   "metadata": {},
   "outputs": [
    {
     "name": "stdout",
     "output_type": "stream",
     "text": [
      "P-valor: 9.21304813991829e-37\n"
     ]
    }
   ],
   "source": [
    "from scipy.stats import chi2_contingency\n",
    "# Realizar el test de chi-cuadrado\n",
    "chi2, p_valor, grados_libertad, expected = chi2_contingency(tabla_contingencia)\n",
    "\n",
    "# resultados\n",
    "print(\"P-valor:\", p_valor)"
   ]
  },
  {
   "cell_type": "markdown",
   "id": "098781eb",
   "metadata": {},
   "source": [
    "+ Observamos como obtenemos un p-valor inferior el nivel de significación, de modo que podemos concluir que existe una asociación significativa entre el grupo de edad y la mortalidad del accidente acuático. En otras palabras, hay evidencia estadística que para afirmar que el grupo de edad influye en la mortalidad del accidente acuático."
   ]
  },
  {
   "cell_type": "markdown",
   "id": "6f4a9cf3",
   "metadata": {},
   "source": [
    "# <span style=color:darkblue> Test de hipótesis número de ahogamientos valorando la temporalidad</span>\n",
    "\n",
    "+ Con este test de hipotesis queremos ver si hay diferencias significativas en el número de ahogamientos totales por grupos de edad valorando la temporalidad, ya sea por meses, años e incluso dias. Es decir, observar si hay diferencias significativas entre el grupo adolescentes y mayores en el número de ahogamientos por meses, años o dias\n"
   ]
  },
  {
   "cell_type": "code",
   "execution_count": 189,
   "id": "188e10a2",
   "metadata": {
    "scrolled": true
   },
   "outputs": [
    {
     "data": {
      "text/html": [
       "<div>\n",
       "<style scoped>\n",
       "    .dataframe tbody tr th:only-of-type {\n",
       "        vertical-align: middle;\n",
       "    }\n",
       "\n",
       "    .dataframe tbody tr th {\n",
       "        vertical-align: top;\n",
       "    }\n",
       "\n",
       "    .dataframe thead th {\n",
       "        text-align: right;\n",
       "    }\n",
       "</style>\n",
       "<table border=\"1\" class=\"dataframe\">\n",
       "  <thead>\n",
       "    <tr style=\"text-align: right;\">\n",
       "      <th></th>\n",
       "      <th>Dia</th>\n",
       "      <th>Mes</th>\n",
       "      <th>Anio</th>\n",
       "      <th>Fecha</th>\n",
       "      <th>IdAhogado</th>\n",
       "      <th>IdPersona</th>\n",
       "      <th>Localidad</th>\n",
       "      <th>Provincia</th>\n",
       "      <th>CCAA</th>\n",
       "      <th>Hora</th>\n",
       "      <th>Latitud</th>\n",
       "      <th>Longitud</th>\n",
       "      <th>Sexo</th>\n",
       "      <th>Edad</th>\n",
       "      <th>Nacionalidad</th>\n",
       "      <th>Origen</th>\n",
       "      <th>Extraccion</th>\n",
       "      <th>Titular</th>\n",
       "      <th>Causa</th>\n",
       "      <th>TipoAhogamiento</th>\n",
       "      <th>Factor</th>\n",
       "      <th>Intervencion</th>\n",
       "      <th>Pronostico</th>\n",
       "      <th>Localizacion</th>\n",
       "      <th>Riesgo</th>\n",
       "      <th>Reanimacion</th>\n",
       "      <th>Vigilancia</th>\n",
       "      <th>Actividad</th>\n",
       "      <th>Deteccion</th>\n",
       "      <th>Enlace1</th>\n",
       "      <th>Indicador</th>\n",
       "      <th>Estacion</th>\n",
       "      <th>Altitud</th>\n",
       "      <th>TempMed</th>\n",
       "      <th>Precip</th>\n",
       "      <th>TempMin</th>\n",
       "      <th>TempMax</th>\n",
       "      <th>DirViento</th>\n",
       "      <th>VelMedViento</th>\n",
       "      <th>RachaViento</th>\n",
       "      <th>TiempoSol</th>\n",
       "      <th>PresionMax</th>\n",
       "      <th>PresionMin</th>\n",
       "    </tr>\n",
       "  </thead>\n",
       "  <tbody>\n",
       "    <tr>\n",
       "      <th>35</th>\n",
       "      <td>8</td>\n",
       "      <td>12</td>\n",
       "      <td>2020</td>\n",
       "      <td>2020-12-08</td>\n",
       "      <td>7429</td>\n",
       "      <td>8529</td>\n",
       "      <td>Tudela, Rio Ebro</td>\n",
       "      <td>Navarra</td>\n",
       "      <td>Navarra</td>\n",
       "      <td>16:30</td>\n",
       "      <td>42.064179</td>\n",
       "      <td>-1.600236</td>\n",
       "      <td>Hombre</td>\n",
       "      <td>9.0</td>\n",
       "      <td>España</td>\n",
       "      <td>Local</td>\n",
       "      <td>Ciudadano</td>\n",
       "      <td>Un niño de 9 años, salvado del Ebro por un hér...</td>\n",
       "      <td>Accidente, caída o zambullida accidentales</td>\n",
       "      <td>Muerte previa a inmersion</td>\n",
       "      <td>NaN</td>\n",
       "      <td>Asistencia por transeúntes no adiestrados</td>\n",
       "      <td>Rescate y traslado a supervisión médica</td>\n",
       "      <td>Rios, canales y similares</td>\n",
       "      <td>Moderadas condiciones metereológicas o del agu...</td>\n",
       "      <td>NaN</td>\n",
       "      <td>No vigilado</td>\n",
       "      <td>Actividad cerca del agua</td>\n",
       "      <td>Acompañante, familiar, amigo</td>\n",
       "      <td>#https://www.diariodenavarra.es/noticias/navar...</td>\n",
       "      <td>9263D</td>\n",
       "      <td>PAMPLONA, AEROPUERTO</td>\n",
       "      <td>459</td>\n",
       "      <td>4.2</td>\n",
       "      <td>14.0</td>\n",
       "      <td>1.6</td>\n",
       "      <td>6.9</td>\n",
       "      <td>22.0</td>\n",
       "      <td>3.6</td>\n",
       "      <td>14.4</td>\n",
       "      <td>1.0</td>\n",
       "      <td>961.2</td>\n",
       "      <td>946.7</td>\n",
       "    </tr>\n",
       "    <tr>\n",
       "      <th>91</th>\n",
       "      <td>4</td>\n",
       "      <td>11</td>\n",
       "      <td>2020</td>\n",
       "      <td>2020-11-04</td>\n",
       "      <td>7350</td>\n",
       "      <td>8414</td>\n",
       "      <td>Ronda</td>\n",
       "      <td>Málaga</td>\n",
       "      <td>Andalucía</td>\n",
       "      <td>NaN</td>\n",
       "      <td>36.741158</td>\n",
       "      <td>-5.158385</td>\n",
       "      <td>Hombre</td>\n",
       "      <td>1.0</td>\n",
       "      <td>España</td>\n",
       "      <td>Local</td>\n",
       "      <td>Cuerpo de Seguridad o Emergencias</td>\n",
       "      <td>Sonia, su padre y su bebé, rescatados de la ri...</td>\n",
       "      <td>Riadas, desbordamientos, inundaciones</td>\n",
       "      <td>Perdida de Control</td>\n",
       "      <td>NaN</td>\n",
       "      <td>Rescate por personal adiestrado con equipamiento</td>\n",
       "      <td>Rescate sin consecuencias</td>\n",
       "      <td>Rios, canales y similares</td>\n",
       "      <td>Moderadas condiciones metereológicas o del agu...</td>\n",
       "      <td>Sin Reanimacion</td>\n",
       "      <td>No vigilado</td>\n",
       "      <td>Actividad cerca del agua</td>\n",
       "      <td>Acompañante, familiar, amigo</td>\n",
       "      <td>#https://www.canalsur.es/television/sonia-su-p...</td>\n",
       "      <td>6155A</td>\n",
       "      <td>MÁLAGA AEROPUERTO</td>\n",
       "      <td>7</td>\n",
       "      <td>18.4</td>\n",
       "      <td>12.3</td>\n",
       "      <td>15.6</td>\n",
       "      <td>21.1</td>\n",
       "      <td>11.0</td>\n",
       "      <td>2.2</td>\n",
       "      <td>18.9</td>\n",
       "      <td>0.3</td>\n",
       "      <td>1022.4</td>\n",
       "      <td>1011.5</td>\n",
       "    </tr>\n",
       "  </tbody>\n",
       "</table>\n",
       "</div>"
      ],
      "text/plain": [
       "    Dia  Mes  Anio      Fecha  IdAhogado  IdPersona         Localidad  \\\n",
       "35    8   12  2020 2020-12-08       7429       8529  Tudela, Rio Ebro   \n",
       "91    4   11  2020 2020-11-04       7350       8414             Ronda   \n",
       "\n",
       "   Provincia       CCAA   Hora    Latitud   Longitud    Sexo  Edad  \\\n",
       "35   Navarra    Navarra  16:30  42.064179  -1.600236  Hombre   9.0   \n",
       "91    Málaga  Andalucía    NaN  36.741158  -5.158385  Hombre   1.0   \n",
       "\n",
       "   Nacionalidad Origen                         Extraccion  \\\n",
       "35       España  Local                          Ciudadano   \n",
       "91       España  Local  Cuerpo de Seguridad o Emergencias   \n",
       "\n",
       "                                              Titular  \\\n",
       "35  Un niño de 9 años, salvado del Ebro por un hér...   \n",
       "91  Sonia, su padre y su bebé, rescatados de la ri...   \n",
       "\n",
       "                                         Causa            TipoAhogamiento  \\\n",
       "35  Accidente, caída o zambullida accidentales  Muerte previa a inmersion   \n",
       "91       Riadas, desbordamientos, inundaciones         Perdida de Control   \n",
       "\n",
       "   Factor                                      Intervencion  \\\n",
       "35    NaN         Asistencia por transeúntes no adiestrados   \n",
       "91    NaN  Rescate por personal adiestrado con equipamiento   \n",
       "\n",
       "                                 Pronostico               Localizacion  \\\n",
       "35  Rescate y traslado a supervisión médica  Rios, canales y similares   \n",
       "91                Rescate sin consecuencias  Rios, canales y similares   \n",
       "\n",
       "                                               Riesgo      Reanimacion  \\\n",
       "35  Moderadas condiciones metereológicas o del agu...              NaN   \n",
       "91  Moderadas condiciones metereológicas o del agu...  Sin Reanimacion   \n",
       "\n",
       "     Vigilancia                 Actividad                     Deteccion  \\\n",
       "35  No vigilado  Actividad cerca del agua  Acompañante, familiar, amigo   \n",
       "91  No vigilado  Actividad cerca del agua  Acompañante, familiar, amigo   \n",
       "\n",
       "                                              Enlace1 Indicador  \\\n",
       "35  #https://www.diariodenavarra.es/noticias/navar...     9263D   \n",
       "91  #https://www.canalsur.es/television/sonia-su-p...     6155A   \n",
       "\n",
       "                Estacion  Altitud  TempMed  Precip  TempMin  TempMax  \\\n",
       "35  PAMPLONA, AEROPUERTO      459      4.2    14.0      1.6      6.9   \n",
       "91     MÁLAGA AEROPUERTO        7     18.4    12.3     15.6     21.1   \n",
       "\n",
       "    DirViento  VelMedViento  RachaViento  TiempoSol  PresionMax  PresionMin  \n",
       "35       22.0           3.6         14.4        1.0       961.2       946.7  \n",
       "91       11.0           2.2         18.9        0.3      1022.4      1011.5  "
      ]
     },
     "execution_count": 189,
     "metadata": {},
     "output_type": "execute_result"
    }
   ],
   "source": [
    "adolescentes.head(2)"
   ]
  },
  {
   "cell_type": "code",
   "execution_count": 190,
   "id": "ee844e55",
   "metadata": {},
   "outputs": [],
   "source": [
    "# Convertir la variable fecha a datetime\n",
    "datos_ahogamientos['Fecha'] = pd.to_datetime(datos_ahogamientos['Fecha'], format='%d-%m-%Y')\n",
    "\n",
    "# Dividir la variable fecha en dia, mes y año\n",
    "datos_ahogamientos[\"Dia\"] = datos_ahogamientos[\"Fecha\"].dt.day\n",
    "datos_ahogamientos[\"Mes\"] = datos_ahogamientos[\"Fecha\"].dt.month\n",
    "datos_ahogamientos[\"Anio\"] = datos_ahogamientos[\"Fecha\"].dt.year\n",
    "\n",
    "\n",
    "# Reordenar las columnas colocando 'Dia', 'Mes' y 'Año' al principio\n",
    "datos_ahogamientos.insert(0, \"Anio\", datos_ahogamientos.pop(\"Anio\"))\n",
    "datos_ahogamientos.insert(0, \"Mes\", datos_ahogamientos.pop(\"Mes\"))\n",
    "datos_ahogamientos.insert(0, \"Dia\", datos_ahogamientos.pop(\"Dia\"))"
   ]
  },
  {
   "cell_type": "code",
   "execution_count": 191,
   "id": "62d7b6f0",
   "metadata": {},
   "outputs": [],
   "source": [
    "# Guardamos cada grupo en una variable\n",
    "adolescentes = datos_ahogamientos[(datos_ahogamientos[\"Edad\"] > 0) & (datos_ahogamientos[\"Edad\"] <= 15)]\n",
    "\n",
    "jovenes = datos_ahogamientos[(datos_ahogamientos[\"Edad\"] >= 16) & (datos_ahogamientos[\"Edad\"] <= 30)]\n",
    "\n",
    "adultos_jovenes = datos_ahogamientos[(datos_ahogamientos[\"Edad\"] > 31) & (datos_ahogamientos[\"Edad\"] <= 45)]\n",
    "\n",
    "adultos_mediana_edad = datos_ahogamientos[(datos_ahogamientos[\"Edad\"] >= 46) & (datos_ahogamientos[\"Edad\"] <= 60)]\n",
    "\n",
    "mayores = datos_ahogamientos[(datos_ahogamientos[\"Edad\"] >= 61)]"
   ]
  },
  {
   "cell_type": "markdown",
   "id": "bed8745c",
   "metadata": {},
   "source": [
    "## <span style=color:darkblue>Mes</span>\n",
    "\n",
    "### <span style=color:darkblue> Test de Hipótesis : Número de ahogamientos por grupos de edad por MES </span>\n",
    "\n",
    "+ El objetivo es analizar si los grupos de edad difieren significativamente en cuanto al número total de ahogamientos\n",
    "\n",
    "$H_0$: No hay diferencias significativas en el número total de ahogamientos entre los grupos de edad por mes\n",
    "\n",
    "$H_A$: Existen diferencias significativas en el número total de ahogamientos entre al menos dos de los grupos de edad por mes\n"
   ]
  },
  {
   "cell_type": "code",
   "execution_count": 218,
   "id": "0980c416",
   "metadata": {},
   "outputs": [
    {
     "data": {
      "image/png": "[encoded data removed]",
      "text/plain": [
       "<Figure size 2000x500 with 5 Axes>"
      ]
     },
     "metadata": {},
     "output_type": "display_data"
    }
   ],
   "source": [
    "# Obtenemos los datos de ahogamientos por grupos de edad y temporalidad (Mes)\n",
    "ahogamientos_por_mes = [adolescentes['Mes'], jovenes['Mes'], adultos_jovenes['Mes'], adultos_mediana_edad['Mes'], mayores['Mes']]\n",
    "\n",
    "# Creamos el framework\n",
    "fig, axs = plt.subplots(1, len(ahogamientos_por_mes), figsize=(20, 5))\n",
    "\n",
    "for i, grupo in enumerate(ahogamientos_por_mes):\n",
    "    axs[i].hist(grupo)\n",
    "    axs[i].set_xlabel('Mes')\n",
    "    axs[i].set_ylabel('Nº de accidentes acuáticos')    \n",
    "    \n",
    "    # Añadir el título correspondiente al grupo de edad actual\n",
    "    axs[i].set_title(nombres_grupos_edad[i])\n",
    "    \n",
    "fig.suptitle(\"HISTOGRAMA POR GRUPOS DE EDAD POR MES\")\n",
    "plt.tight_layout()\n",
    "plt.show()"
   ]
  },
  {
   "cell_type": "markdown",
   "id": "6d72a2e6",
   "metadata": {},
   "source": [
    "+ Podemos ver como el número de ahogamientos por mes son muy similares entre los grupos de edad, donde claramente el pico lo encontramos en los meses de verano. "
   ]
  },
  {
   "cell_type": "markdown",
   "id": "f3ced257",
   "metadata": {},
   "source": [
    "### <span style=color:darkblue>Test de normalidad</span>"
   ]
  },
  {
   "cell_type": "code",
   "execution_count": 223,
   "id": "55c9429c",
   "metadata": {},
   "outputs": [
    {
     "name": "stdout",
     "output_type": "stream",
     "text": [
      "Para el grupo de edad: adolescentes\n",
      "Los datos de edad no siguen una distribución normal:  3.876122331433721e-23\n",
      "\n",
      "Para el grupo de edad: jovenes\n",
      "Los datos de edad no siguen una distribución normal:  6.522115436754782e-19\n",
      "\n",
      "Para el grupo de edad: adultos_jovenes\n",
      "Los datos de edad no siguen una distribución normal:  5.132270234726087e-18\n",
      "\n",
      "Para el grupo de edad: adultos_mediana_edad\n",
      "Los datos de edad no siguen una distribución normal:  1.289821824425141e-19\n",
      "\n",
      "Para el grupo de edad: mayores\n",
      "Los datos de edad no siguen una distribución normal:  5.205984699347037e-27\n",
      "\n"
     ]
    }
   ],
   "source": [
    "# Con el test de Shapiro-Wilk se evalúa si los datos se desvían significativamente de la distribución normal \n",
    "# Es importante tener en cuenta que aún pueden haber casos en los que las desviaciones sean lo suficientemente significativas como para rechazar la hipótesis de normalidad\n",
    "for i, grupo in enumerate(ahogamientos_por_mes):\n",
    "    \n",
    "    print(\"Para el grupo de edad:\", nombres_grupos_edad[i])\n",
    "    check_normality(grupo.values)\n",
    "    print(\"\")"
   ]
  },
  {
   "cell_type": "markdown",
   "id": "3b1d55de",
   "metadata": {},
   "source": [
    "### <span style=color:darkblue>Test de homogeneidad en la varianza</span>"
   ]
  },
  {
   "cell_type": "code",
   "execution_count": 224,
   "id": "98bd9593",
   "metadata": {
    "scrolled": false
   },
   "outputs": [
    {
     "name": "stdout",
     "output_type": "stream",
     "text": [
      "Para el grupo de edad: adolescentes y jovenes\n",
      "La varianza de los grupos no es homogénea 2.245092192748399e-23\n",
      "\n",
      "Para el grupo de edad: adolescentes y adultos_jovenes\n",
      "La varianza de los grupos no es homogénea 1.575507575613447e-32\n",
      "\n",
      "Para el grupo de edad: adolescentes y adultos_mediana_edad\n",
      "La varianza de los grupos no es homogénea 1.4588701705350848e-34\n",
      "\n",
      "Para el grupo de edad: adolescentes y mayores\n",
      "La varianza de los grupos no es homogénea 3.1908296952530086e-21\n",
      "\n",
      "Para el grupo de edad: jovenes y adultos_jovenes\n",
      "La varianza de los grupos no es homogénea 0.044912518728772256\n",
      "\n",
      "Para el grupo de edad: jovenes y adultos_mediana_edad\n",
      "La varianza de los grupos no es homogénea 0.044059784559379804\n",
      "\n",
      "Para el grupo de edad: jovenes y mayores\n",
      "La varianza de los grupos es homogénea 0.12646367122096486\n",
      "\n",
      "Para el grupo de edad: adultos_jovenes y adultos_mediana_edad\n",
      "La varianza de los grupos es homogénea 0.9225086748837197\n",
      "\n",
      "Para el grupo de edad: adultos_jovenes y mayores\n",
      "La varianza de los grupos no es homogénea 0.0001542036845611788\n",
      "\n",
      "Para el grupo de edad: adultos_mediana_edad y mayores\n",
      "La varianza de los grupos no es homogénea 9.189619176727777e-05\n",
      "\n"
     ]
    }
   ],
   "source": [
    "for i, grupo in enumerate(ahogamientos_por_mes):\n",
    "    \n",
    "    for j in range(i+1, len(ahogamientos_por_mes)):\n",
    "        grupo2 = ahogamientos_por_mes[j]\n",
    "        \n",
    "        print(\"Para el grupo de edad:\", nombres_grupos_edad[i], \"y\", nombres_grupos_edad[j])\n",
    "        check_variance_homogeneity(grupo, grupo2)\n",
    "        print(\"\")"
   ]
  },
  {
   "cell_type": "markdown",
   "id": "cff67ee0",
   "metadata": {},
   "source": [
    "+ Las varianzas entre los grupos de edad analizando la componente temporalidad por mes observamos que son heterogéneas, excepto por el caso de la homogeneidad en las varianzas entre el grupo de edad jovenes y mayores; adultos jóvenes y adultos de mediana edad."
   ]
  },
  {
   "cell_type": "markdown",
   "id": "20935884",
   "metadata": {},
   "source": [
    "### <span style=color:darkblue>Kruskall-Wallis Test</span>"
   ]
  },
  {
   "cell_type": "code",
   "execution_count": 225,
   "id": "61f2d7a3",
   "metadata": {},
   "outputs": [
    {
     "name": "stdout",
     "output_type": "stream",
     "text": [
      "Para el grupo de edad: adolescentes y jovenes\n",
      "No hay diferencias significativas en el número total de ahogamientos entre los grupos de edad 0.4192322788982068\n",
      "\n",
      "Para el grupo de edad: adolescentes y adultos_jovenes\n",
      "No hay diferencias significativas en el número total de ahogamientos entre los grupos de edad 0.34724803706446106\n",
      "\n",
      "Para el grupo de edad: adolescentes y adultos_mediana_edad\n",
      "No hay diferencias significativas en el número total de ahogamientos entre los grupos de edad 0.15333321354410337\n",
      "\n",
      "Para el grupo de edad: adolescentes y mayores\n",
      "Existen diferencias significativas en el número total de ahogamientos entre al menos dos de los grupos de edad 1.052936600747112e-05\n",
      "\n",
      "Para el grupo de edad: jovenes y adultos_jovenes\n",
      "No hay diferencias significativas en el número total de ahogamientos entre los grupos de edad 0.12981843233207874\n",
      "\n",
      "Para el grupo de edad: jovenes y adultos_mediana_edad\n",
      "No hay diferencias significativas en el número total de ahogamientos entre los grupos de edad 0.05095529557702177\n",
      "\n",
      "Para el grupo de edad: jovenes y mayores\n",
      "Existen diferencias significativas en el número total de ahogamientos entre al menos dos de los grupos de edad 3.644786981625587e-06\n",
      "\n",
      "Para el grupo de edad: adultos_jovenes y adultos_mediana_edad\n",
      "No hay diferencias significativas en el número total de ahogamientos entre los grupos de edad 0.7391993416786284\n",
      "\n",
      "Para el grupo de edad: adultos_jovenes y mayores\n",
      "Existen diferencias significativas en el número total de ahogamientos entre al menos dos de los grupos de edad 0.008026021157837132\n",
      "\n",
      "Para el grupo de edad: adultos_mediana_edad y mayores\n",
      "Existen diferencias significativas en el número total de ahogamientos entre al menos dos de los grupos de edad 0.01810408407300893\n",
      "\n"
     ]
    }
   ],
   "source": [
    "# Kruskall-Wallis Test\n",
    "# Comprobamos si hay diferencias en el número de ahogamientos por grupos de edad\n",
    "for i, grupo in enumerate(ahogamientos_por_mes):\n",
    "    for j in range(i+1, len(ahogamientos_por_mes)):\n",
    "        grupo2 = ahogamientos_por_mes[j]\n",
    "        \n",
    "        print(\"Para el grupo de edad:\", nombres_grupos_edad[i], \"y\", nombres_grupos_edad[j])\n",
    "        kruskal_wallis_test(grupo, grupo2)\n",
    "        print(\"\")"
   ]
  },
  {
   "cell_type": "code",
   "execution_count": 196,
   "id": "7851c2d5",
   "metadata": {
    "scrolled": false
   },
   "outputs": [
    {
     "name": "stdout",
     "output_type": "stream",
     "text": [
      "Existen diferencias significativas en el número total de ahogamientos entre al menos dos de los grupos de edad 8.053431017558244e-06\n"
     ]
    }
   ],
   "source": [
    "# Analizando si hay diferencias a nivel global (entre todos los grupos)\n",
    "kruskal_wallis_test(ahogamientos_por_mes[0], ahogamientos_por_mes[1], ahogamientos_por_mes[2], \\\n",
    "                   ahogamientos_por_mes[3], ahogamientos_por_mes[4])"
   ]
  },
  {
   "cell_type": "markdown",
   "id": "94690827",
   "metadata": {},
   "source": [
    "+ Podemos concluir con el test de hipotesis del número de ahogados teniendo en cuenta la variable temporalidad (mes) entre los grupos de edad que si hay diferencias significativas entre los diferentes grupos de edad cuando se analiza el mes. \n",
    "\n",
    "\n",
    "+ La prueba de Kruskal-Wallis indica que hay diferencias significativas en el número total de ahogamientos entre al menos dos de los grupos de edad cuando se considera la temporalidad por mes. Esto significa que las distribuciones de ahogamientos varían de manera significativa entre los diferentes grupos de edad cuando se analiza el mes. Al examinar los resultados de la prueba para cada combinación de grupos de edad, se puede observar que en algunos casos no se encontraron diferencias significativas. Sin embargo, en otros casos sí se encontraron diferencias significativas, lo que indica que al menos dos grupos de edad presentan un número de ahogamientos significativamente diferente.\n",
    "\n",
    "\n",
    "+ Además, al realizar la prueba a nivel global (considerando todos los grupos de edad juntos), también se encontraron diferencias significativas, lo que implica que existe al menos un grupo que difiere en el número de ahogamientos de los demás grupos."
   ]
  },
  {
   "cell_type": "markdown",
   "id": "f0bb18b8",
   "metadata": {},
   "source": [
    "## <span style=color:darkblue>Año</span>"
   ]
  },
  {
   "cell_type": "markdown",
   "id": "b79320e1",
   "metadata": {},
   "source": [
    "### <span style=color:darkblue> Test de Hipótesis : Número de ahogamientos por grupos de edad por AÑO </span>\n",
    "\n",
    "+ El objetivo es analizar si los grupos de edad difieren significativamente en cuanto al número total de ahogamientos\n",
    "\n",
    "$H_0$: No hay diferencias significativas en el número total de ahogamientos entre los grupos de edad por año\n",
    "\n",
    "$H_A$: Existen diferencias significativas en el número total de ahogamientos entre al menos dos de los grupos de edad por año\n"
   ]
  },
  {
   "cell_type": "code",
   "execution_count": 220,
   "id": "5e3c25b2",
   "metadata": {},
   "outputs": [
    {
     "data": {
      "image/png": "[encoded data removed]",
      "text/plain": [
       "<Figure size 2000x500 with 5 Axes>"
      ]
     },
     "metadata": {},
     "output_type": "display_data"
    }
   ],
   "source": [
    "# Obtenemos los datos de ahogamientos por grupos de edad y temporalidad (Mes)\n",
    "ahogamientos_por_anos = [adolescentes['Anio'], jovenes['Anio'], adultos_jovenes['Anio'], adultos_mediana_edad['Anio'], mayores['Anio']]\n",
    "\n",
    "# Creamos el framework\n",
    "fig, axs = plt.subplots(1, len(ahogamientos_por_anos), figsize=(20, 5))\n",
    "\n",
    "for i, grupo in enumerate(ahogamientos_por_anos):\n",
    "    axs[i].hist(grupo)\n",
    "    axs[i].set_xlabel('Año')\n",
    "    axs[i].set_ylabel('Nº de accidentes acuáticos') \n",
    "\n",
    "    # Añadir el título correspondiente al grupo de edad actual\n",
    "    axs[i].set_title(nombres_grupos_edad[i])\n",
    "    \n",
    "fig.suptitle(\"HISTOGRAMA POR GRUPOS DE EDAD POR AÑO\")\n",
    "plt.show()"
   ]
  },
  {
   "cell_type": "markdown",
   "id": "eab5f066",
   "metadata": {},
   "source": [
    "+ Parece que a priori los datos no siguen una distribución normal"
   ]
  },
  {
   "cell_type": "markdown",
   "id": "40ecf054",
   "metadata": {},
   "source": [
    "### <span style=color:darkblue>Test de normalidad</span>"
   ]
  },
  {
   "cell_type": "code",
   "execution_count": 226,
   "id": "29220310",
   "metadata": {},
   "outputs": [
    {
     "name": "stdout",
     "output_type": "stream",
     "text": [
      "Para el grupo de edad: adolescentes\n",
      "Los datos de edad no siguen una distribución normal:  3.4608266972067363e-22\n",
      "\n",
      "Para el grupo de edad: jovenes\n",
      "Los datos de edad no siguen una distribución normal:  9.159747960447048e-22\n",
      "\n",
      "Para el grupo de edad: adultos_jovenes\n",
      "Los datos de edad no siguen una distribución normal:  9.420525736232018e-21\n",
      "\n",
      "Para el grupo de edad: adultos_mediana_edad\n",
      "Los datos de edad no siguen una distribución normal:  4.9853727824230047e-23\n",
      "\n",
      "Para el grupo de edad: mayores\n",
      "Los datos de edad no siguen una distribución normal:  5.686861384179839e-28\n",
      "\n"
     ]
    }
   ],
   "source": [
    "for i, grupo in enumerate(ahogamientos_por_anos):\n",
    "    \n",
    "    print(\"Para el grupo de edad:\", nombres_grupos_edad[i])\n",
    "    check_normality(grupo.values)\n",
    "    print(\"\")"
   ]
  },
  {
   "cell_type": "markdown",
   "id": "a3ecb36d",
   "metadata": {},
   "source": [
    "### <span style=color:darkblue>Test de homogeneidad en la varianza</span>"
   ]
  },
  {
   "cell_type": "code",
   "execution_count": 227,
   "id": "e6afd2c2",
   "metadata": {},
   "outputs": [
    {
     "name": "stdout",
     "output_type": "stream",
     "text": [
      "Para el grupo de edad: adolescentes y jovenes\n",
      "La varianza de los grupos no es homogénea 0.00950310514572349\n",
      "\n",
      "Para el grupo de edad: adolescentes y adultos_jovenes\n",
      "La varianza de los grupos es homogénea 0.10622143826818287\n",
      "\n",
      "Para el grupo de edad: adolescentes y adultos_mediana_edad\n",
      "La varianza de los grupos es homogénea 0.34004778919933476\n",
      "\n",
      "Para el grupo de edad: adolescentes y mayores\n",
      "La varianza de los grupos es homogénea 0.07767003548371433\n",
      "\n",
      "Para el grupo de edad: jovenes y adultos_jovenes\n",
      "La varianza de los grupos es homogénea 0.3742834683410404\n",
      "\n",
      "Para el grupo de edad: jovenes y adultos_mediana_edad\n",
      "La varianza de los grupos es homogénea 0.08592899487178259\n",
      "\n",
      "Para el grupo de edad: jovenes y mayores\n",
      "La varianza de los grupos es homogénea 0.23696801822080726\n",
      "\n",
      "Para el grupo de edad: adultos_jovenes y adultos_mediana_edad\n",
      "La varianza de los grupos es homogénea 0.4572814595381659\n",
      "\n",
      "Para el grupo de edad: adultos_jovenes y mayores\n",
      "La varianza de los grupos es homogénea 0.8957631406354856\n",
      "\n",
      "Para el grupo de edad: adultos_mediana_edad y mayores\n",
      "La varianza de los grupos es homogénea 0.4560061187302169\n",
      "\n"
     ]
    }
   ],
   "source": [
    "for i, grupo in enumerate(ahogamientos_por_anos):\n",
    "    \n",
    "    for j in range(i+1, len(ahogamientos_por_anos)):\n",
    "        grupo2 = ahogamientos_por_anos[j]\n",
    "        \n",
    "        print(\"Para el grupo de edad:\", nombres_grupos_edad[i], \"y\", nombres_grupos_edad[j])\n",
    "        check_variance_homogeneity(grupo, grupo2)\n",
    "        print(\"\")"
   ]
  },
  {
   "cell_type": "markdown",
   "id": "53c72207",
   "metadata": {},
   "source": [
    "+ En el caso de analizar la varianza entre los grupos, esta vez observamos que todos los grupos comparten homogeneïdad en ella. De todos modos, creemos que lo más sensato es seguir aplicando Kruskall-Wallis, ya que los datos por grupos de edad no siguen una distribución normal."
   ]
  },
  {
   "cell_type": "markdown",
   "id": "22f4647a",
   "metadata": {},
   "source": [
    "### <span style=color:darkblue>Kruskall-Wallis Test</span>"
   ]
  },
  {
   "cell_type": "code",
   "execution_count": 228,
   "id": "35be4e71",
   "metadata": {},
   "outputs": [
    {
     "name": "stdout",
     "output_type": "stream",
     "text": [
      "Para el grupo de edad: adolescentes y jovenes\n",
      "No hay diferencias significativas en el número total de ahogamientos entre los grupos de edad 0.3790074008021146\n",
      "\n",
      "Para el grupo de edad: adolescentes y adultos_jovenes\n",
      "No hay diferencias significativas en el número total de ahogamientos entre los grupos de edad 0.18919995433456438\n",
      "\n",
      "Para el grupo de edad: adolescentes y adultos_mediana_edad\n",
      "No hay diferencias significativas en el número total de ahogamientos entre los grupos de edad 0.19403909427826604\n",
      "\n",
      "Para el grupo de edad: adolescentes y mayores\n",
      "Existen diferencias significativas en el número total de ahogamientos entre al menos dos de los grupos de edad 0.0008553162638641969\n",
      "\n",
      "Para el grupo de edad: jovenes y adultos_jovenes\n",
      "Existen diferencias significativas en el número total de ahogamientos entre al menos dos de los grupos de edad 0.02531157866053822\n",
      "\n",
      "Para el grupo de edad: jovenes y adultos_mediana_edad\n",
      "Existen diferencias significativas en el número total de ahogamientos entre al menos dos de los grupos de edad 0.022589884014762675\n",
      "\n",
      "Para el grupo de edad: jovenes y mayores\n",
      "Existen diferencias significativas en el número total de ahogamientos entre al menos dos de los grupos de edad 6.804267333191479e-06\n",
      "\n",
      "Para el grupo de edad: adultos_jovenes y adultos_mediana_edad\n",
      "No hay diferencias significativas en el número total de ahogamientos entre los grupos de edad 0.9353515661888115\n",
      "\n",
      "Para el grupo de edad: adultos_jovenes y mayores\n",
      "No hay diferencias significativas en el número total de ahogamientos entre los grupos de edad 0.07910992197156408\n",
      "\n",
      "Para el grupo de edad: adultos_mediana_edad y mayores\n",
      "Existen diferencias significativas en el número total de ahogamientos entre al menos dos de los grupos de edad 0.04829599495764523\n",
      "\n"
     ]
    }
   ],
   "source": [
    "# Kruskall-Wallis Test\n",
    "# Comprobamos si hay diferencias en el número de ahogamientos por grupos de edad\n",
    "for i, grupo in enumerate(ahogamientos_por_anos):\n",
    "    for j in range(i+1, len(ahogamientos_por_anos)):\n",
    "        grupo2 = ahogamientos_por_anos[j]\n",
    "        \n",
    "        print(\"Para el grupo de edad:\", nombres_grupos_edad[i], \"y\", nombres_grupos_edad[j])\n",
    "        kruskal_wallis_test(grupo, grupo2)\n",
    "        print(\"\")"
   ]
  },
  {
   "cell_type": "code",
   "execution_count": 203,
   "id": "70842096",
   "metadata": {},
   "outputs": [
    {
     "name": "stdout",
     "output_type": "stream",
     "text": [
      "Existen diferencias significativas en el número total de ahogamientos entre al menos dos de los grupos de edad 0.00010203478040529486\n"
     ]
    }
   ],
   "source": [
    "# Analizando si hay diferencias a nivel global (entre todos los grupos)\n",
    "kruskal_wallis_test(ahogamientos_por_anos[0], ahogamientos_por_anos[1], ahogamientos_por_anos[2], \\\n",
    "                   ahogamientos_por_anos[3], ahogamientos_por_anos[4])"
   ]
  },
  {
   "cell_type": "markdown",
   "id": "7f08078f",
   "metadata": {},
   "source": [
    "+ Podemos concluir con el test de hipotesis del número de ahogados teniendo en cuenta la variable temporalidad (año) entre los grupos de edad que si hay diferencias significativas entre los diferentes grupos de edad cuando se analiza el año. \n",
    "\n",
    "\n",
    "+ La prueba de Kruskal-Wallis indica que hay diferencias significativas en el número total de ahogamientos entre al menos dos de los grupos de edad cuando se considera la temporalidad por año. Esto significa que las distribuciones de ahogamientos varían de manera significativa entre los diferentes grupos de edad cuando se analiza el año. Al examinar los resultados de la prueba para cada combinación de grupos de edad, se puede observar que en algunos casos no se encontraron diferencias significativas. Sin embargo, en otros casos sí se encontraron diferencias significativas, lo que indica que al menos dos grupos de edad presentan un número de ahogamientos significativamente diferente.\n",
    "\n",
    "\n",
    "+ Además, al realizar la prueba a nivel global (considerando todos los grupos de edad juntos), también se encontraron diferencias significativas, lo que implica que existe al menos un grupo que difiere en el número de ahogamientos de los demás grupos."
   ]
  },
  {
   "cell_type": "markdown",
   "id": "f81cddf5",
   "metadata": {},
   "source": [
    "## <span style=color:darkblue>Dia</span>"
   ]
  },
  {
   "cell_type": "markdown",
   "id": "65e04816",
   "metadata": {},
   "source": [
    "### <span style=color:darkblue> Test de Hipótesis : Número de ahogamientos por grupos de edad por AÑO </span>\n",
    "\n",
    "+ El objetivo es analizar si los grupos de edad difieren significativamente en cuanto al número total de ahogamientos\n",
    "\n",
    "$H_0$: No hay diferencias significativas en el número total de ahogamientos entre los grupos de edad por dia\n",
    "\n",
    "$H_A$: Existen diferencias significativas en el número total de ahogamientos entre al menos dos de los grupos de edad por dia\n"
   ]
  },
  {
   "cell_type": "code",
   "execution_count": 221,
   "id": "b97e57fa",
   "metadata": {},
   "outputs": [
    {
     "data": {
      "image/png": "[encoded data removed]",
      "text/plain": [
       "<Figure size 2000x500 with 5 Axes>"
      ]
     },
     "metadata": {},
     "output_type": "display_data"
    }
   ],
   "source": [
    "# Obtenemos los datos de ahogamientos por grupos de edad y temporalidad (Mes)\n",
    "ahogamientos_por_dias = [adolescentes['Dia'], jovenes['Dia'], adultos_jovenes['Dia'], adultos_mediana_edad['Dia'], mayores['Dia']]\n",
    "\n",
    "# Creamos el framework\n",
    "fig, axs = plt.subplots(1, len(ahogamientos_por_anos), figsize=(20, 5))\n",
    "\n",
    "for i, grupo in enumerate(ahogamientos_por_dias):\n",
    "    axs[i].hist(grupo)\n",
    "    axs[i].set_xlabel('Dia')\n",
    "    axs[i].set_ylabel('Nº de accidentes acuáticos') \n",
    "    \n",
    "    # Añadir el título correspondiente al grupo de edad actual\n",
    "    axs[i].set_title(nombres_grupos_edad[i])\n",
    "\n",
    "fig.suptitle(\"HISTOGRAMA POR GRUPOS DE EDAD POR DIA\")\n",
    "plt.show()"
   ]
  },
  {
   "cell_type": "markdown",
   "id": "ae57d7ea",
   "metadata": {},
   "source": [
    "+ Parece que la distribución del número de ahogamientos por grupos de edad al dia es bastante uniforme."
   ]
  },
  {
   "cell_type": "markdown",
   "id": "de4535bd",
   "metadata": {},
   "source": [
    "### <span style=color:darkblue>Test de normalidad</span>"
   ]
  },
  {
   "cell_type": "code",
   "execution_count": 222,
   "id": "4da1a781",
   "metadata": {},
   "outputs": [
    {
     "name": "stdout",
     "output_type": "stream",
     "text": [
      "Para el grupo de edad: adolescentes\n",
      "Los datos de edad no siguen una distribución normal:  4.324407929070868e-17\n",
      "\n",
      "Para el grupo de edad: jovenes\n",
      "Los datos de edad no siguen una distribución normal:  1.4699019337402003e-17\n",
      "\n",
      "Para el grupo de edad: adultos_jovenes\n",
      "Los datos de edad no siguen una distribución normal:  1.0145918633709007e-17\n",
      "\n",
      "Para el grupo de edad: adultos_mediana_edad\n",
      "Los datos de edad no siguen una distribución normal:  1.6472492812956893e-19\n",
      "\n",
      "Para el grupo de edad: mayores\n",
      "Los datos de edad no siguen una distribución normal:  8.577539030109995e-25\n",
      "\n"
     ]
    }
   ],
   "source": [
    "for i, grupo in enumerate(ahogamientos_por_dias):\n",
    "    \n",
    "    print(\"Para el grupo de edad:\", nombres_grupos_edad[i])\n",
    "    check_normality(grupo.values)\n",
    "    print(\"\")"
   ]
  },
  {
   "cell_type": "markdown",
   "id": "654db0ff",
   "metadata": {},
   "source": [
    "### <span style=color:darkblue>Test de homogeneidad en la varianza</span>"
   ]
  },
  {
   "cell_type": "code",
   "execution_count": 229,
   "id": "be22f33e",
   "metadata": {},
   "outputs": [
    {
     "name": "stdout",
     "output_type": "stream",
     "text": [
      "Para el grupo de edad: adolescentes y jovenes\n",
      "La varianza de los grupos es homogénea 0.665856812498361\n",
      "\n",
      "Para el grupo de edad: adolescentes y adultos_jovenes\n",
      "La varianza de los grupos es homogénea 0.48264826337288824\n",
      "\n",
      "Para el grupo de edad: adolescentes y adultos_mediana_edad\n",
      "La varianza de los grupos es homogénea 0.30047914869715714\n",
      "\n",
      "Para el grupo de edad: adolescentes y mayores\n",
      "La varianza de los grupos es homogénea 0.2527355068632491\n",
      "\n",
      "Para el grupo de edad: jovenes y adultos_jovenes\n",
      "La varianza de los grupos es homogénea 0.7796770186910222\n",
      "\n",
      "Para el grupo de edad: jovenes y adultos_mediana_edad\n",
      "La varianza de los grupos es homogénea 0.5453875517394046\n",
      "\n",
      "Para el grupo de edad: jovenes y mayores\n",
      "La varianza de los grupos es homogénea 0.5014019048279365\n",
      "\n",
      "Para el grupo de edad: adultos_jovenes y adultos_mediana_edad\n",
      "La varianza de los grupos es homogénea 0.7555936703101318\n",
      "\n",
      "Para el grupo de edad: adultos_jovenes y mayores\n",
      "La varianza de los grupos es homogénea 0.7290925574859362\n",
      "\n",
      "Para el grupo de edad: adultos_mediana_edad y mayores\n",
      "La varianza de los grupos es homogénea 0.9944482532361912\n",
      "\n"
     ]
    }
   ],
   "source": [
    "for i, grupo in enumerate(ahogamientos_por_dias):\n",
    "    \n",
    "    for j in range(i+1, len(ahogamientos_por_dias)):\n",
    "        grupo2 = ahogamientos_por_dias[j]\n",
    "        \n",
    "        print(\"Para el grupo de edad:\", nombres_grupos_edad[i], \"y\", nombres_grupos_edad[j])\n",
    "        check_variance_homogeneity(grupo, grupo2)\n",
    "        print(\"\")"
   ]
  },
  {
   "cell_type": "markdown",
   "id": "1bfebf48",
   "metadata": {},
   "source": [
    "+ En el caso de analizar la varianza entre los grupos, observamos que todos los grupos comparten homogeneïdad en ella. De todos modos, creemos que lo más sensato es seguir aplicando Kruskall-Wallis, ya que los datos por grupos de edad no siguen una distribución normal."
   ]
  },
  {
   "cell_type": "markdown",
   "id": "6bc20738",
   "metadata": {},
   "source": [
    "### <span style=color:darkblue>Kruskall-Wallis Test</span>"
   ]
  },
  {
   "cell_type": "code",
   "execution_count": 230,
   "id": "b45dcd58",
   "metadata": {},
   "outputs": [
    {
     "name": "stdout",
     "output_type": "stream",
     "text": [
      "Para el grupo de edad: adolescentes y jovenes\n",
      "No hay diferencias significativas en el número total de ahogamientos entre los grupos de edad 0.27749846614424006\n",
      "\n",
      "Para el grupo de edad: adolescentes y adultos_jovenes\n",
      "No hay diferencias significativas en el número total de ahogamientos entre los grupos de edad 0.71117770181178\n",
      "\n",
      "Para el grupo de edad: adolescentes y adultos_mediana_edad\n",
      "No hay diferencias significativas en el número total de ahogamientos entre los grupos de edad 0.3835788094810114\n",
      "\n",
      "Para el grupo de edad: adolescentes y mayores\n",
      "No hay diferencias significativas en el número total de ahogamientos entre los grupos de edad 0.5906708796441443\n",
      "\n",
      "Para el grupo de edad: jovenes y adultos_jovenes\n",
      "No hay diferencias significativas en el número total de ahogamientos entre los grupos de edad 0.16835042900413857\n",
      "\n",
      "Para el grupo de edad: jovenes y adultos_mediana_edad\n",
      "No hay diferencias significativas en el número total de ahogamientos entre los grupos de edad 0.8666131403943697\n",
      "\n",
      "Para el grupo de edad: jovenes y mayores\n",
      "No hay diferencias significativas en el número total de ahogamientos entre los grupos de edad 0.5304640711573928\n",
      "\n",
      "Para el grupo de edad: adultos_jovenes y adultos_mediana_edad\n",
      "No hay diferencias significativas en el número total de ahogamientos entre los grupos de edad 0.22847027189837846\n",
      "\n",
      "Para el grupo de edad: adultos_jovenes y mayores\n",
      "No hay diferencias significativas en el número total de ahogamientos entre los grupos de edad 0.35778619757218655\n",
      "\n",
      "Para el grupo de edad: adultos_mediana_edad y mayores\n",
      "No hay diferencias significativas en el número total de ahogamientos entre los grupos de edad 0.6619378987357514\n",
      "\n"
     ]
    }
   ],
   "source": [
    "# Kruskall-Wallis Test\n",
    "# Comprobamos si hay diferencias en el número de ahogamientos por grupos de edad\n",
    "for i, grupo in enumerate(ahogamientos_por_dias):\n",
    "    for j in range(i+1, len(ahogamientos_por_dias)):\n",
    "        grupo2 = ahogamientos_por_dias[j]\n",
    "        \n",
    "        print(\"Para el grupo de edad:\", nombres_grupos_edad[i], \"y\", nombres_grupos_edad[j])\n",
    "        kruskal_wallis_test(grupo, grupo2)\n",
    "        print(\"\")"
   ]
  },
  {
   "cell_type": "code",
   "execution_count": 209,
   "id": "6066f1d4",
   "metadata": {},
   "outputs": [
    {
     "name": "stdout",
     "output_type": "stream",
     "text": [
      "No hay diferencias significativas en el número total de ahogamientos entre los grupos de edad 0.6108748187016689\n"
     ]
    }
   ],
   "source": [
    "# Analizando si hay diferencias a nivel global (entre todos los grupos)\n",
    "kruskal_wallis_test(ahogamientos_por_dias[0], ahogamientos_por_dias[1], ahogamientos_por_dias[2], \\\n",
    "                   ahogamientos_por_dias[3], ahogamientos_por_dias[4])"
   ]
  },
  {
   "cell_type": "markdown",
   "id": "6fea3933",
   "metadata": {},
   "source": [
    "+ Podemos concluir con el test de hipotesis del número de ahogados teniendo en cuenta la variable temporalidad (dias) entre los grupos de edad que no hay diferencias significativas entre los diferentes grupos de edad cuando se analiza por dias. \n",
    "\n",
    "\n",
    "+ La prueba de Kruskal-Wallis indica que hay diferencias significativas en el número total de ahogamientos entre al menos dos de los grupos de edad cuando se considera la temporalidad por dias. Esto significa que las distribuciones de ahogamientos varían de manera significativa entre los diferentes grupos de edad cuando se analiza el dia. Al examinar los resultados de la prueba para cada combinación de grupos de edad, se puede observar que para todos los casos no se encontraron diferencias significativas. \n",
    "\n",
    "\n",
    "+ Además, al realizar la prueba a nivel global (considerando todos los grupos de edad juntos), tampoco se encontraron diferencias significativas."
   ]
  },
  {
   "cell_type": "code",
   "execution_count": null,
   "id": "cd8f8a5c",
   "metadata": {},
   "outputs": [],
   "source": []
  }
 ],
 "metadata": {
  "kernelspec": {
   "display_name": "Python 3 (ipykernel)",
   "language": "python",
   "name": "python3"
  },
  "language_info": {
   "codemirror_mode": {
    "name": "ipython",
    "version": 3
   },
   "file_extension": ".py",
   "mimetype": "text/x-python",
   "name": "python",
   "nbconvert_exporter": "python",
   "pygments_lexer": "ipython3",
   "version": "3.10.6"
  },
  "toc": {
   "base_numbering": 1,
   "nav_menu": {},
   "number_sections": true,
   "sideBar": true,
   "skip_h1_title": false,
   "title_cell": "Table of Contents",
   "title_sidebar": "Contents",
   "toc_cell": false,
   "toc_position": {
    "height": "calc(100% - 180px)",
    "left": "10px",
    "top": "150px",
    "width": "272.145px"
   },
   "toc_section_display": true,
   "toc_window_display": true
  }
 },
 "nbformat": 4,
 "nbformat_minor": 5
}
