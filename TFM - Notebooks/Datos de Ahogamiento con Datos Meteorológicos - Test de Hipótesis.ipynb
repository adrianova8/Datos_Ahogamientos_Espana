{
 "cells": [
  {
   "attachments": {
    "UIMP.jpeg": {
     "image/jpeg": "[encoded data removed]"
    }
   },
   "cell_type": "markdown",
   "id": "b1f359b7",
   "metadata": {},
   "source": [
    "![UIMP.jpeg](attachment:UIMP.jpeg)"
   ]
  },
  {
   "cell_type": "markdown",
   "id": "661abce3",
   "metadata": {},
   "source": [
    "<div class=\"alert alert-block alert-info\"><font size=\"5\"><center><b><u>Adrià Nova Pagés</u></b></center></font>"
   ]
  },
  {
   "cell_type": "markdown",
   "id": "f9fb0331",
   "metadata": {},
   "source": [
    "# <span style=color:darkblue> Datos de Ahogamiento con Datos Meteorológicos - Test de Hipótesis </span>\n",
    " "
   ]
  },
  {
   "cell_type": "markdown",
   "id": "666b4776",
   "metadata": {},
   "source": [
    "**DESCRIPCIÓN DE LAS VARIABLES**\n",
    "- **Fecha:** Esta variable representa la fecha en la que ocurrió el accidente acuático y se compone de tres partes: el día, el mes y el año. Es una variable temporal que permite identificar el momento en que ocurrió el incidente.\n",
    "---\n",
    "- **IdAhogado:** Es un identificador único asignado a cada incidente de ahogamiento registrado en el conjunto de datos. Esta variable ayuda a distinguir cada incidente de ahogamiento registrado y a realizar análisis específicos para cada caso.\n",
    "---\n",
    "- **IdPersona:** Es un identificador único asignado a cada persona involucrada en un incidente de ahogamiento. Esta variable permite distinguir cada persona involucrada en el incidente y llevar a cabo análisis específicos para cada caso.\n",
    "---\n",
    "- **Localidad:** Es el nombre de la ciudad o pueblo donde se produjo el accidente acuático. Esta variable indica la ubicación geográfica del incidente y permite realizar análisis geográficos y comparar los incidentes en diferentes lugares.\n",
    "---\n",
    "- **Provincia:** Es la demarcación administrativa dentro del país donde se produjo el accidente acuático. Esta variable ayuda a realizar análisis a nivel regional y comparar los incidentes entre diferentes provincias.\n",
    "---\n",
    "- **Comunidad Autónoma (CCAA):** Es la entidad territorial dotada de autonomía dentro del actual ordenamiento jurídico constitucional, donde se produjo el accidente acuático. Esta variable permite realizar análisis a nivel regional y comparar los incidentes entre diferentes comunidades autónomas.\n",
    "---\n",
    "- **Hora:** Esta variable indica la hora en la que ocurrió el accidente acuático y se expresa en horas y minutos. Es una variable temporal que permite identificar la hora del día en que se produjo el incidente.\n",
    "---\n",
    "- **Latitud:** Es la distancia en grados, minutos y segundos con respecto al paralelo principal, que es el ecuador (0º). Esta variable indica la ubicación geográfica del incidente en el hemisferio norte o sur.\n",
    "---\n",
    "- **Longitud:** Es la distancia en grados, minutos y segundos con respecto al meridiano principal, que es el meridiano de Greenwich (0º). Esta variable indica la ubicación geográfica del incidente en el este o oeste del meridiano principal.\n",
    "---\n",
    "- **Sexo:** Esta variable indica el género de la persona involucrada en el incidente de ahogamiento. Toma el valor de \"M\" si es masculino y \"F\" si es femenino.\n",
    "---\n",
    "- **Edad:** Esta variable indica la edad de la persona involucrada en el incidente de ahogamiento. Es una variable numérica que permite realizar análisis sobre la edad de los afectados.\n",
    "---\n",
    "- **Nacionalidad:** Esta variable indica la nación o territorio en el que vive la persona involucrada en el incidente de ahogamiento. Permite realizar análisis sobre los incidentes que involucran a personas de diferentes nacionalidades.\n",
    "--- \n",
    "- **Origen:** Esta variable indica si la persona involucrada en el incidente de ahogamiento era local, extranjera, residente, limítrofe o de otra comunidad autónoma. Permite realizar análisis sobre la procedencia de los afectados.\n",
    "---\n",
    "- **Titular:** El titular se refiere al encabezado de la noticia que busca captar la atención de los lectores y resumir el contenido de la misma.\n",
    "---\n",
    "- **Causa:** Esta variable se refiere a las circunstancias que llevaron al individuo a sufrir un accidente acuático, como pueden ser errores de juicio, falta de habilidad para nadar, la presencia de obstáculos o peligros en el agua, entre otros factores.\n",
    "---\n",
    "- **TipoAhogamiento:** El tipo de ahogamiento hace referencia a la forma en que el individuo se ahogó, como puede ser por sumersión, aspiración de agua, hipotermia, entre otras causas.\n",
    "---\n",
    "- **Factor:** Los factores se refieren a las condiciones o situaciones que aumentan la probabilidad de que un individuo sufra un accidente acuático, como pueden ser la falta de conocimiento o formación en natación, la ausencia de medidas de seguridad adecuadas, entre otros.\n",
    "---\n",
    "- **Intervención:** La intervención hace referencia a las acciones que se llevaron a cabo tras el accidente acuático para asistir al individuo, como pueden ser la aplicación de primeros auxilios, la llamada a servicios de emergencia, entre otros.\n",
    "---\n",
    "- **Pronóstico:** El pronóstico se refiere a la predicción de la evolución del individuo tras sufrir el accidente acuático, como puede ser su recuperación, secuelas o incluso fallecimiento.\n",
    "---\n",
    "- **Localización:** La localización se refiere al lugar donde fue encontrado el individuo que sufrió el accidente acuático, como puede ser una piscina, un río, el mar, entre otros.\n",
    "---\n",
    "- **Riesgo:** El riesgo hace referencia a las condiciones del agua para poder realizar actividades acuáticas, considerando banderas rojas, amarillas o verdes, que indican el nivel de peligro y seguridad para los bañistas.\n",
    "---\n",
    "- **Reanimación:** La reanimación se refiere al tipo de técnicas de primeros auxilios que se utilizaron para intentar revivir al individuo tras sufrir el accidente acuático, como pueden ser la respiración boca a boca o la aplicación de desfibriladores automáticos externos.\n",
    "---\n",
    "- **Vigilancia:** La vigilancia se refiere a si había presencia de personal especializado en el momento de producirse el accidente acuático, como pueden ser socorristas, bomberos o personal médico.\n",
    "---\n",
    "- **Actividad:** La actividad se refiere a la acción que estaba realizando el individuo en el momento de sufrir el accidente acuático, como pueden ser nadar, bucear, pescar, entre otras.\n",
    "---\n",
    "- **Detección:** La detección se refiere a quién fue el primero en notar o darse cuenta del accidente acuático, como pueden ser testigos presenciales, familiares o amigos del individuo, entre otros.\n",
    "---\n",
    "- **Enlace1:** Enlace1 se refiere al titular de noticia en la que se confirma el accidente acuático.\n",
    "---\n",
    "- **Indicador:** El indicador se refiere al número asociado que se le otorga a cada estación meteorológica.\n",
    "---\n",
    "- **Estacion:** Estación se refiere al nombre que recibe la estación meteorológica por provincia.\n",
    "---\n",
    "- **Altitud:** La altitud se refiere la ditancia entre un punto de la superfície terrestre respecto el nivel del mar en el que se produjó el accidente acuático.\n",
    "---\n",
    "- **TempMed:** La temperatura media se refiere a la temperatura que hizo a lo largo del dia, de media, en que se produjo el accidente acuático.\n",
    "---\n",
    "- **Precip:** La precipitación se refiere a la cantidad de litros por m2 que hubo en el dia del accidente acuático (l/m2).\n",
    "---\n",
    "- **TempMin:** La temperatura mínima se refiere a la temperatura más baja que se registro a lo largo del dia en que se produjo el accidente acuático.\n",
    "---\n",
    "- **TempMax:** La temperatura máxima se refiere a la temperatura más alta que se registro a lo largo del dia en que se produjo el accidente acuático.\n",
    "---\n",
    "- **DirViento:** La direccion del viento se refiere en la dirección en la que sopla el viento, ya sea norte, sur, este u oeste en el momento del accidente acuático.\n",
    "---\n",
    "- **VelMedViento:** La velocidad media del viento se refiere a la velocidad que se registro a lo largo del dia, de media, en que se produjo el accidente acuático en metros por segundo(m/s).\n",
    "---\n",
    "- **RachaViento:** La racha de viento se refiere al aumento repentino del viento que excede el viento promedio de 18km/h para el dia en que se registró el accidente acuático.\n",
    "---\n",
    "- **TiempoSol:** El tiempo de sol se refiere al número de horas que tuvo el dia del accidente acuático.\n",
    "---\n",
    "- **PresionMax:** La presión máxima se refiere a la fuerza máxima que ejerce el aire sobre la superfície terrestre, cuantos más accidentes acuáticos cerca del mar mayor presión.\n",
    "---\n",
    "- **PresionMin:** La presión mínima se refiere a la fuerza mínima que ejerce el aire sobre la superfície terrestre, cuantos menos accidentes acuáticos cerca del mar menor presión."
   ]
  },
  {
   "cell_type": "code",
   "execution_count": 1,
   "id": "a6e0f742",
   "metadata": {},
   "outputs": [],
   "source": [
    "# Libraries\n",
    "import numpy as np\n",
    "import pandas as pd\n",
    "import matplotlib.pyplot as plt\n",
    "import scipy.stats as stats"
   ]
  },
  {
   "cell_type": "code",
   "execution_count": 2,
   "id": "acb25377",
   "metadata": {
    "scrolled": true
   },
   "outputs": [
    {
     "data": {
      "text/html": [
       "<div>\n",
       "<style scoped>\n",
       "    .dataframe tbody tr th:only-of-type {\n",
       "        vertical-align: middle;\n",
       "    }\n",
       "\n",
       "    .dataframe tbody tr th {\n",
       "        vertical-align: top;\n",
       "    }\n",
       "\n",
       "    .dataframe thead th {\n",
       "        text-align: right;\n",
       "    }\n",
       "</style>\n",
       "<table border=\"1\" class=\"dataframe\">\n",
       "  <thead>\n",
       "    <tr style=\"text-align: right;\">\n",
       "      <th></th>\n",
       "      <th>Fecha</th>\n",
       "      <th>IdAhogado</th>\n",
       "      <th>IdPersona</th>\n",
       "      <th>Localidad</th>\n",
       "      <th>Provincia</th>\n",
       "      <th>CCAA</th>\n",
       "      <th>Hora</th>\n",
       "      <th>Latitud</th>\n",
       "      <th>Longitud</th>\n",
       "      <th>Sexo</th>\n",
       "      <th>Edad</th>\n",
       "      <th>Nacionalidad</th>\n",
       "      <th>Origen</th>\n",
       "      <th>Extraccion</th>\n",
       "      <th>Titular</th>\n",
       "      <th>Causa</th>\n",
       "      <th>TipoAhogamiento</th>\n",
       "      <th>Factor</th>\n",
       "      <th>Intervencion</th>\n",
       "      <th>Pronostico</th>\n",
       "      <th>Localizacion</th>\n",
       "      <th>Riesgo</th>\n",
       "      <th>Reanimacion</th>\n",
       "      <th>Vigilancia</th>\n",
       "      <th>Actividad</th>\n",
       "      <th>Deteccion</th>\n",
       "      <th>Enlace1</th>\n",
       "      <th>Indicador</th>\n",
       "      <th>Estacion</th>\n",
       "      <th>Altitud</th>\n",
       "      <th>TempMed</th>\n",
       "      <th>Precip</th>\n",
       "      <th>TempMin</th>\n",
       "      <th>TempMax</th>\n",
       "      <th>DirViento</th>\n",
       "      <th>VelMedViento</th>\n",
       "      <th>RachaViento</th>\n",
       "      <th>TiempoSol</th>\n",
       "      <th>PresionMax</th>\n",
       "      <th>PresionMin</th>\n",
       "    </tr>\n",
       "  </thead>\n",
       "  <tbody>\n",
       "    <tr>\n",
       "      <th>0</th>\n",
       "      <td>30-12-2020</td>\n",
       "      <td>7432</td>\n",
       "      <td>8532</td>\n",
       "      <td>Torredembarra</td>\n",
       "      <td>Tarragona</td>\n",
       "      <td>Cataluña</td>\n",
       "      <td>NaN</td>\n",
       "      <td>41.130523</td>\n",
       "      <td>1.395311</td>\n",
       "      <td>Sin Datos</td>\n",
       "      <td>NaN</td>\n",
       "      <td>España</td>\n",
       "      <td>Sin datos</td>\n",
       "      <td>Embarcación de rescate</td>\n",
       "      <td>Encuentran un cadáver flotando en el mar cerca...</td>\n",
       "      <td>Sin datos</td>\n",
       "      <td>Posible Ahogamiento</td>\n",
       "      <td>Sin datos</td>\n",
       "      <td>Recuperación de cadaver</td>\n",
       "      <td>Ahogamiento mortal</td>\n",
       "      <td>Franja costera o alta mar</td>\n",
       "      <td>Sin datos</td>\n",
       "      <td>Recuperacion de cadaver</td>\n",
       "      <td>No vigilado</td>\n",
       "      <td>Sin datos</td>\n",
       "      <td>Ciudadano</td>\n",
       "      <td>#https://www.diarimes.com/es/noticias/camp_tar...</td>\n",
       "      <td>9981A</td>\n",
       "      <td>ESTACIÓN DE TORTOSA (ROQUETES)</td>\n",
       "      <td>50</td>\n",
       "      <td>10.0</td>\n",
       "      <td>0.0</td>\n",
       "      <td>8.0</td>\n",
       "      <td>12.1</td>\n",
       "      <td>30.0</td>\n",
       "      <td>4.4</td>\n",
       "      <td>22.8</td>\n",
       "      <td>3.9</td>\n",
       "      <td>1010.0</td>\n",
       "      <td>1000.9</td>\n",
       "    </tr>\n",
       "    <tr>\n",
       "      <th>1</th>\n",
       "      <td>29-12-2020</td>\n",
       "      <td>7431</td>\n",
       "      <td>8531</td>\n",
       "      <td>Cádiz, Playa de Santa Maria del Mar</td>\n",
       "      <td>Cádiz</td>\n",
       "      <td>Andalucía</td>\n",
       "      <td>17:48</td>\n",
       "      <td>36.519991</td>\n",
       "      <td>-6.287258</td>\n",
       "      <td>Sin Datos</td>\n",
       "      <td>NaN</td>\n",
       "      <td>España</td>\n",
       "      <td>Sin datos</td>\n",
       "      <td>Ciudadano</td>\n",
       "      <td>Evacuada al hospital en estado grave una perso...</td>\n",
       "      <td>Sin datos</td>\n",
       "      <td>Posible Ahogamiento</td>\n",
       "      <td>Sin datos</td>\n",
       "      <td>Recuperación de cadaver</td>\n",
       "      <td>Ahogamiento no mortal con hospitalizacion</td>\n",
       "      <td>Playas sin vigilancia</td>\n",
       "      <td>Sin datos</td>\n",
       "      <td>SVA por SEM</td>\n",
       "      <td>No vigilado</td>\n",
       "      <td>Natación recreativa</td>\n",
       "      <td>Ciudadano</td>\n",
       "      <td>#https://elcorreoweb.es/andalucia/encuentran-u...</td>\n",
       "      <td>5973</td>\n",
       "      <td>CÁDIZ</td>\n",
       "      <td>2</td>\n",
       "      <td>12.2</td>\n",
       "      <td>0.2</td>\n",
       "      <td>9.2</td>\n",
       "      <td>15.3</td>\n",
       "      <td>32.0</td>\n",
       "      <td>3.3</td>\n",
       "      <td>9.4</td>\n",
       "      <td>NaN</td>\n",
       "      <td>1017.0</td>\n",
       "      <td>1011.4</td>\n",
       "    </tr>\n",
       "  </tbody>\n",
       "</table>\n",
       "</div>"
      ],
      "text/plain": [
       "        Fecha  IdAhogado  IdPersona                            Localidad  \\\n",
       "0  30-12-2020       7432       8532                        Torredembarra   \n",
       "1  29-12-2020       7431       8531  Cádiz, Playa de Santa Maria del Mar   \n",
       "\n",
       "   Provincia       CCAA   Hora    Latitud   Longitud       Sexo  Edad  \\\n",
       "0  Tarragona   Cataluña    NaN  41.130523   1.395311  Sin Datos   NaN   \n",
       "1      Cádiz  Andalucía  17:48  36.519991  -6.287258  Sin Datos   NaN   \n",
       "\n",
       "  Nacionalidad     Origen              Extraccion  \\\n",
       "0       España  Sin datos  Embarcación de rescate   \n",
       "1       España  Sin datos               Ciudadano   \n",
       "\n",
       "                                             Titular      Causa  \\\n",
       "0  Encuentran un cadáver flotando en el mar cerca...  Sin datos   \n",
       "1  Evacuada al hospital en estado grave una perso...  Sin datos   \n",
       "\n",
       "       TipoAhogamiento     Factor             Intervencion  \\\n",
       "0  Posible Ahogamiento  Sin datos  Recuperación de cadaver   \n",
       "1  Posible Ahogamiento  Sin datos  Recuperación de cadaver   \n",
       "\n",
       "                                  Pronostico               Localizacion  \\\n",
       "0                         Ahogamiento mortal  Franja costera o alta mar   \n",
       "1  Ahogamiento no mortal con hospitalizacion      Playas sin vigilancia   \n",
       "\n",
       "      Riesgo              Reanimacion   Vigilancia            Actividad  \\\n",
       "0  Sin datos  Recuperacion de cadaver  No vigilado            Sin datos   \n",
       "1  Sin datos              SVA por SEM  No vigilado  Natación recreativa   \n",
       "\n",
       "   Deteccion                                            Enlace1 Indicador  \\\n",
       "0  Ciudadano  #https://www.diarimes.com/es/noticias/camp_tar...     9981A   \n",
       "1  Ciudadano  #https://elcorreoweb.es/andalucia/encuentran-u...      5973   \n",
       "\n",
       "                         Estacion  Altitud  TempMed  Precip  TempMin  TempMax  \\\n",
       "0  ESTACIÓN DE TORTOSA (ROQUETES)       50     10.0     0.0      8.0     12.1   \n",
       "1                           CÁDIZ        2     12.2     0.2      9.2     15.3   \n",
       "\n",
       "   DirViento  VelMedViento  RachaViento  TiempoSol  PresionMax  PresionMin  \n",
       "0       30.0           4.4         22.8        3.9      1010.0      1000.9  \n",
       "1       32.0           3.3          9.4        NaN      1017.0      1011.4  "
      ]
     },
     "execution_count": 2,
     "metadata": {},
     "output_type": "execute_result"
    }
   ],
   "source": [
    "# Cargamos los datos\n",
    "pd.set_option('display.max_columns', None)\n",
    "datos_ahogamientos = pd.read_csv(\"datos_ahogamiento_meteorologicos.csv\")\n",
    "datos_ahogamientos.head(2)"
   ]
  },
  {
   "cell_type": "code",
   "execution_count": 3,
   "id": "2b063ada",
   "metadata": {
    "scrolled": true
   },
   "outputs": [
    {
     "name": "stdout",
     "output_type": "stream",
     "text": [
      "Nº de missings para la variable Fecha es: 0\n",
      "Nº de missings para la variable IdAhogado es: 0\n",
      "Nº de missings para la variable IdPersona es: 0\n",
      "Nº de missings para la variable Localidad es: 0\n",
      "Nº de missings para la variable Provincia es: 0\n",
      "Nº de missings para la variable CCAA es: 0\n",
      "Nº de missings para la variable Hora es: 1436\n",
      "Nº de missings para la variable Latitud es: 0\n",
      "Nº de missings para la variable Longitud es: 0\n",
      "Nº de missings para la variable Sexo es: 0\n",
      "Nº de missings para la variable Edad es: 1579\n",
      "Nº de missings para la variable Nacionalidad es: 0\n",
      "Nº de missings para la variable Origen es: 0\n",
      "Nº de missings para la variable Extraccion es: 0\n",
      "Nº de missings para la variable Titular es: 0\n",
      "Nº de missings para la variable Causa es: 0\n",
      "Nº de missings para la variable TipoAhogamiento es: 0\n",
      "Nº de missings para la variable Factor es: 0\n",
      "Nº de missings para la variable Intervencion es: 0\n",
      "Nº de missings para la variable Pronostico es: 0\n",
      "Nº de missings para la variable Localizacion es: 0\n",
      "Nº de missings para la variable Riesgo es: 0\n",
      "Nº de missings para la variable Reanimacion es: 0\n",
      "Nº de missings para la variable Vigilancia es: 0\n",
      "Nº de missings para la variable Actividad es: 0\n",
      "Nº de missings para la variable Deteccion es: 0\n",
      "Nº de missings para la variable Enlace1 es: 12\n",
      "Nº de missings para la variable Indicador es: 0\n",
      "Nº de missings para la variable Estacion es: 0\n",
      "Nº de missings para la variable Altitud es: 0\n",
      "Nº de missings para la variable TempMed es: 34\n",
      "Nº de missings para la variable Precip es: 371\n",
      "Nº de missings para la variable TempMin es: 34\n",
      "Nº de missings para la variable TempMax es: 29\n",
      "Nº de missings para la variable DirViento es: 183\n",
      "Nº de missings para la variable VelMedViento es: 161\n",
      "Nº de missings para la variable RachaViento es: 183\n",
      "Nº de missings para la variable TiempoSol es: 617\n",
      "Nº de missings para la variable PresionMax es: 57\n",
      "Nº de missings para la variable PresionMin es: 56\n"
     ]
    }
   ],
   "source": [
    "# Número de datos faltantes\n",
    "for i in range(0,len(datos_ahogamientos.columns)):\n",
    "    print(\"Nº de missings para la variable \" + str(datos_ahogamientos.columns[i]) + \" es: \" + str(datos_ahogamientos.iloc[:, i].isna().sum()))"
   ]
  },
  {
   "cell_type": "markdown",
   "id": "f7a9f2eb",
   "metadata": {},
   "source": [
    "+ Se observa que hay algunas variables como la Hora y la Edad que tienen más de 1000 registros con datos faltantes. Para las variables meterológicas encontramos el TiempoSol, Precip, DirViento, VelMedViento con datos faltantes también."
   ]
  },
  {
   "cell_type": "markdown",
   "id": "efb929b4",
   "metadata": {},
   "source": [
    "# <span style=color:darkblue> División grupo de edades en 5 grupos </span>"
   ]
  },
  {
   "cell_type": "code",
   "execution_count": 4,
   "id": "ab74cc77",
   "metadata": {},
   "outputs": [
    {
     "name": "stdout",
     "output_type": "stream",
     "text": [
      "Grupo 1: 0 a 15 años  1027\n",
      "Grupo 2: 16 a 30 años  1115\n",
      "Grupo 3: 31 a 45 años  1063\n",
      "Grupo 4: 46 a 60 años  1241\n",
      "Grupo 5: 61 años en adelante  1990\n"
     ]
    }
   ],
   "source": [
    "edad = datos_ahogamientos[\"Edad\"].dropna() # No tenemos en cuenta los valores faltantes\n",
    "\n",
    "# Grupo 1\n",
    "print(\"Grupo 1: 0 a 15 años \", edad[(edad > 0) & (edad <= 15)].count())\n",
    "\n",
    "# Grupo 2\n",
    "print(\"Grupo 2: 16 a 30 años \", edad[(edad >= 16) & (edad <= 30)].count())\n",
    "\n",
    "# Grupo 3\n",
    "print(\"Grupo 3: 31 a 45 años \", edad[(edad >= 31) & (edad <= 45)].count())\n",
    "\n",
    "# Grupo 4\n",
    "print(\"Grupo 4: 46 a 60 años \" , edad[(edad >= 46) & (edad <= 60)].count())\n",
    "\n",
    "# Grupo 5\n",
    "print(\"Grupo 5: 61 años en adelante \", edad[(edad >= 61)].count())"
   ]
  },
  {
   "cell_type": "code",
   "execution_count": 5,
   "id": "144e55e6",
   "metadata": {},
   "outputs": [],
   "source": [
    "# Guardamos cada grupo en una variable\n",
    "\n",
    "adolescentes = datos_ahogamientos[(datos_ahogamientos[\"Edad\"] > 0) & (datos_ahogamientos[\"Edad\"] <= 15)]\n",
    "\n",
    "jovenes = datos_ahogamientos[(datos_ahogamientos[\"Edad\"] >= 16) & (datos_ahogamientos[\"Edad\"] <= 30)]\n",
    "\n",
    "adultos_jovenes = datos_ahogamientos[(datos_ahogamientos[\"Edad\"] > 31) & (datos_ahogamientos[\"Edad\"] <= 45)]\n",
    "\n",
    "adultos_mediana_edad = datos_ahogamientos[(datos_ahogamientos[\"Edad\"] >= 46) & (datos_ahogamientos[\"Edad\"] <= 60)]\n",
    "\n",
    "mayores = datos_ahogamientos[(datos_ahogamientos[\"Edad\"] >= 61)]"
   ]
  },
  {
   "cell_type": "code",
   "execution_count": 124,
   "id": "c80bc3e5",
   "metadata": {},
   "outputs": [
    {
     "data": {
      "text/plain": [
       "35      9.0\n",
       "91      1.0\n",
       "113     2.0\n",
       "187    10.0\n",
       "191    14.0\n",
       "192    14.0\n",
       "196     5.0\n",
       "205    15.0\n",
       "219    11.0\n",
       "220     2.0\n",
       "Name: Edad, dtype: float64"
      ]
     },
     "execution_count": 124,
     "metadata": {},
     "output_type": "execute_result"
    }
   ],
   "source": [
    "# Veamos por encima los datos del grupo adolescentes\n",
    "adolescentes[\"Edad\"].head(10)"
   ]
  },
  {
   "cell_type": "code",
   "execution_count": 6,
   "id": "670ac6d0",
   "metadata": {},
   "outputs": [
    {
     "data": {
      "image/png": "[encoded data removed]",
      "text/plain": [
       "<Figure size 2500x500 with 5 Axes>"
      ]
     },
     "metadata": {},
     "output_type": "display_data"
    }
   ],
   "source": [
    "nombres_grupos_edad = [\"adolescentes\", \"jovenes\", \"adultos_jovenes\", \"adultos_mediana_edad\", \"mayores\"]\n",
    "fig, axs = plt.subplots(1, 5,figsize = (25, 5))\n",
    "\n",
    "for i, grupo_edad in enumerate(nombres_grupos_edad):\n",
    "\n",
    "    # Obtener el Dataframe con globals()\n",
    "    df = globals()[grupo_edad]\n",
    "    \n",
    "    axs[i].hist(df[\"Edad\"])\n",
    "    axs[i].set_xlabel('Edad')\n",
    "    axs[i].set_ylabel('Nº de accidentes acuáticos')\n",
    "    \n",
    "    # Añadir el título correspondiente al grupo de edad actual\n",
    "    axs[i].set_title(nombres_grupos_edad[i])\n",
    "\n",
    "fig.suptitle(\"HISTOGRAMA POR GRUPOS DE EDAD\")\n",
    "plt.show()"
   ]
  },
  {
   "cell_type": "markdown",
   "id": "77207a20",
   "metadata": {},
   "source": [
    "+ **GRUPO ADOLESCENTES:** Se observa como los individuos más propensos a sufrir accidentes acuáticos son los adolescentes de 15 años con una ligera diferencia sobre el resto. Los individuos entre 9 y 11+ años son el segundo grupo junto con los de 5 años más propensos a sufrir accidentes acuáticos.\n",
    "\n",
    "\n",
    "+ **GRUPO JOVENES:** Se observa como los individuos más propensos a sufrir accidentes acuáticos son los jovenes de 30 años con una gran diferencia sobre el resto. Los individuos de 17 y 20 años son el segundo grupo junto con los de [23-26] años más propensos a sufrir accidentes acuáticos.\n",
    "\n",
    "\n",
    "+ **GRUPO ADULTOS JOVENES:** Se observa como los individuos más propensos a sufrir accidentes acuáticos son los adultos jovenes de 40-41 años con una gran diferencia sobre el resto. Los individuos de 35 y 45 años son el segundo grupo más propensos a sufrir accidentes acuáticos.\n",
    "\n",
    "\n",
    "+ **GRUPO ADULTOS MEDIANA EDAD:** Se observa como los individuos más propensos a sufrir accidentes acuáticos son los adultos de mediana edad de 50  y 60 años con una gran diferencia sobre el resto.\n",
    "\n",
    "\n",
    "+ **GRUPO MAYORES:** Se observa como los individuos más propensos a sufrir accidentes acuáticos son los mayores de 70 años con una ligera diferencia sobre el resto. El resto de individuos para esta franja de edad mantienen unos niveles de accidentes acuáticos relativamente estables y es a partir de los 85 años que empieza a decaer, debido a que no acuden a los medios acuáticos."
   ]
  },
  {
   "cell_type": "code",
   "execution_count": 7,
   "id": "f9e47e15",
   "metadata": {},
   "outputs": [
    {
     "data": {
      "text/html": [
       "<div>\n",
       "<style scoped>\n",
       "    .dataframe tbody tr th:only-of-type {\n",
       "        vertical-align: middle;\n",
       "    }\n",
       "\n",
       "    .dataframe tbody tr th {\n",
       "        vertical-align: top;\n",
       "    }\n",
       "\n",
       "    .dataframe thead th {\n",
       "        text-align: right;\n",
       "    }\n",
       "</style>\n",
       "<table border=\"1\" class=\"dataframe\">\n",
       "  <thead>\n",
       "    <tr style=\"text-align: right;\">\n",
       "      <th></th>\n",
       "      <th>adolescentes</th>\n",
       "      <th>jovenes</th>\n",
       "      <th>adultos_jovenes</th>\n",
       "      <th>adultos_mediana_edad</th>\n",
       "      <th>mayores</th>\n",
       "    </tr>\n",
       "  </thead>\n",
       "  <tbody>\n",
       "    <tr>\n",
       "      <th>count</th>\n",
       "      <td>1027.000000</td>\n",
       "      <td>1115.000000</td>\n",
       "      <td>1035.000000</td>\n",
       "      <td>1241.000000</td>\n",
       "      <td>1990.000000</td>\n",
       "    </tr>\n",
       "    <tr>\n",
       "      <th>mean</th>\n",
       "      <td>8.866602</td>\n",
       "      <td>23.724664</td>\n",
       "      <td>39.123671</td>\n",
       "      <td>53.227236</td>\n",
       "      <td>73.423618</td>\n",
       "    </tr>\n",
       "    <tr>\n",
       "      <th>std</th>\n",
       "      <td>4.480489</td>\n",
       "      <td>4.790632</td>\n",
       "      <td>3.775643</td>\n",
       "      <td>4.438097</td>\n",
       "      <td>7.281591</td>\n",
       "    </tr>\n",
       "    <tr>\n",
       "      <th>min</th>\n",
       "      <td>1.000000</td>\n",
       "      <td>16.000000</td>\n",
       "      <td>32.000000</td>\n",
       "      <td>46.000000</td>\n",
       "      <td>61.000000</td>\n",
       "    </tr>\n",
       "    <tr>\n",
       "      <th>25%</th>\n",
       "      <td>5.000000</td>\n",
       "      <td>20.000000</td>\n",
       "      <td>35.000000</td>\n",
       "      <td>50.000000</td>\n",
       "      <td>68.000000</td>\n",
       "    </tr>\n",
       "    <tr>\n",
       "      <th>50%</th>\n",
       "      <td>10.000000</td>\n",
       "      <td>24.000000</td>\n",
       "      <td>40.000000</td>\n",
       "      <td>53.000000</td>\n",
       "      <td>72.500000</td>\n",
       "    </tr>\n",
       "    <tr>\n",
       "      <th>75%</th>\n",
       "      <td>13.000000</td>\n",
       "      <td>29.000000</td>\n",
       "      <td>42.000000</td>\n",
       "      <td>57.000000</td>\n",
       "      <td>79.000000</td>\n",
       "    </tr>\n",
       "    <tr>\n",
       "      <th>max</th>\n",
       "      <td>15.000000</td>\n",
       "      <td>30.000000</td>\n",
       "      <td>45.000000</td>\n",
       "      <td>60.000000</td>\n",
       "      <td>96.000000</td>\n",
       "    </tr>\n",
       "  </tbody>\n",
       "</table>\n",
       "</div>"
      ],
      "text/plain": [
       "       adolescentes      jovenes  adultos_jovenes  adultos_mediana_edad  \\\n",
       "count   1027.000000  1115.000000      1035.000000           1241.000000   \n",
       "mean       8.866602    23.724664        39.123671             53.227236   \n",
       "std        4.480489     4.790632         3.775643              4.438097   \n",
       "min        1.000000    16.000000        32.000000             46.000000   \n",
       "25%        5.000000    20.000000        35.000000             50.000000   \n",
       "50%       10.000000    24.000000        40.000000             53.000000   \n",
       "75%       13.000000    29.000000        42.000000             57.000000   \n",
       "max       15.000000    30.000000        45.000000             60.000000   \n",
       "\n",
       "           mayores  \n",
       "count  1990.000000  \n",
       "mean     73.423618  \n",
       "std       7.281591  \n",
       "min      61.000000  \n",
       "25%      68.000000  \n",
       "50%      72.500000  \n",
       "75%      79.000000  \n",
       "max      96.000000  "
      ]
     },
     "execution_count": 7,
     "metadata": {},
     "output_type": "execute_result"
    }
   ],
   "source": [
    "# Descripción de los datos para los 5 grupos de edad\n",
    "nombres_grupos_edad = [\"adolescentes\", \"jovenes\", \"adultos_jovenes\", \"adultos_mediana_edad\", \"mayores\"]\n",
    "\n",
    "description = [] # Variable que almacena los datos descriptivos de cada dataframe por grupo de edad\n",
    "\n",
    "for i, grupo_edad in enumerate(nombres_grupos_edad):\n",
    "\n",
    "    # Obtener el Dataframe con globals()\n",
    "    df = globals()[grupo_edad]\n",
    "    \n",
    "    # Description\n",
    "    describe = df[\"Edad\"].describe()\n",
    "    description.append(describe)\n",
    "    \n",
    "description = pd.concat(description, axis = 1)\n",
    "description.columns = nombres_grupos_edad\n",
    "description"
   ]
  },
  {
   "cell_type": "markdown",
   "id": "9f814234",
   "metadata": {},
   "source": [
    "+ **GRUPO ADOLESCENTES:** La media de edad de los accidentes acuáticos para el grupo de adolescentes es de aproximadamente 9 años, con una desviación estándard del 4,48. Podemos considerar esta desviación dentro del rango de la normalidad, tomando edades comprendidas entre [5-13] años. El 75% de los individuos tiene 13 años o menos, considerandose un grupo de edad muy jóven y que aún asi sufren bastantes accidentes acuáticos.\n",
    "\n",
    "\n",
    "+ **GRUPO JOVENES:** La media de edad de los accidentes acuáticos para el grupo de jovenes es de aproximadamente 24 años, con una desviación estándard del 4,79. Podemos considerar esta desviación dentro del rango de la normalidad, tomando edades comprendidas entre [20-28] años. \n",
    "\n",
    "\n",
    "+ **GRUPO ADULTOS JOVENES:** La media de edad de los accidentes acuáticos para el grupo de adultos jovenes es de 40 años, con una desviación estándard del 3,77. Podemos considerar esta desviación dentro del rango de la normalidad y la que mejor representa la media respecto al resto de grupos, tomando edades comprendidas entre [36-42] años.\n",
    "\n",
    "\n",
    "+ **GRUPO ADULTOS MEDIANA EDAD:** La media de edad de los accidentes acuáticos para el grupo de adultos mediana edad es de aproximadamente 53 años, con una desviación estándard del 4,43. Podemos considerar esta desviación dentro del rango de la normalidad, tomando edades comprendidas entre [49-57] años. \n",
    "\n",
    "\n",
    "+ **GRUPO MAYORES:** La media de edad de los accidentes acuáticos para el grupo de mayores es de aproximadamente 74 años, con una desviación estándard del 7,28, muy superior al resto de grupos. Podemos considerar esta desviación alejada del rango de la normalidad, tomando edades comprendidas entre [66-80] años. "
   ]
  },
  {
   "cell_type": "markdown",
   "id": "7c4745ed",
   "metadata": {},
   "source": [
    "# <span style=color:darkblue> Test de hipótesis</span>"
   ]
  },
  {
   "cell_type": "markdown",
   "id": "7cadcc62",
   "metadata": {},
   "source": [
    "## <span style=color:darkblue> Grupos de edad con Distribución Normal </span>\n",
    "\n",
    "$H_0$: Los datos de edad siguen una distribución normal\n",
    "\n",
    "$H_A$: Los datos de edad no siguen una distribución normal"
   ]
  },
  {
   "cell_type": "code",
   "execution_count": 8,
   "id": "82109910",
   "metadata": {},
   "outputs": [],
   "source": [
    "# Comprobamos si los grupos de edad siguen una distribución normal\n",
    "def check_normality(datos):\n",
    "    \n",
    "    p_value = stats.shapiro(datos)[1]\n",
    "    \n",
    "    if p_value < 0.05:\n",
    "        print(\"Los datos de edad no siguen una distribución normal: \", p_value)\n",
    "    else:\n",
    "        print(\"Los datos de edad siguen una distribución normal: \", p_value)"
   ]
  },
  {
   "cell_type": "code",
   "execution_count": 9,
   "id": "4ca539d0",
   "metadata": {},
   "outputs": [
    {
     "name": "stdout",
     "output_type": "stream",
     "text": [
      "Para el grupo de edad: adolescentes\n",
      "Los datos de edad no siguen una distribución normal:  8.612617386868548e-23\n",
      "\n",
      "Para el grupo de edad: jovenes\n",
      "Los datos de edad no siguen una distribución normal:  8.574018245282381e-26\n",
      "\n",
      "Para el grupo de edad: adultos_jovenes\n",
      "Los datos de edad no siguen una distribución normal:  1.4281316896580638e-20\n",
      "\n",
      "Para el grupo de edad: adultos_mediana_edad\n",
      "Los datos de edad no siguen una distribución normal:  1.9261138475857655e-25\n",
      "\n",
      "Para el grupo de edad: mayores\n",
      "Los datos de edad no siguen una distribución normal:  1.2002654351964683e-18\n",
      "\n"
     ]
    }
   ],
   "source": [
    "for i, grupo_edad in enumerate(nombres_grupos_edad):\n",
    "\n",
    "    # Obtener el Dataframe con globals()\n",
    "    df = globals()[grupo_edad]\n",
    "    print(\"Para el grupo de edad:\", grupo_edad)\n",
    "    check_normality(df[\"Edad\"])\n",
    "    print(\"\")"
   ]
  },
  {
   "cell_type": "markdown",
   "id": "1bad2892",
   "metadata": {},
   "source": [
    "+ Podemos concluir que ninguno de los grupos de edad tiene una distribución normal, ya que su p-value es inferior a 0.05, por lo que rechazamos la hipótesis nula y no podemos afirmar que los datos siguen una distribución normal."
   ]
  },
  {
   "cell_type": "markdown",
   "id": "3bbbced8",
   "metadata": {},
   "source": [
    "## <span style=color:darkblue> Grupos de edad con varianza homogénea</span>\n",
    "\n",
    "$H_0$: La varianza de los grupos de edad es homogenea\n",
    "\n",
    "$H_A$: La varianza de los grupos de edad no es homogenea"
   ]
  },
  {
   "cell_type": "code",
   "execution_count": 10,
   "id": "4059224e",
   "metadata": {},
   "outputs": [],
   "source": [
    "# Comprobamos si los grupos de edad tienen una varianza parecida entre ellos (homogeneidad)\n",
    "def check_variance_homogeneity(group1, group2):\n",
    "    \n",
    "    p_value = stats.levene(group1, group2)[1] # Prueba de Levene\n",
    "    \n",
    "    if p_value < 0.05:\n",
    "        print(\"La varianza de los grupos no es homogénea\", p_value)\n",
    "    else:\n",
    "        print(\"La varianza de los grupos es homogénea\", p_value)"
   ]
  },
  {
   "cell_type": "code",
   "execution_count": 11,
   "id": "af3c093f",
   "metadata": {
    "scrolled": false
   },
   "outputs": [
    {
     "name": "stdout",
     "output_type": "stream",
     "text": [
      "Para el grupo de edad: adolescentes y jovenes\n",
      "La varianza de los grupos no es homogénea 0.0043770515968284095\n",
      "\n",
      "Para el grupo de edad: adolescentes y adultos_jovenes\n",
      "La varianza de los grupos no es homogénea 1.2047014409277054e-13\n",
      "\n",
      "Para el grupo de edad: adolescentes y adultos_mediana_edad\n",
      "La varianza de los grupos es homogénea 0.9644862152268961\n",
      "\n",
      "Para el grupo de edad: adolescentes y mayores\n",
      "La varianza de los grupos no es homogénea 4.160135700545411e-53\n",
      "\n",
      "Para el grupo de edad: jovenes y adultos_jovenes\n",
      "La varianza de los grupos no es homogénea 1.2374474699447155e-26\n",
      "\n",
      "Para el grupo de edad: jovenes y adultos_mediana_edad\n",
      "La varianza de los grupos no es homogénea 0.0011187790504763504\n",
      "\n",
      "Para el grupo de edad: jovenes y mayores\n",
      "La varianza de los grupos no es homogénea 5.617611724571271e-44\n",
      "\n",
      "Para el grupo de edad: adultos_jovenes y adultos_mediana_edad\n",
      "La varianza de los grupos no es homogénea 9.12909711832689e-17\n",
      "\n",
      "Para el grupo de edad: adultos_jovenes y mayores\n",
      "La varianza de los grupos no es homogénea 1.7884940353137269e-96\n",
      "\n",
      "Para el grupo de edad: adultos_mediana_edad y mayores\n",
      "La varianza de los grupos no es homogénea 1.1724903495923952e-64\n",
      "\n"
     ]
    }
   ],
   "source": [
    "for i, grupo_edad in enumerate(nombres_grupos_edad):\n",
    "    df = globals()[grupo_edad]\n",
    "    \n",
    "    for j in range(i+1, len(nombres_grupos_edad)):\n",
    "        grupo_edad2 = nombres_grupos_edad[j]\n",
    "        df2 = globals()[grupo_edad2]\n",
    "        \n",
    "        print(\"Para el grupo de edad:\", grupo_edad, \"y\", grupo_edad2)\n",
    "        check_variance_homogeneity(df[\"Edad\"], df2[\"Edad\"])\n",
    "        print(\"\")"
   ]
  },
  {
   "cell_type": "markdown",
   "id": "0c74f324",
   "metadata": {},
   "source": [
    "+ La regla general nos dice que al comparar la varianza de dos grupos de edad ésta no suele ser homogénea, excepto para el caso de comparar la varianza del grupo de edad entre adolescentes y adultos jóvenes, ya que ésta es homogénea.\n",
    "\n",
    "\n",
    "+ Incluso si hubiesemos cogido un p-valor inferior de 0.5 como el 0.1, la varianza del grupo de edad adolescentes y jóvenes hubiese sido también homogénea."
   ]
  },
  {
   "cell_type": "markdown",
   "id": "e6ed2726",
   "metadata": {},
   "source": [
    "**CONCLUSIÓN** Podemos resumir que los grupos de edad se distribuyen de manera no normal y la varianza de la mayoría de grupos no es homogénea.\n",
    "\n",
    "---\n"
   ]
  },
  {
   "cell_type": "markdown",
   "id": "f7698344",
   "metadata": {},
   "source": [
    "## <span style=color:darkblue> Test de Hipótesis : Número de ahogamientos por grupos de edad </span>\n",
    "\n",
    "+ El objetivo es analizar si los grupos de edad difieren significativamente en cuanto al número total de ahogamientos\n",
    "\n",
    "$H_0$: No hay diferencias significativas en el número total de ahogamientos entre los grupos de edad\n",
    "\n",
    "$H_A$: Existen diferencias significativas en el número total de ahogamientos entre al menos dos de los grupos de edad\n"
   ]
  },
  {
   "cell_type": "code",
   "execution_count": 95,
   "id": "4cb04c64",
   "metadata": {
    "scrolled": true
   },
   "outputs": [
    {
     "data": {
      "text/plain": [
       "Edad\n",
       "1.0      19\n",
       "2.0      81\n",
       "3.0      78\n",
       "4.0      76\n",
       "5.0      56\n",
       "6.0      48\n",
       "7.0      38\n",
       "8.0      68\n",
       "9.0      34\n",
       "10.0    127\n",
       "11.0     44\n",
       "12.0     87\n",
       "13.0     46\n",
       "14.0     68\n",
       "15.0    157\n",
       "Name: Edad, dtype: int64"
      ]
     },
     "execution_count": 95,
     "metadata": {},
     "output_type": "execute_result"
    }
   ],
   "source": [
    "# Observamos el número de ahogamientos por edad para el grupo de adolescentes\n",
    "adolescentes.groupby([\"Edad\"])[\"Edad\"].count()"
   ]
  },
  {
   "cell_type": "markdown",
   "id": "5b59f5e5",
   "metadata": {},
   "source": [
    "+ Los datos nos revelan que para el grupo de edad adolescentes, el número de accidentes acuáticos sufridos por adolescentes con una edad de 15 años ha sido de 157. Este procedimiento se sigue para el resto de grupos con el fin de poder aplicar el test de Kruskal-Wallis y poder comprobar si el número de accidentes acuáticos influye dependiendo del grupo de edad."
   ]
  },
  {
   "cell_type": "code",
   "execution_count": 85,
   "id": "dde34489",
   "metadata": {},
   "outputs": [],
   "source": [
    "# Grupos que almacenan el número de ahogamientos por edades\n",
    "ahog_por_edad_adolescentes = adolescentes.groupby([\"Edad\"])[\"Edad\"].count().values\n",
    "ahog_por_edad_jovenes = jovenes.groupby([\"Edad\"])[\"Edad\"].count().values\n",
    "ahog_por_edad_adultos_jovenes = adultos_jovenes.groupby([\"Edad\"])[\"Edad\"].count().values\n",
    "ahog_por_edad_adultos_mediana_edad = adultos_mediana_edad.groupby([\"Edad\"])[\"Edad\"].count().values\n",
    "ahog_por_edad_mayores = mayores.groupby([\"Edad\"])[\"Edad\"].count().values"
   ]
  },
  {
   "cell_type": "code",
   "execution_count": 94,
   "id": "e503af18",
   "metadata": {},
   "outputs": [
    {
     "name": "stdout",
     "output_type": "stream",
     "text": [
      "Para el grupo de edad: ahog_por_edad_adolescentes\n",
      "Los datos de edad siguen una distribución normal:  0.12181562930345535\n",
      "\n",
      "Para el grupo de edad: ahog_por_edad_jovenes\n",
      "Los datos de edad no siguen una distribución normal:  0.00025574341998435557\n",
      "\n",
      "Para el grupo de edad: ahog_por_edad_adultos_jovenes\n",
      "Los datos de edad no siguen una distribución normal:  0.00010582809773040935\n",
      "\n",
      "Para el grupo de edad: ahog_por_edad_adultos_mediana_edad\n",
      "Los datos de edad no siguen una distribución normal:  2.1428073523566127e-05\n",
      "\n",
      "Para el grupo de edad: ahog_por_edad_mayores\n",
      "Los datos de edad no siguen una distribución normal:  2.0091179067094345e-06\n",
      "\n"
     ]
    }
   ],
   "source": [
    "# Comprobamos la distribución normal de los grupos de edad\n",
    "ahogamientos_por_edad = [\"ahog_por_edad_adolescentes\", \"ahog_por_edad_jovenes\", \\\n",
    "                         \"ahog_por_edad_adultos_jovenes\", \"ahog_por_edad_adultos_mediana_edad\", \\\n",
    "                         \"ahog_por_edad_mayores\"]\n",
    "\n",
    "for i, grupo_edad in enumerate(ahogamientos_por_edad):\n",
    "    df = globals()[grupo_edad]    \n",
    "    print(\"Para el grupo de edad:\", grupo_edad)\n",
    "    check_normality(df)\n",
    "    print(\"\")"
   ]
  },
  {
   "cell_type": "markdown",
   "id": "edb22c9f",
   "metadata": {},
   "source": [
    "+ Solo el grupo de adolescentes sigue una distribución normal en sus datos"
   ]
  },
  {
   "cell_type": "code",
   "execution_count": 97,
   "id": "c78cbd7c",
   "metadata": {},
   "outputs": [
    {
     "name": "stdout",
     "output_type": "stream",
     "text": [
      "Para el grupo de edad: ahog_por_edad_adolescentes y ahog_por_edad_jovenes\n",
      "La varianza de los grupos es homogénea 0.4980832009603151\n",
      "\n",
      "Para el grupo de edad: ahog_por_edad_adolescentes y ahog_por_edad_adultos_jovenes\n",
      "La varianza de los grupos es homogénea 0.6017633823074405\n",
      "\n",
      "Para el grupo de edad: ahog_por_edad_adolescentes y ahog_por_edad_adultos_mediana_edad\n",
      "La varianza de los grupos es homogénea 0.745417259385138\n",
      "\n",
      "Para el grupo de edad: ahog_por_edad_adolescentes y ahog_por_edad_mayores\n",
      "La varianza de los grupos es homogénea 0.6742119294581161\n",
      "\n",
      "Para el grupo de edad: ahog_por_edad_jovenes y ahog_por_edad_adultos_jovenes\n",
      "La varianza de los grupos es homogénea 0.9295195273192021\n",
      "\n",
      "Para el grupo de edad: ahog_por_edad_jovenes y ahog_por_edad_adultos_mediana_edad\n",
      "La varianza de los grupos es homogénea 0.7982582449902911\n",
      "\n",
      "Para el grupo de edad: ahog_por_edad_jovenes y ahog_por_edad_mayores\n",
      "La varianza de los grupos es homogénea 0.6621609393565868\n",
      "\n",
      "Para el grupo de edad: ahog_por_edad_adultos_jovenes y ahog_por_edad_adultos_mediana_edad\n",
      "La varianza de los grupos es homogénea 0.8758956305210476\n",
      "\n",
      "Para el grupo de edad: ahog_por_edad_adultos_jovenes y ahog_por_edad_mayores\n",
      "La varianza de los grupos es homogénea 0.7760514444288367\n",
      "\n",
      "Para el grupo de edad: ahog_por_edad_adultos_mediana_edad y ahog_por_edad_mayores\n",
      "La varianza de los grupos es homogénea 0.9609184825063226\n",
      "\n"
     ]
    }
   ],
   "source": [
    "# Comprobamos la homogeneidad de la varianza entre los grupos\n",
    "ahogamientos_por_edad = [\"ahog_por_edad_adolescentes\", \"ahog_por_edad_jovenes\", \\\n",
    "                         \"ahog_por_edad_adultos_jovenes\", \"ahog_por_edad_adultos_mediana_edad\", \\\n",
    "                         \"ahog_por_edad_mayores\"]\n",
    "\n",
    "for i, grupo_edad in enumerate(ahogamientos_por_edad):\n",
    "    df = globals()[grupo_edad]\n",
    "    \n",
    "    for j in range(i+1, len(ahogamientos_por_edad)):\n",
    "        grupo_edad2 = ahogamientos_por_edad[j]\n",
    "        df2 = globals()[grupo_edad2]\n",
    "        \n",
    "        print(\"Para el grupo de edad:\", grupo_edad, \"y\", grupo_edad2)\n",
    "        check_variance_homogeneity(df, df2)\n",
    "        print(\"\")"
   ]
  },
  {
   "cell_type": "markdown",
   "id": "a2628c9d",
   "metadata": {},
   "source": [
    "**CONCLUSIÓN:** Se observa como las varianzas entre todos los grupos es homogénea. Como se concluye que no se cumple el supuesto de normalidad (excepto para el grupo adolescentes), pero si el supuesto de homogéneidad en la varianza entre los grupos usaremos el test de hipótesis **Kruskal-Wallis**. "
   ]
  },
  {
   "cell_type": "code",
   "execution_count": 137,
   "id": "f9b93789",
   "metadata": {},
   "outputs": [],
   "source": [
    "# Test de Kruskal-Wallis // stats.mannwhitneyu()\n",
    "def kruskal_wallis_test(*groups):\n",
    "    \n",
    "    stat, p_value = stats.kruskal(*groups)\n",
    "\n",
    "    if p_value < 0.05:\n",
    "        \n",
    "        print(\"Existen diferencias significativas en el número total de ahogamientos entre al menos dos de los grupos de edad\", round(p_value, 4))\n",
    "    else:\n",
    "        print( \"No hay diferencias significativas en el número total de ahogamientos entre los grupos de edad\", round(p_value, 4))\n"
   ]
  },
  {
   "cell_type": "code",
   "execution_count": 138,
   "id": "95659ce1",
   "metadata": {},
   "outputs": [
    {
     "name": "stdout",
     "output_type": "stream",
     "text": [
      "Para el grupo de edad: ahog_por_edad_adolescentes y ahog_por_edad_jovenes\n",
      "No hay diferencias significativas en el número total de ahogamientos entre los grupos de edad 0.5337\n",
      "\n",
      "Para el grupo de edad: ahog_por_edad_adolescentes y ahog_por_edad_adultos_jovenes\n",
      "No hay diferencias significativas en el número total de ahogamientos entre los grupos de edad 0.3825\n",
      "\n",
      "Para el grupo de edad: ahog_por_edad_adolescentes y ahog_por_edad_adultos_mediana_edad\n",
      "No hay diferencias significativas en el número total de ahogamientos entre los grupos de edad 0.7554\n",
      "\n",
      "Para el grupo de edad: ahog_por_edad_adolescentes y ahog_por_edad_mayores\n",
      "No hay diferencias significativas en el número total de ahogamientos entre los grupos de edad 0.1559\n",
      "\n",
      "Para el grupo de edad: ahog_por_edad_jovenes y ahog_por_edad_adultos_jovenes\n",
      "No hay diferencias significativas en el número total de ahogamientos entre los grupos de edad 0.7765\n",
      "\n",
      "Para el grupo de edad: ahog_por_edad_jovenes y ahog_por_edad_adultos_mediana_edad\n",
      "No hay diferencias significativas en el número total de ahogamientos entre los grupos de edad 0.1459\n",
      "\n",
      "Para el grupo de edad: ahog_por_edad_jovenes y ahog_por_edad_mayores\n",
      "No hay diferencias significativas en el número total de ahogamientos entre los grupos de edad 0.6874\n",
      "\n",
      "Para el grupo de edad: ahog_por_edad_adultos_jovenes y ahog_por_edad_adultos_mediana_edad\n",
      "Existen diferencias significativas en el número total de ahogamientos entre al menos dos de los grupos de edad 0.0217\n",
      "\n",
      "Para el grupo de edad: ahog_por_edad_adultos_jovenes y ahog_por_edad_mayores\n",
      "No hay diferencias significativas en el número total de ahogamientos entre los grupos de edad 0.9382\n",
      "\n",
      "Para el grupo de edad: ahog_por_edad_adultos_mediana_edad y ahog_por_edad_mayores\n",
      "No hay diferencias significativas en el número total de ahogamientos entre los grupos de edad 0.1588\n",
      "\n"
     ]
    }
   ],
   "source": [
    "# Comprobamos si hay diferencias en el número de ahogamientos por grupos de edad\n",
    "for i, grupo_edad in enumerate(ahogamientos_por_edad):\n",
    "    df = globals()[grupo_edad]\n",
    "    \n",
    "    for j in range(i+1, len(ahogamientos_por_edad)):\n",
    "        grupo_edad2 = ahogamientos_por_edad[j]\n",
    "        df2 = globals()[grupo_edad2]\n",
    "        \n",
    "        print(\"Para el grupo de edad:\", grupo_edad, \"y\", grupo_edad2)\n",
    "        kruskal_wallis_test(df, df2)\n",
    "        print(\"\")"
   ]
  },
  {
   "cell_type": "code",
   "execution_count": 139,
   "id": "8e6cde79",
   "metadata": {},
   "outputs": [
    {
     "name": "stdout",
     "output_type": "stream",
     "text": [
      "No hay diferencias significativas en el número total de ahogamientos entre los grupos de edad 0.3195\n"
     ]
    }
   ],
   "source": [
    "# Analizando si hay diferencias a nivel global (entre todos los grupos)\n",
    "kruskal_wallis_test(ahog_por_edad_adolescentes, ahog_por_edad_jovenes, ahog_por_edad_adultos_jovenes, ahog_por_edad_adultos_mediana_edad, ahog_por_edad_mayores)"
   ]
  },
  {
   "cell_type": "markdown",
   "id": "b720dc37",
   "metadata": {},
   "source": [
    "**CONCLUSIÓN:** Aparentemente no hay diferencias en el número de ahogados entre los grupos de edad ni en su conjunto ni comparando intragrupos, excepto por el caso del grupo de adultos jovenes con el grupo de adultos de mediana edad que si hay diferencias significativas en el número de ahogamientos."
   ]
  },
  {
   "cell_type": "markdown",
   "id": "49b3875c",
   "metadata": {},
   "source": [
    "---\n",
    "<span style=color:red> **DUDA** </span> No se si es mejor usar el test de kruskal-Wallis o U Mann Whitney\n",
    "\n",
    "He dividido los datos en grupos de edad y he sumado el numero de accidentes acuáticos para cada edad en cada uno de los grupos y he realizado el test de hipotesis para ver si el numero de ahogamientos dependiendo de la edad es significativo. Mi duda nose cuál es mejor aplicar:\n",
    "\n",
    "- **Kruska-Wallis**\n",
    "\n",
    "    - Asume que las observaciones en cada grupo son independientes entre sí, las mediciones en un grupo no están relacionadas por las mediciones en otros grupos.\n",
    "    - La variable que se analiza es ordinal (No se requiere que sigan una distribución normal)\n",
    "    - Las distribuciones son similares entre los grupos (homogeneidad de la distribución)\n",
    "    \n",
    "    \n",
    "- **U Mann Whitney**\n",
    "\n",
    "    - Asume también que las observaciones de cada grupo son independientes entre sí.\n",
    "    - La variable que se analiza es ordinal\n",
    "    - No asume una distribución particular para los datos en cada uno de los grupos, pero si asume que la distribución sea similar entre los grupos.\n",
    "    \n",
    "Parece que según mis datos que entre los grupos hay una distribución similar (homogeneidad en la varianza) tenga más sentido aplicar el test de U Mann Whitney, pero este test solo permite comparar 2 grupos y el test de Kruskal-Wallis permite comparar entre 2 grupos o más."
   ]
  }
 ],
 "metadata": {
  "kernelspec": {
   "display_name": "Python 3 (ipykernel)",
   "language": "python",
   "name": "python3"
  },
  "language_info": {
   "codemirror_mode": {
    "name": "ipython",
    "version": 3
   },
   "file_extension": ".py",
   "mimetype": "text/x-python",
   "name": "python",
   "nbconvert_exporter": "python",
   "pygments_lexer": "ipython3",
   "version": "3.10.6"
  },
  "toc": {
   "base_numbering": 1,
   "nav_menu": {},
   "number_sections": true,
   "sideBar": true,
   "skip_h1_title": false,
   "title_cell": "Table of Contents",
   "title_sidebar": "Contents",
   "toc_cell": false,
   "toc_position": {},
   "toc_section_display": true,
   "toc_window_display": false
  }
 },
 "nbformat": 4,
 "nbformat_minor": 5
}
