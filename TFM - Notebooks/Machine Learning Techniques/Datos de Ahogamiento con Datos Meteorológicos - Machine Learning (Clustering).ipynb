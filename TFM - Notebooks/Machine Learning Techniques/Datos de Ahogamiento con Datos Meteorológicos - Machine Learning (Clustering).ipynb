{
 "cells": [
  {
   "attachments": {
    "UIMP.jpeg": {
     "image/jpeg": "[encoded data removed]"
    }
   },
   "cell_type": "markdown",
   "id": "60d4ea3f",
   "metadata": {},
   "source": [
    "![UIMP.jpeg](attachment:UIMP.jpeg)"
   ]
  },
  {
   "cell_type": "markdown",
   "id": "d498923f",
   "metadata": {},
   "source": [
    "<div class=\"alert alert-block alert-info\"><font size=\"5\"><center><b><u>Adrià Nova Pagés</u></b></center></font>"
   ]
  },
  {
   "cell_type": "markdown",
   "id": "1037263f",
   "metadata": {},
   "source": [
    "# <span style=color:darkblue>Machine Learning - CLUSTERING</span>\n",
    "\n",
    "**REFERENCES**\n",
    "\n",
    "- https://towardsdatascience.com/clustering-on-numerical-and-categorical-features-6e0ebcf1cbad\n",
    "- https://www.analyticsvidhya.com/blog/2021/06/kmodes-clustering-algorithm-for-categorical-data/\n",
    "- https://medium.com/analytics-vidhya/clustering-on-mixed-data-types-in-python-7c22b3898086\n",
    "- https://towardsdatascience.com/the-k-prototype-as-clustering-algorithm-for-mixed-data-type-categorical-and-numerical-fe7c50538ebb\n",
    "\n",
    "**SELECCIÓN DE VARIABLES CATEGORICAS Y NUMERICAS**\n",
    "- https://machinelearningmastery.com/feature-selection-with-categorical-data/ - Categóricas\n",
    "- https://towardsdatascience.com/feature-selection-techniques-for-classification-and-python-tips-for-their-application-10c0ddd7918b - Numéricas\n",
    "- https://www.dataknowsall.com/featureselection.html - Mixed dtypes\n",
    "- https://www.analyticsvidhya.com/blog/2020/10/feature-selection-techniques-in-machine-learning/ - Mixed dtypes"
   ]
  },
  {
   "cell_type": "code",
   "execution_count": 128,
   "id": "2c412f1e",
   "metadata": {},
   "outputs": [],
   "source": [
    "# Libraries\n",
    "import numpy as np\n",
    "import pandas as pd\n",
    "import matplotlib.pyplot as plt\n",
    "import datetime"
   ]
  },
  {
   "cell_type": "code",
   "execution_count": 129,
   "id": "dd94bd5d",
   "metadata": {
    "scrolled": false
   },
   "outputs": [
    {
     "data": {
      "text/html": [
       "<div>\n",
       "<style scoped>\n",
       "    .dataframe tbody tr th:only-of-type {\n",
       "        vertical-align: middle;\n",
       "    }\n",
       "\n",
       "    .dataframe tbody tr th {\n",
       "        vertical-align: top;\n",
       "    }\n",
       "\n",
       "    .dataframe thead th {\n",
       "        text-align: right;\n",
       "    }\n",
       "</style>\n",
       "<table border=\"1\" class=\"dataframe\">\n",
       "  <thead>\n",
       "    <tr style=\"text-align: right;\">\n",
       "      <th></th>\n",
       "      <th>Fecha</th>\n",
       "      <th>IdAhogado</th>\n",
       "      <th>IdPersona</th>\n",
       "      <th>Localidad</th>\n",
       "      <th>Provincia</th>\n",
       "      <th>CCAA</th>\n",
       "      <th>Hora</th>\n",
       "      <th>Latitud</th>\n",
       "      <th>Longitud</th>\n",
       "      <th>Sexo</th>\n",
       "      <th>Edad</th>\n",
       "      <th>Nacionalidad</th>\n",
       "      <th>Origen</th>\n",
       "      <th>Extraccion</th>\n",
       "      <th>Titular</th>\n",
       "      <th>Causa</th>\n",
       "      <th>TipoAhogamiento</th>\n",
       "      <th>Factor</th>\n",
       "      <th>Intervencion</th>\n",
       "      <th>Pronostico</th>\n",
       "      <th>Localizacion</th>\n",
       "      <th>Riesgo</th>\n",
       "      <th>Reanimacion</th>\n",
       "      <th>Vigilancia</th>\n",
       "      <th>Actividad</th>\n",
       "      <th>Deteccion</th>\n",
       "      <th>Enlace1</th>\n",
       "      <th>Indicador</th>\n",
       "      <th>Estacion</th>\n",
       "      <th>Altitud</th>\n",
       "      <th>TempMed</th>\n",
       "      <th>Precip</th>\n",
       "      <th>TempMin</th>\n",
       "      <th>TempMax</th>\n",
       "      <th>DirViento</th>\n",
       "      <th>VelMedViento</th>\n",
       "      <th>RachaViento</th>\n",
       "      <th>TiempoSol</th>\n",
       "      <th>PresionMax</th>\n",
       "      <th>PresionMin</th>\n",
       "    </tr>\n",
       "  </thead>\n",
       "  <tbody>\n",
       "    <tr>\n",
       "      <th>0</th>\n",
       "      <td>30-12-2020</td>\n",
       "      <td>7432</td>\n",
       "      <td>8532</td>\n",
       "      <td>Torredembarra</td>\n",
       "      <td>Tarragona</td>\n",
       "      <td>Cataluña</td>\n",
       "      <td>NaN</td>\n",
       "      <td>41.130523</td>\n",
       "      <td>1.395311</td>\n",
       "      <td>NaN</td>\n",
       "      <td>NaN</td>\n",
       "      <td>España</td>\n",
       "      <td>NaN</td>\n",
       "      <td>Embarcación de rescate</td>\n",
       "      <td>Encuentran un cadáver flotando en el mar cerca...</td>\n",
       "      <td>NaN</td>\n",
       "      <td>Posible Ahogamiento</td>\n",
       "      <td>NaN</td>\n",
       "      <td>Recuperación de cadaver</td>\n",
       "      <td>Ahogamiento mortal</td>\n",
       "      <td>Franja costera o alta mar</td>\n",
       "      <td>NaN</td>\n",
       "      <td>Recuperacion de cadaver</td>\n",
       "      <td>No vigilado</td>\n",
       "      <td>NaN</td>\n",
       "      <td>Ciudadano</td>\n",
       "      <td>#https://www.diarimes.com/es/noticias/camp_tar...</td>\n",
       "      <td>9981A</td>\n",
       "      <td>ESTACIÓN DE TORTOSA (ROQUETES)</td>\n",
       "      <td>50</td>\n",
       "      <td>10.0</td>\n",
       "      <td>0.0</td>\n",
       "      <td>8.0</td>\n",
       "      <td>12.1</td>\n",
       "      <td>30.0</td>\n",
       "      <td>4.4</td>\n",
       "      <td>22.8</td>\n",
       "      <td>3.9</td>\n",
       "      <td>1010.0</td>\n",
       "      <td>1000.9</td>\n",
       "    </tr>\n",
       "    <tr>\n",
       "      <th>1</th>\n",
       "      <td>29-12-2020</td>\n",
       "      <td>7431</td>\n",
       "      <td>8531</td>\n",
       "      <td>Cádiz, Playa de Santa Maria del Mar</td>\n",
       "      <td>Cádiz</td>\n",
       "      <td>Andalucía</td>\n",
       "      <td>17:48</td>\n",
       "      <td>36.519991</td>\n",
       "      <td>-6.287258</td>\n",
       "      <td>NaN</td>\n",
       "      <td>NaN</td>\n",
       "      <td>España</td>\n",
       "      <td>NaN</td>\n",
       "      <td>Ciudadano</td>\n",
       "      <td>Evacuada al hospital en estado grave una perso...</td>\n",
       "      <td>NaN</td>\n",
       "      <td>Posible Ahogamiento</td>\n",
       "      <td>NaN</td>\n",
       "      <td>Recuperación de cadaver</td>\n",
       "      <td>Ahogamiento no mortal con hospitalizacion</td>\n",
       "      <td>Playas sin vigilancia</td>\n",
       "      <td>NaN</td>\n",
       "      <td>SVA por SEM</td>\n",
       "      <td>No vigilado</td>\n",
       "      <td>Natación recreativa</td>\n",
       "      <td>Ciudadano</td>\n",
       "      <td>#https://elcorreoweb.es/andalucia/encuentran-u...</td>\n",
       "      <td>5973</td>\n",
       "      <td>CÁDIZ</td>\n",
       "      <td>2</td>\n",
       "      <td>12.2</td>\n",
       "      <td>0.2</td>\n",
       "      <td>9.2</td>\n",
       "      <td>15.3</td>\n",
       "      <td>32.0</td>\n",
       "      <td>3.3</td>\n",
       "      <td>9.4</td>\n",
       "      <td>NaN</td>\n",
       "      <td>1017.0</td>\n",
       "      <td>1011.4</td>\n",
       "    </tr>\n",
       "  </tbody>\n",
       "</table>\n",
       "</div>"
      ],
      "text/plain": [
       "        Fecha  IdAhogado  IdPersona                            Localidad  \\\n",
       "0  30-12-2020       7432       8532                        Torredembarra   \n",
       "1  29-12-2020       7431       8531  Cádiz, Playa de Santa Maria del Mar   \n",
       "\n",
       "   Provincia       CCAA   Hora    Latitud   Longitud Sexo  Edad Nacionalidad  \\\n",
       "0  Tarragona   Cataluña    NaN  41.130523   1.395311  NaN   NaN       España   \n",
       "1      Cádiz  Andalucía  17:48  36.519991  -6.287258  NaN   NaN       España   \n",
       "\n",
       "  Origen              Extraccion  \\\n",
       "0    NaN  Embarcación de rescate   \n",
       "1    NaN               Ciudadano   \n",
       "\n",
       "                                             Titular Causa  \\\n",
       "0  Encuentran un cadáver flotando en el mar cerca...   NaN   \n",
       "1  Evacuada al hospital en estado grave una perso...   NaN   \n",
       "\n",
       "       TipoAhogamiento Factor             Intervencion  \\\n",
       "0  Posible Ahogamiento    NaN  Recuperación de cadaver   \n",
       "1  Posible Ahogamiento    NaN  Recuperación de cadaver   \n",
       "\n",
       "                                  Pronostico               Localizacion  \\\n",
       "0                         Ahogamiento mortal  Franja costera o alta mar   \n",
       "1  Ahogamiento no mortal con hospitalizacion      Playas sin vigilancia   \n",
       "\n",
       "  Riesgo              Reanimacion   Vigilancia            Actividad  \\\n",
       "0    NaN  Recuperacion de cadaver  No vigilado                  NaN   \n",
       "1    NaN              SVA por SEM  No vigilado  Natación recreativa   \n",
       "\n",
       "   Deteccion                                            Enlace1 Indicador  \\\n",
       "0  Ciudadano  #https://www.diarimes.com/es/noticias/camp_tar...     9981A   \n",
       "1  Ciudadano  #https://elcorreoweb.es/andalucia/encuentran-u...      5973   \n",
       "\n",
       "                         Estacion  Altitud  TempMed  Precip  TempMin  TempMax  \\\n",
       "0  ESTACIÓN DE TORTOSA (ROQUETES)       50     10.0     0.0      8.0     12.1   \n",
       "1                           CÁDIZ        2     12.2     0.2      9.2     15.3   \n",
       "\n",
       "   DirViento  VelMedViento  RachaViento  TiempoSol  PresionMax  PresionMin  \n",
       "0       30.0           4.4         22.8        3.9      1010.0      1000.9  \n",
       "1       32.0           3.3          9.4        NaN      1017.0      1011.4  "
      ]
     },
     "execution_count": 129,
     "metadata": {},
     "output_type": "execute_result"
    }
   ],
   "source": [
    "pd.set_option('display.max_columns', None)\n",
    "ahogamientos = pd.read_csv(\"/Users/adrianova/Desktop/git/TFM - Notebooks/datos_ahogamiento_meteorologicos2.csv\",  encoding='utf-8')\n",
    "ahogamientos.head(2)"
   ]
  },
  {
   "cell_type": "code",
   "execution_count": 130,
   "id": "f5fa613d",
   "metadata": {},
   "outputs": [
    {
     "data": {
      "text/plain": [
       "Index(['Fecha', 'IdAhogado', 'IdPersona', 'Localidad', 'Provincia', 'CCAA',\n",
       "       'Hora', 'Latitud', 'Longitud', 'Sexo', 'Edad', 'Nacionalidad', 'Origen',\n",
       "       'Extraccion', 'Titular', 'Causa', 'TipoAhogamiento', 'Factor',\n",
       "       'Intervencion', 'Pronostico', 'Localizacion', 'Riesgo', 'Reanimacion',\n",
       "       'Vigilancia', 'Actividad', 'Deteccion', 'Enlace1', 'Indicador',\n",
       "       'Estacion', 'Altitud', 'TempMed', 'Precip', 'TempMin', 'TempMax',\n",
       "       'DirViento', 'VelMedViento', 'RachaViento', 'TiempoSol', 'PresionMax',\n",
       "       'PresionMin'],\n",
       "      dtype='object')"
      ]
     },
     "execution_count": 130,
     "metadata": {},
     "output_type": "execute_result"
    }
   ],
   "source": [
    "ahogamientos.columns"
   ]
  },
  {
   "cell_type": "code",
   "execution_count": null,
   "id": "45d83dea",
   "metadata": {},
   "outputs": [],
   "source": []
  },
  {
   "cell_type": "markdown",
   "id": "d79ba813",
   "metadata": {},
   "source": [
    "- Hay algunas variables de las cuáles nos queremos deshacer, ya que no aportan información al modelo:\n",
    "\n",
    "    - IdAhogado; es un identificador\n",
    "    - IdPersona; es un identificador\n",
    "    - Indicador; es un identificador \n",
    "    - Localidad; queda explicada por CCAA y con menos categorías\n",
    "    - Provincia; queda explicada por CCAA y con menos categorías\n",
    "    - Origen, Causa, Factor, Riesgo; exceso de valores faltantes resultando irrelevante para el modelo*\n",
    "    - Titular, Enlace1, Estación; no aporta información\n",
    "    \n",
    "'*' Todavía no los eliminamos que aplicaremos técnicas de selección de variables\n",
    "'*' La variable \"Hora\" la elimino "
   ]
  },
  {
   "cell_type": "code",
   "execution_count": 35,
   "id": "7df9c1f1",
   "metadata": {},
   "outputs": [
    {
     "data": {
      "text/html": [
       "<div>\n",
       "<style scoped>\n",
       "    .dataframe tbody tr th:only-of-type {\n",
       "        vertical-align: middle;\n",
       "    }\n",
       "\n",
       "    .dataframe tbody tr th {\n",
       "        vertical-align: top;\n",
       "    }\n",
       "\n",
       "    .dataframe thead th {\n",
       "        text-align: right;\n",
       "    }\n",
       "</style>\n",
       "<table border=\"1\" class=\"dataframe\">\n",
       "  <thead>\n",
       "    <tr style=\"text-align: right;\">\n",
       "      <th></th>\n",
       "      <th>Fecha</th>\n",
       "      <th>CCAA</th>\n",
       "      <th>Latitud</th>\n",
       "      <th>Longitud</th>\n",
       "      <th>Sexo</th>\n",
       "      <th>Edad</th>\n",
       "      <th>Nacionalidad</th>\n",
       "      <th>Origen</th>\n",
       "      <th>Extraccion</th>\n",
       "      <th>Causa</th>\n",
       "      <th>TipoAhogamiento</th>\n",
       "      <th>Factor</th>\n",
       "      <th>Intervencion</th>\n",
       "      <th>Pronostico</th>\n",
       "      <th>Localizacion</th>\n",
       "      <th>Riesgo</th>\n",
       "      <th>Reanimacion</th>\n",
       "      <th>Vigilancia</th>\n",
       "      <th>Actividad</th>\n",
       "      <th>Deteccion</th>\n",
       "      <th>Altitud</th>\n",
       "      <th>TempMed</th>\n",
       "      <th>Precip</th>\n",
       "      <th>TempMin</th>\n",
       "      <th>TempMax</th>\n",
       "      <th>DirViento</th>\n",
       "      <th>VelMedViento</th>\n",
       "      <th>RachaViento</th>\n",
       "      <th>TiempoSol</th>\n",
       "      <th>PresionMax</th>\n",
       "      <th>PresionMin</th>\n",
       "    </tr>\n",
       "  </thead>\n",
       "  <tbody>\n",
       "    <tr>\n",
       "      <th>0</th>\n",
       "      <td>30-12-2020</td>\n",
       "      <td>Cataluña</td>\n",
       "      <td>41.130523</td>\n",
       "      <td>1.395311</td>\n",
       "      <td>NaN</td>\n",
       "      <td>NaN</td>\n",
       "      <td>España</td>\n",
       "      <td>NaN</td>\n",
       "      <td>Embarcación de rescate</td>\n",
       "      <td>NaN</td>\n",
       "      <td>Posible Ahogamiento</td>\n",
       "      <td>NaN</td>\n",
       "      <td>Recuperación de cadaver</td>\n",
       "      <td>Ahogamiento mortal</td>\n",
       "      <td>Franja costera o alta mar</td>\n",
       "      <td>NaN</td>\n",
       "      <td>Recuperacion de cadaver</td>\n",
       "      <td>No vigilado</td>\n",
       "      <td>NaN</td>\n",
       "      <td>Ciudadano</td>\n",
       "      <td>50</td>\n",
       "      <td>10.0</td>\n",
       "      <td>0.0</td>\n",
       "      <td>8.0</td>\n",
       "      <td>12.1</td>\n",
       "      <td>30.0</td>\n",
       "      <td>4.4</td>\n",
       "      <td>22.8</td>\n",
       "      <td>3.9</td>\n",
       "      <td>1010.0</td>\n",
       "      <td>1000.9</td>\n",
       "    </tr>\n",
       "    <tr>\n",
       "      <th>1</th>\n",
       "      <td>29-12-2020</td>\n",
       "      <td>Andalucía</td>\n",
       "      <td>36.519991</td>\n",
       "      <td>-6.287258</td>\n",
       "      <td>NaN</td>\n",
       "      <td>NaN</td>\n",
       "      <td>España</td>\n",
       "      <td>NaN</td>\n",
       "      <td>Ciudadano</td>\n",
       "      <td>NaN</td>\n",
       "      <td>Posible Ahogamiento</td>\n",
       "      <td>NaN</td>\n",
       "      <td>Recuperación de cadaver</td>\n",
       "      <td>Ahogamiento no mortal con hospitalizacion</td>\n",
       "      <td>Playas sin vigilancia</td>\n",
       "      <td>NaN</td>\n",
       "      <td>SVA por SEM</td>\n",
       "      <td>No vigilado</td>\n",
       "      <td>Natación recreativa</td>\n",
       "      <td>Ciudadano</td>\n",
       "      <td>2</td>\n",
       "      <td>12.2</td>\n",
       "      <td>0.2</td>\n",
       "      <td>9.2</td>\n",
       "      <td>15.3</td>\n",
       "      <td>32.0</td>\n",
       "      <td>3.3</td>\n",
       "      <td>9.4</td>\n",
       "      <td>NaN</td>\n",
       "      <td>1017.0</td>\n",
       "      <td>1011.4</td>\n",
       "    </tr>\n",
       "  </tbody>\n",
       "</table>\n",
       "</div>"
      ],
      "text/plain": [
       "        Fecha       CCAA    Latitud   Longitud Sexo  Edad Nacionalidad Origen  \\\n",
       "0  30-12-2020   Cataluña  41.130523   1.395311  NaN   NaN       España    NaN   \n",
       "1  29-12-2020  Andalucía  36.519991  -6.287258  NaN   NaN       España    NaN   \n",
       "\n",
       "               Extraccion Causa      TipoAhogamiento Factor  \\\n",
       "0  Embarcación de rescate   NaN  Posible Ahogamiento    NaN   \n",
       "1               Ciudadano   NaN  Posible Ahogamiento    NaN   \n",
       "\n",
       "              Intervencion                                 Pronostico  \\\n",
       "0  Recuperación de cadaver                         Ahogamiento mortal   \n",
       "1  Recuperación de cadaver  Ahogamiento no mortal con hospitalizacion   \n",
       "\n",
       "                Localizacion Riesgo              Reanimacion   Vigilancia  \\\n",
       "0  Franja costera o alta mar    NaN  Recuperacion de cadaver  No vigilado   \n",
       "1      Playas sin vigilancia    NaN              SVA por SEM  No vigilado   \n",
       "\n",
       "             Actividad  Deteccion  Altitud  TempMed  Precip  TempMin  TempMax  \\\n",
       "0                  NaN  Ciudadano       50     10.0     0.0      8.0     12.1   \n",
       "1  Natación recreativa  Ciudadano        2     12.2     0.2      9.2     15.3   \n",
       "\n",
       "   DirViento  VelMedViento  RachaViento  TiempoSol  PresionMax  PresionMin  \n",
       "0       30.0           4.4         22.8        3.9      1010.0      1000.9  \n",
       "1       32.0           3.3          9.4        NaN      1017.0      1011.4  "
      ]
     },
     "execution_count": 35,
     "metadata": {},
     "output_type": "execute_result"
    }
   ],
   "source": [
    "# Eliminamos las columnas que estamos 100% seguros que no aportan valor\n",
    "ahogamientos_df = ahogamientos.copy()\n",
    "ahogamientos_df.drop([\"IdAhogado\", \"IdPersona\", \"Hora\",\"Indicador\", \"Localidad\", \\\n",
    "                      \"Provincia\", \"Titular\", \"Enlace1\", \"Estacion\"], axis = 1, inplace = True)\n",
    "ahogamientos_df.head(2)"
   ]
  },
  {
   "cell_type": "markdown",
   "id": "2192a323",
   "metadata": {},
   "source": [
    "+ Miramos el % de valores Nans sobres todo el dataframe para proceder a descartar variables con demasiados valores faltantes\n",
    "\n",
    "+ Se observa como la variable Riesgo y Factor superan el 50% de valores faltantes, considerandolas demasiado elevadas para tenerlas en cuenta en el modelo"
   ]
  },
  {
   "cell_type": "code",
   "execution_count": 36,
   "id": "b42bf067",
   "metadata": {
    "scrolled": true
   },
   "outputs": [
    {
     "data": {
      "text/plain": [
       "Fecha               0.00\n",
       "CCAA                0.00\n",
       "Latitud             0.00\n",
       "Longitud            0.00\n",
       "Sexo                4.97\n",
       "Edad               19.70\n",
       "Nacionalidad        1.16\n",
       "Origen             43.87\n",
       "Extraccion          1.32\n",
       "Causa              28.10\n",
       "TipoAhogamiento     0.30\n",
       "Factor             58.22\n",
       "Intervencion        0.97\n",
       "Pronostico          0.26\n",
       "Localizacion        0.00\n",
       "Riesgo             61.37\n",
       "Reanimacion         2.83\n",
       "Vigilancia          0.34\n",
       "Actividad           4.15\n",
       "Deteccion           1.71\n",
       "Altitud             0.00\n",
       "TempMed             0.42\n",
       "Precip              4.63\n",
       "TempMin             0.42\n",
       "TempMax             0.36\n",
       "DirViento           2.28\n",
       "VelMedViento        2.01\n",
       "RachaViento         2.28\n",
       "TiempoSol           7.70\n",
       "PresionMax          0.71\n",
       "PresionMin          0.70\n",
       "dtype: float64"
      ]
     },
     "execution_count": 36,
     "metadata": {},
     "output_type": "execute_result"
    }
   ],
   "source": [
    "round(ahogamientos_df.isna().sum()/ahogamientos_df.shape[0],4) * 100"
   ]
  },
  {
   "cell_type": "code",
   "execution_count": 37,
   "id": "c423bc8b",
   "metadata": {},
   "outputs": [],
   "source": [
    "# Eliminamos los valores en que la variable Edad tiene Nans por conveniencia\n",
    "\n",
    "ahogamientos_df = ahogamientos_df.dropna(subset = [\"Edad\"])\n",
    "\n",
    "# Eliminamos las variables Factor y Riesgo por almacenar demasiados valores faltantes\n",
    "# Primera prueba eliminando ORIGEN Y CAUSA\n",
    "ahogamientos_df.drop([\"Origen\", \"Causa\",'Factor', \"Riesgo\"], axis = 1, inplace = True)"
   ]
  },
  {
   "cell_type": "code",
   "execution_count": 38,
   "id": "761106f4",
   "metadata": {},
   "outputs": [
    {
     "data": {
      "text/html": [
       "<div>\n",
       "<style scoped>\n",
       "    .dataframe tbody tr th:only-of-type {\n",
       "        vertical-align: middle;\n",
       "    }\n",
       "\n",
       "    .dataframe tbody tr th {\n",
       "        vertical-align: top;\n",
       "    }\n",
       "\n",
       "    .dataframe thead th {\n",
       "        text-align: right;\n",
       "    }\n",
       "</style>\n",
       "<table border=\"1\" class=\"dataframe\">\n",
       "  <thead>\n",
       "    <tr style=\"text-align: right;\">\n",
       "      <th></th>\n",
       "      <th>Fecha</th>\n",
       "      <th>CCAA</th>\n",
       "      <th>Latitud</th>\n",
       "      <th>Longitud</th>\n",
       "      <th>Sexo</th>\n",
       "      <th>Edad</th>\n",
       "      <th>Nacionalidad</th>\n",
       "      <th>Extraccion</th>\n",
       "      <th>TipoAhogamiento</th>\n",
       "      <th>Intervencion</th>\n",
       "      <th>Pronostico</th>\n",
       "      <th>Localizacion</th>\n",
       "      <th>Reanimacion</th>\n",
       "      <th>Vigilancia</th>\n",
       "      <th>Actividad</th>\n",
       "      <th>Deteccion</th>\n",
       "      <th>Altitud</th>\n",
       "      <th>TempMed</th>\n",
       "      <th>Precip</th>\n",
       "      <th>TempMin</th>\n",
       "      <th>TempMax</th>\n",
       "      <th>DirViento</th>\n",
       "      <th>VelMedViento</th>\n",
       "      <th>RachaViento</th>\n",
       "      <th>TiempoSol</th>\n",
       "      <th>PresionMax</th>\n",
       "      <th>PresionMin</th>\n",
       "    </tr>\n",
       "  </thead>\n",
       "  <tbody>\n",
       "    <tr>\n",
       "      <th>2</th>\n",
       "      <td>29-12-2020</td>\n",
       "      <td>País Vasco</td>\n",
       "      <td>43.317215</td>\n",
       "      <td>-1.977996</td>\n",
       "      <td>Hombre</td>\n",
       "      <td>47.0</td>\n",
       "      <td>España</td>\n",
       "      <td>Cuerpo de Seguridad o Emergencias</td>\n",
       "      <td>Ahogamiento secundario a accidente</td>\n",
       "      <td>Recuperación de cadaver</td>\n",
       "      <td>Ahogamiento mortal</td>\n",
       "      <td>Puertos, embarcaderos, amarres</td>\n",
       "      <td>Recuperacion de cadaver</td>\n",
       "      <td>No vigilado</td>\n",
       "      <td>Circulación en vehiculo</td>\n",
       "      <td>Acompañante, familiar, amigo</td>\n",
       "      <td>251</td>\n",
       "      <td>5.4</td>\n",
       "      <td>36.6</td>\n",
       "      <td>3.8</td>\n",
       "      <td>7.0</td>\n",
       "      <td>26.0</td>\n",
       "      <td>8.9</td>\n",
       "      <td>18.1</td>\n",
       "      <td>0.0</td>\n",
       "      <td>977.5</td>\n",
       "      <td>968.1</td>\n",
       "    </tr>\n",
       "    <tr>\n",
       "      <th>3</th>\n",
       "      <td>29-12-2020</td>\n",
       "      <td>País Vasco</td>\n",
       "      <td>43.317215</td>\n",
       "      <td>-1.977996</td>\n",
       "      <td>Hombre</td>\n",
       "      <td>33.0</td>\n",
       "      <td>España</td>\n",
       "      <td>No preciso extraccion</td>\n",
       "      <td>Perdida de Control</td>\n",
       "      <td>Recuperación de cadaver</td>\n",
       "      <td>Rescate y traslado a supervisión médica</td>\n",
       "      <td>Puertos, embarcaderos, amarres</td>\n",
       "      <td>Sin Reanimacion</td>\n",
       "      <td>No vigilado</td>\n",
       "      <td>Circulación en vehiculo</td>\n",
       "      <td>Acompañante, familiar, amigo</td>\n",
       "      <td>251</td>\n",
       "      <td>5.4</td>\n",
       "      <td>36.6</td>\n",
       "      <td>3.8</td>\n",
       "      <td>7.0</td>\n",
       "      <td>26.0</td>\n",
       "      <td>8.9</td>\n",
       "      <td>18.1</td>\n",
       "      <td>0.0</td>\n",
       "      <td>977.5</td>\n",
       "      <td>968.1</td>\n",
       "    </tr>\n",
       "    <tr>\n",
       "      <th>5</th>\n",
       "      <td>28-12-2020</td>\n",
       "      <td>Canarias</td>\n",
       "      <td>28.485031</td>\n",
       "      <td>-14.094721</td>\n",
       "      <td>Hombre</td>\n",
       "      <td>63.0</td>\n",
       "      <td>Otro</td>\n",
       "      <td>Helicoptero</td>\n",
       "      <td>Ahogamiento secundario a accidente</td>\n",
       "      <td>Rescate por personal adiestrado con equipamiento</td>\n",
       "      <td>Ahogamiento mortal</td>\n",
       "      <td>Playas sin vigilancia</td>\n",
       "      <td>SVA por SEM</td>\n",
       "      <td>No vigilado</td>\n",
       "      <td>Natación recreativa</td>\n",
       "      <td>Acompañante, familiar, amigo</td>\n",
       "      <td>24</td>\n",
       "      <td>19.6</td>\n",
       "      <td>0.0</td>\n",
       "      <td>15.2</td>\n",
       "      <td>24.0</td>\n",
       "      <td>3.0</td>\n",
       "      <td>3.9</td>\n",
       "      <td>8.9</td>\n",
       "      <td>9.1</td>\n",
       "      <td>1011.0</td>\n",
       "      <td>1008.5</td>\n",
       "    </tr>\n",
       "    <tr>\n",
       "      <th>6</th>\n",
       "      <td>28-12-2020</td>\n",
       "      <td>Canarias</td>\n",
       "      <td>28.485031</td>\n",
       "      <td>-14.094721</td>\n",
       "      <td>Hombre</td>\n",
       "      <td>53.0</td>\n",
       "      <td>Otro</td>\n",
       "      <td>Helicoptero</td>\n",
       "      <td>Perdida de Control</td>\n",
       "      <td>Rescate por personal adiestrado con equipamiento</td>\n",
       "      <td>Lesiones</td>\n",
       "      <td>Playas sin vigilancia</td>\n",
       "      <td>Sin Reanimacion</td>\n",
       "      <td>No vigilado</td>\n",
       "      <td>Natación recreativa</td>\n",
       "      <td>Acompañante, familiar, amigo</td>\n",
       "      <td>24</td>\n",
       "      <td>19.6</td>\n",
       "      <td>0.0</td>\n",
       "      <td>15.2</td>\n",
       "      <td>24.0</td>\n",
       "      <td>3.0</td>\n",
       "      <td>3.9</td>\n",
       "      <td>8.9</td>\n",
       "      <td>9.1</td>\n",
       "      <td>1011.0</td>\n",
       "      <td>1008.5</td>\n",
       "    </tr>\n",
       "    <tr>\n",
       "      <th>7</th>\n",
       "      <td>28-12-2020</td>\n",
       "      <td>Canarias</td>\n",
       "      <td>28.396314</td>\n",
       "      <td>-16.651826</td>\n",
       "      <td>Hombre</td>\n",
       "      <td>32.0</td>\n",
       "      <td>Otro</td>\n",
       "      <td>Helicoptero</td>\n",
       "      <td>Ahogamiento secundario a accidente</td>\n",
       "      <td>Rescate por personal adiestrado con equipamiento</td>\n",
       "      <td>Ahogamiento mortal</td>\n",
       "      <td>Playas sin vigilancia</td>\n",
       "      <td>SVA por SEM</td>\n",
       "      <td>No vigilado</td>\n",
       "      <td>Actividad cerca del agua</td>\n",
       "      <td>Acompañante, familiar, amigo</td>\n",
       "      <td>32</td>\n",
       "      <td>19.2</td>\n",
       "      <td>0.0</td>\n",
       "      <td>17.4</td>\n",
       "      <td>20.9</td>\n",
       "      <td>2.0</td>\n",
       "      <td>1.4</td>\n",
       "      <td>4.7</td>\n",
       "      <td>6.5</td>\n",
       "      <td>NaN</td>\n",
       "      <td>NaN</td>\n",
       "    </tr>\n",
       "  </tbody>\n",
       "</table>\n",
       "</div>"
      ],
      "text/plain": [
       "        Fecha        CCAA    Latitud    Longitud    Sexo  Edad Nacionalidad  \\\n",
       "2  29-12-2020  País Vasco  43.317215   -1.977996  Hombre  47.0       España   \n",
       "3  29-12-2020  País Vasco  43.317215   -1.977996  Hombre  33.0       España   \n",
       "5  28-12-2020    Canarias  28.485031  -14.094721  Hombre  63.0         Otro   \n",
       "6  28-12-2020    Canarias  28.485031  -14.094721  Hombre  53.0         Otro   \n",
       "7  28-12-2020    Canarias  28.396314  -16.651826  Hombre  32.0         Otro   \n",
       "\n",
       "                          Extraccion                     TipoAhogamiento  \\\n",
       "2  Cuerpo de Seguridad o Emergencias  Ahogamiento secundario a accidente   \n",
       "3              No preciso extraccion                  Perdida de Control   \n",
       "5                        Helicoptero  Ahogamiento secundario a accidente   \n",
       "6                        Helicoptero                  Perdida de Control   \n",
       "7                        Helicoptero  Ahogamiento secundario a accidente   \n",
       "\n",
       "                                       Intervencion  \\\n",
       "2                           Recuperación de cadaver   \n",
       "3                           Recuperación de cadaver   \n",
       "5  Rescate por personal adiestrado con equipamiento   \n",
       "6  Rescate por personal adiestrado con equipamiento   \n",
       "7  Rescate por personal adiestrado con equipamiento   \n",
       "\n",
       "                                Pronostico                    Localizacion  \\\n",
       "2                       Ahogamiento mortal  Puertos, embarcaderos, amarres   \n",
       "3  Rescate y traslado a supervisión médica  Puertos, embarcaderos, amarres   \n",
       "5                       Ahogamiento mortal           Playas sin vigilancia   \n",
       "6                                 Lesiones           Playas sin vigilancia   \n",
       "7                       Ahogamiento mortal           Playas sin vigilancia   \n",
       "\n",
       "               Reanimacion   Vigilancia                 Actividad  \\\n",
       "2  Recuperacion de cadaver  No vigilado   Circulación en vehiculo   \n",
       "3          Sin Reanimacion  No vigilado   Circulación en vehiculo   \n",
       "5              SVA por SEM  No vigilado       Natación recreativa   \n",
       "6          Sin Reanimacion  No vigilado       Natación recreativa   \n",
       "7              SVA por SEM  No vigilado  Actividad cerca del agua   \n",
       "\n",
       "                      Deteccion  Altitud  TempMed  Precip  TempMin  TempMax  \\\n",
       "2  Acompañante, familiar, amigo      251      5.4    36.6      3.8      7.0   \n",
       "3  Acompañante, familiar, amigo      251      5.4    36.6      3.8      7.0   \n",
       "5  Acompañante, familiar, amigo       24     19.6     0.0     15.2     24.0   \n",
       "6  Acompañante, familiar, amigo       24     19.6     0.0     15.2     24.0   \n",
       "7  Acompañante, familiar, amigo       32     19.2     0.0     17.4     20.9   \n",
       "\n",
       "   DirViento  VelMedViento  RachaViento  TiempoSol  PresionMax  PresionMin  \n",
       "2       26.0           8.9         18.1        0.0       977.5       968.1  \n",
       "3       26.0           8.9         18.1        0.0       977.5       968.1  \n",
       "5        3.0           3.9          8.9        9.1      1011.0      1008.5  \n",
       "6        3.0           3.9          8.9        9.1      1011.0      1008.5  \n",
       "7        2.0           1.4          4.7        6.5         NaN         NaN  "
      ]
     },
     "execution_count": 38,
     "metadata": {},
     "output_type": "execute_result"
    }
   ],
   "source": [
    "ahogamientos_df.head(5)"
   ]
  },
  {
   "cell_type": "code",
   "execution_count": 39,
   "id": "98aec902",
   "metadata": {},
   "outputs": [],
   "source": [
    "# Imputación de missings con el valor más frecuente\n",
    "no_data_columns = [\"Sexo\", \"Nacionalidad\", \"Extraccion\", \"TipoAhogamiento\", \"Intervencion\", \"Pronostico\", \"Reanimacion\", \"Vigilancia\", \"Actividad\", \"Deteccion\"]\n",
    "      \n",
    "for var in no_data_columns:\n",
    "    moda = ahogamientos_df[var].mode().iloc[0]\n",
    "    ahogamientos_df[var] = ahogamientos_df[var].fillna(moda)"
   ]
  },
  {
   "cell_type": "code",
   "execution_count": 40,
   "id": "2208c3e3",
   "metadata": {},
   "outputs": [],
   "source": [
    "# Realizamos imputación de missings sobre las variables meteorologicas\n",
    "median_imputation = [\"TempMed\", \"Precip\", \"TempMin\", \"TempMax\", \"DirViento\",\\\n",
    "\"VelMedViento\", \"RachaViento\",\"TiempoSol\", \"PresionMax\", \"PresionMin\"]\n",
    "\n",
    "# Calculo de la mediana de cada variable\n",
    "medians = ahogamientos_df[median_imputation].median()\n",
    "\n",
    "for median in median_imputation:\n",
    "    ahogamientos_df[median] = ahogamientos_df[median].fillna(medians[median])"
   ]
  },
  {
   "cell_type": "code",
   "execution_count": 41,
   "id": "599877bb",
   "metadata": {
    "run_control": {
     "marked": false
    }
   },
   "outputs": [],
   "source": [
    "# Creo una variable que asigna valores entre 1 y 5 dependiendo al grupo que pertenece\n",
    "conditions = [\n",
    "    (ahogamientos_df['Edad'] > 0) & (ahogamientos_df['Edad'] <= 15),\n",
    "    (ahogamientos_df['Edad'] >= 16) & (ahogamientos_df['Edad'] <= 30),\n",
    "    (ahogamientos_df['Edad'] >= 31) & (ahogamientos_df['Edad'] <= 45),\n",
    "    (ahogamientos_df['Edad'] >= 46) & (ahogamientos_df['Edad'] <= 60),\n",
    "    (ahogamientos_df['Edad'] >= 61)\n",
    "]\n",
    "\n",
    "values = [\"adolescentes\", \"jovenes\", \"jovenes_adultos\", \"adultos\", \"mayores\"]\n",
    "\n",
    "ahogamientos_df['GrupoEdad'] = np.select(conditions, values)"
   ]
  },
  {
   "cell_type": "markdown",
   "id": "ca120955",
   "metadata": {},
   "source": [
    "+ Convertimos las variables con su dato correcto"
   ]
  },
  {
   "cell_type": "code",
   "execution_count": 42,
   "id": "5e6e000f",
   "metadata": {},
   "outputs": [
    {
     "name": "stderr",
     "output_type": "stream",
     "text": [
      "/var/folders/f4/f_hhbl4s7hb5ldn8l8lf6kzr0000gn/T/ipykernel_75084/834332011.py:2: UserWarning: Parsing dates in DD/MM/YYYY format when dayfirst=False (the default) was specified. This may lead to inconsistently parsed dates! Specify a format to ensure consistent parsing.\n"
     ]
    }
   ],
   "source": [
    "# Variable Fecha\n",
    "ahogamientos_df[\"Fecha\"] = pd.to_datetime(ahogamientos_df[\"Fecha\"])\n",
    "\n",
    "# Variable Latitud y Longitud\n",
    "ahogamientos_df[[\"Latitud\", \"Longitud\"]] = ahogamientos_df[[\"Latitud\", \"Longitud\"]].apply(pd.to_numeric, errors = 'coerce')"
   ]
  },
  {
   "cell_type": "markdown",
   "id": "0e8eba15",
   "metadata": {},
   "source": [
    "**CATEGORICAL DATA TYPES**"
   ]
  },
  {
   "cell_type": "code",
   "execution_count": 43,
   "id": "7b642009",
   "metadata": {},
   "outputs": [],
   "source": [
    "from sklearn.model_selection import train_test_split\n",
    "from sklearn.feature_selection import chi2\n",
    "from sklearn.feature_selection import SelectKBest\n",
    "from sklearn.preprocessing import LabelEncoder, OrdinalEncoder\n",
    "from sklearn.compose import make_column_selector as selector"
   ]
  },
  {
   "cell_type": "code",
   "execution_count": 44,
   "id": "0b750d3b",
   "metadata": {},
   "outputs": [],
   "source": [
    "# Categorical data\n",
    "cat_data = ahogamientos_df.select_dtypes(include = ['object'])"
   ]
  },
  {
   "cell_type": "code",
   "execution_count": 45,
   "id": "b99fb9a1",
   "metadata": {},
   "outputs": [],
   "source": [
    "X = cat_data.iloc[:, :-1].values\n",
    "y = cat_data.iloc[:,-1].values"
   ]
  },
  {
   "cell_type": "code",
   "execution_count": 46,
   "id": "676fffea",
   "metadata": {},
   "outputs": [],
   "source": [
    "oe = OrdinalEncoder()\n",
    "oe.fit(X)\n",
    "X_enc = oe.transform(X)"
   ]
  },
  {
   "cell_type": "code",
   "execution_count": 47,
   "id": "f370277a",
   "metadata": {},
   "outputs": [],
   "source": [
    "y = np.reshape(y, (-1, 1))\n",
    "oe.fit(y)\n",
    "y_enc = oe.transform(y)"
   ]
  },
  {
   "cell_type": "code",
   "execution_count": 48,
   "id": "f3553fad",
   "metadata": {},
   "outputs": [],
   "source": [
    "fs = SelectKBest(score_func=chi2, k= 'all')\n",
    "fs.fit(X_enc, y_enc)\n",
    "X_train_fs = fs.transform(X_enc)"
   ]
  },
  {
   "cell_type": "code",
   "execution_count": 49,
   "id": "2f3604c4",
   "metadata": {
    "scrolled": true
   },
   "outputs": [
    {
     "name": "stdout",
     "output_type": "stream",
     "text": [
      "Feature 0: 85.589672\n",
      "Feature 1: 28.744553\n",
      "Feature 2: 27.550063\n",
      "Feature 3: 275.030926\n",
      "Feature 4: 244.721151\n",
      "Feature 5: 63.752047\n",
      "Feature 6: 3035.348964\n",
      "Feature 7: 195.069313\n",
      "Feature 8: 1001.211849\n",
      "Feature 9: 130.307084\n",
      "Feature 10: 142.451610\n",
      "Feature 11: 265.970848\n"
     ]
    }
   ],
   "source": [
    "for i in range(len(fs.scores_)):\n",
    "    print('Feature %d: %f' % (i, fs.scores_[i]))"
   ]
  },
  {
   "cell_type": "code",
   "execution_count": 50,
   "id": "89e2032e",
   "metadata": {},
   "outputs": [
    {
     "data": {
      "image/png": "[encoded data removed]",
      "text/plain": [
       "<Figure size 1000x400 with 1 Axes>"
      ]
     },
     "metadata": {},
     "output_type": "display_data"
    }
   ],
   "source": [
    "import seaborn as sns\n",
    "# what are scores for the features\n",
    "names = []\n",
    "values = []\n",
    "for i in range(len(fs.scores_)):\n",
    "    names.append(cat_data.columns[i])\n",
    "    values.append(fs.scores_[i])\n",
    "chi_list = zip(names, values)\n",
    "\n",
    "# plot the scores\n",
    "plt.figure(figsize=(10,4))\n",
    "sns.barplot(x=names, y=values)\n",
    "plt.xticks(rotation = 90)\n",
    "plt.show()"
   ]
  },
  {
   "cell_type": "code",
   "execution_count": 51,
   "id": "4b6235ea",
   "metadata": {},
   "outputs": [],
   "source": [
    "fs = SelectKBest(score_func=chi2, k= 5)\n",
    "fs.fit(X_enc, y_enc)\n",
    "X_train_fs = fs.transform(X_enc)"
   ]
  },
  {
   "cell_type": "code",
   "execution_count": 52,
   "id": "af3e4d6c",
   "metadata": {},
   "outputs": [
    {
     "data": {
      "text/plain": [
       "array(['x3', 'x4', 'x6', 'x8', 'x11'], dtype=object)"
      ]
     },
     "execution_count": 52,
     "metadata": {},
     "output_type": "execute_result"
    }
   ],
   "source": [
    "fs.get_feature_names_out()"
   ]
  },
  {
   "cell_type": "code",
   "execution_count": 53,
   "id": "f067834d",
   "metadata": {},
   "outputs": [
    {
     "data": {
      "text/html": [
       "<div>\n",
       "<style scoped>\n",
       "    .dataframe tbody tr th:only-of-type {\n",
       "        vertical-align: middle;\n",
       "    }\n",
       "\n",
       "    .dataframe tbody tr th {\n",
       "        vertical-align: top;\n",
       "    }\n",
       "\n",
       "    .dataframe thead th {\n",
       "        text-align: right;\n",
       "    }\n",
       "</style>\n",
       "<table border=\"1\" class=\"dataframe\">\n",
       "  <thead>\n",
       "    <tr style=\"text-align: right;\">\n",
       "      <th></th>\n",
       "      <th>Extraccion</th>\n",
       "      <th>TipoAhogamiento</th>\n",
       "      <th>Pronostico</th>\n",
       "      <th>Reanimacion</th>\n",
       "      <th>Deteccion</th>\n",
       "    </tr>\n",
       "  </thead>\n",
       "  <tbody>\n",
       "    <tr>\n",
       "      <th>2</th>\n",
       "      <td>Cuerpo de Seguridad o Emergencias</td>\n",
       "      <td>Ahogamiento secundario a accidente</td>\n",
       "      <td>Ahogamiento mortal</td>\n",
       "      <td>Recuperacion de cadaver</td>\n",
       "      <td>Acompañante, familiar, amigo</td>\n",
       "    </tr>\n",
       "    <tr>\n",
       "      <th>3</th>\n",
       "      <td>No preciso extraccion</td>\n",
       "      <td>Perdida de Control</td>\n",
       "      <td>Rescate y traslado a supervisión médica</td>\n",
       "      <td>Sin Reanimacion</td>\n",
       "      <td>Acompañante, familiar, amigo</td>\n",
       "    </tr>\n",
       "    <tr>\n",
       "      <th>5</th>\n",
       "      <td>Helicoptero</td>\n",
       "      <td>Ahogamiento secundario a accidente</td>\n",
       "      <td>Ahogamiento mortal</td>\n",
       "      <td>SVA por SEM</td>\n",
       "      <td>Acompañante, familiar, amigo</td>\n",
       "    </tr>\n",
       "    <tr>\n",
       "      <th>6</th>\n",
       "      <td>Helicoptero</td>\n",
       "      <td>Perdida de Control</td>\n",
       "      <td>Lesiones</td>\n",
       "      <td>Sin Reanimacion</td>\n",
       "      <td>Acompañante, familiar, amigo</td>\n",
       "    </tr>\n",
       "    <tr>\n",
       "      <th>7</th>\n",
       "      <td>Helicoptero</td>\n",
       "      <td>Ahogamiento secundario a accidente</td>\n",
       "      <td>Ahogamiento mortal</td>\n",
       "      <td>SVA por SEM</td>\n",
       "      <td>Acompañante, familiar, amigo</td>\n",
       "    </tr>\n",
       "    <tr>\n",
       "      <th>...</th>\n",
       "      <td>...</td>\n",
       "      <td>...</td>\n",
       "      <td>...</td>\n",
       "      <td>...</td>\n",
       "      <td>...</td>\n",
       "    </tr>\n",
       "    <tr>\n",
       "      <th>8010</th>\n",
       "      <td>Socorrista</td>\n",
       "      <td>Ahogado con sintomas de aspiración de agua</td>\n",
       "      <td>Ahogamiento mortal</td>\n",
       "      <td>RCP basica SOS y SVA por SEM</td>\n",
       "      <td>Acompañante, familiar, amigo</td>\n",
       "    </tr>\n",
       "    <tr>\n",
       "      <th>8011</th>\n",
       "      <td>Socorrista</td>\n",
       "      <td>Posible Ahogamiento</td>\n",
       "      <td>Ahogamiento mortal</td>\n",
       "      <td>RCP basica SOS y SVA por SEM</td>\n",
       "      <td>Socorrista en servicio</td>\n",
       "    </tr>\n",
       "    <tr>\n",
       "      <th>8012</th>\n",
       "      <td>Socorrista</td>\n",
       "      <td>Posible Ahogamiento</td>\n",
       "      <td>Ahogamiento mortal</td>\n",
       "      <td>RCP basica SOS y SVA por SEM</td>\n",
       "      <td>Ciudadano</td>\n",
       "    </tr>\n",
       "    <tr>\n",
       "      <th>8013</th>\n",
       "      <td>Socorrista</td>\n",
       "      <td>Ahogado con sintomas de aspiración de agua</td>\n",
       "      <td>Ahogamiento mortal</td>\n",
       "      <td>RCP basica SOS y SVA por SEM</td>\n",
       "      <td>Socorrista en servicio</td>\n",
       "    </tr>\n",
       "    <tr>\n",
       "      <th>8014</th>\n",
       "      <td>Ciudadano</td>\n",
       "      <td>Ahogado con sintomas de aspiración de agua</td>\n",
       "      <td>Ahogamiento mortal</td>\n",
       "      <td>SVA por SEM</td>\n",
       "      <td>Ciudadano</td>\n",
       "    </tr>\n",
       "  </tbody>\n",
       "</table>\n",
       "<p>6436 rows × 5 columns</p>\n",
       "</div>"
      ],
      "text/plain": [
       "                             Extraccion  \\\n",
       "2     Cuerpo de Seguridad o Emergencias   \n",
       "3                 No preciso extraccion   \n",
       "5                           Helicoptero   \n",
       "6                           Helicoptero   \n",
       "7                           Helicoptero   \n",
       "...                                 ...   \n",
       "8010                         Socorrista   \n",
       "8011                         Socorrista   \n",
       "8012                         Socorrista   \n",
       "8013                         Socorrista   \n",
       "8014                          Ciudadano   \n",
       "\n",
       "                                 TipoAhogamiento  \\\n",
       "2             Ahogamiento secundario a accidente   \n",
       "3                             Perdida de Control   \n",
       "5             Ahogamiento secundario a accidente   \n",
       "6                             Perdida de Control   \n",
       "7             Ahogamiento secundario a accidente   \n",
       "...                                          ...   \n",
       "8010  Ahogado con sintomas de aspiración de agua   \n",
       "8011                         Posible Ahogamiento   \n",
       "8012                         Posible Ahogamiento   \n",
       "8013  Ahogado con sintomas de aspiración de agua   \n",
       "8014  Ahogado con sintomas de aspiración de agua   \n",
       "\n",
       "                                   Pronostico                   Reanimacion  \\\n",
       "2                          Ahogamiento mortal       Recuperacion de cadaver   \n",
       "3     Rescate y traslado a supervisión médica               Sin Reanimacion   \n",
       "5                          Ahogamiento mortal                   SVA por SEM   \n",
       "6                                    Lesiones               Sin Reanimacion   \n",
       "7                          Ahogamiento mortal                   SVA por SEM   \n",
       "...                                       ...                           ...   \n",
       "8010                       Ahogamiento mortal  RCP basica SOS y SVA por SEM   \n",
       "8011                       Ahogamiento mortal  RCP basica SOS y SVA por SEM   \n",
       "8012                       Ahogamiento mortal  RCP basica SOS y SVA por SEM   \n",
       "8013                       Ahogamiento mortal  RCP basica SOS y SVA por SEM   \n",
       "8014                       Ahogamiento mortal                   SVA por SEM   \n",
       "\n",
       "                         Deteccion  \n",
       "2     Acompañante, familiar, amigo  \n",
       "3     Acompañante, familiar, amigo  \n",
       "5     Acompañante, familiar, amigo  \n",
       "6     Acompañante, familiar, amigo  \n",
       "7     Acompañante, familiar, amigo  \n",
       "...                            ...  \n",
       "8010  Acompañante, familiar, amigo  \n",
       "8011        Socorrista en servicio  \n",
       "8012                     Ciudadano  \n",
       "8013        Socorrista en servicio  \n",
       "8014                     Ciudadano  \n",
       "\n",
       "[6436 rows x 5 columns]"
      ]
     },
     "execution_count": 53,
     "metadata": {},
     "output_type": "execute_result"
    }
   ],
   "source": [
    "cat_data = cat_data[[\"Extraccion\", \"TipoAhogamiento\", \"Pronostico\", \"Reanimacion\", \"Deteccion\"]]\n",
    "cat_data"
   ]
  },
  {
   "cell_type": "markdown",
   "id": "4979038f",
   "metadata": {},
   "source": [
    "**Numerical Data Types**"
   ]
  },
  {
   "cell_type": "code",
   "execution_count": 54,
   "id": "ffa06a03",
   "metadata": {},
   "outputs": [
    {
     "data": {
      "text/html": [
       "<div>\n",
       "<style scoped>\n",
       "    .dataframe tbody tr th:only-of-type {\n",
       "        vertical-align: middle;\n",
       "    }\n",
       "\n",
       "    .dataframe tbody tr th {\n",
       "        vertical-align: top;\n",
       "    }\n",
       "\n",
       "    .dataframe thead th {\n",
       "        text-align: right;\n",
       "    }\n",
       "</style>\n",
       "<table border=\"1\" class=\"dataframe\">\n",
       "  <thead>\n",
       "    <tr style=\"text-align: right;\">\n",
       "      <th></th>\n",
       "      <th>Latitud</th>\n",
       "      <th>Longitud</th>\n",
       "      <th>Edad</th>\n",
       "      <th>Altitud</th>\n",
       "      <th>TempMed</th>\n",
       "      <th>Precip</th>\n",
       "      <th>TempMin</th>\n",
       "      <th>TempMax</th>\n",
       "      <th>DirViento</th>\n",
       "      <th>VelMedViento</th>\n",
       "      <th>RachaViento</th>\n",
       "      <th>TiempoSol</th>\n",
       "      <th>PresionMax</th>\n",
       "      <th>PresionMin</th>\n",
       "    </tr>\n",
       "  </thead>\n",
       "  <tbody>\n",
       "    <tr>\n",
       "      <th>2</th>\n",
       "      <td>43.317215</td>\n",
       "      <td>-1.977996</td>\n",
       "      <td>47.0</td>\n",
       "      <td>251</td>\n",
       "      <td>5.4</td>\n",
       "      <td>36.6</td>\n",
       "      <td>3.8</td>\n",
       "      <td>7.0</td>\n",
       "      <td>26.0</td>\n",
       "      <td>8.9</td>\n",
       "      <td>18.1</td>\n",
       "      <td>0.0</td>\n",
       "      <td>977.5</td>\n",
       "      <td>968.1</td>\n",
       "    </tr>\n",
       "    <tr>\n",
       "      <th>3</th>\n",
       "      <td>43.317215</td>\n",
       "      <td>-1.977996</td>\n",
       "      <td>33.0</td>\n",
       "      <td>251</td>\n",
       "      <td>5.4</td>\n",
       "      <td>36.6</td>\n",
       "      <td>3.8</td>\n",
       "      <td>7.0</td>\n",
       "      <td>26.0</td>\n",
       "      <td>8.9</td>\n",
       "      <td>18.1</td>\n",
       "      <td>0.0</td>\n",
       "      <td>977.5</td>\n",
       "      <td>968.1</td>\n",
       "    </tr>\n",
       "    <tr>\n",
       "      <th>5</th>\n",
       "      <td>28.485031</td>\n",
       "      <td>-14.094721</td>\n",
       "      <td>63.0</td>\n",
       "      <td>24</td>\n",
       "      <td>19.6</td>\n",
       "      <td>0.0</td>\n",
       "      <td>15.2</td>\n",
       "      <td>24.0</td>\n",
       "      <td>3.0</td>\n",
       "      <td>3.9</td>\n",
       "      <td>8.9</td>\n",
       "      <td>9.1</td>\n",
       "      <td>1011.0</td>\n",
       "      <td>1008.5</td>\n",
       "    </tr>\n",
       "    <tr>\n",
       "      <th>6</th>\n",
       "      <td>28.485031</td>\n",
       "      <td>-14.094721</td>\n",
       "      <td>53.0</td>\n",
       "      <td>24</td>\n",
       "      <td>19.6</td>\n",
       "      <td>0.0</td>\n",
       "      <td>15.2</td>\n",
       "      <td>24.0</td>\n",
       "      <td>3.0</td>\n",
       "      <td>3.9</td>\n",
       "      <td>8.9</td>\n",
       "      <td>9.1</td>\n",
       "      <td>1011.0</td>\n",
       "      <td>1008.5</td>\n",
       "    </tr>\n",
       "    <tr>\n",
       "      <th>7</th>\n",
       "      <td>28.396314</td>\n",
       "      <td>-16.651826</td>\n",
       "      <td>32.0</td>\n",
       "      <td>32</td>\n",
       "      <td>19.2</td>\n",
       "      <td>0.0</td>\n",
       "      <td>17.4</td>\n",
       "      <td>20.9</td>\n",
       "      <td>2.0</td>\n",
       "      <td>1.4</td>\n",
       "      <td>4.7</td>\n",
       "      <td>6.5</td>\n",
       "      <td>1011.8</td>\n",
       "      <td>1008.0</td>\n",
       "    </tr>\n",
       "  </tbody>\n",
       "</table>\n",
       "</div>"
      ],
      "text/plain": [
       "     Latitud   Longitud  Edad  Altitud  TempMed  Precip  TempMin  TempMax  \\\n",
       "2  43.317215  -1.977996  47.0      251      5.4    36.6      3.8      7.0   \n",
       "3  43.317215  -1.977996  33.0      251      5.4    36.6      3.8      7.0   \n",
       "5  28.485031 -14.094721  63.0       24     19.6     0.0     15.2     24.0   \n",
       "6  28.485031 -14.094721  53.0       24     19.6     0.0     15.2     24.0   \n",
       "7  28.396314 -16.651826  32.0       32     19.2     0.0     17.4     20.9   \n",
       "\n",
       "   DirViento  VelMedViento  RachaViento  TiempoSol  PresionMax  PresionMin  \n",
       "2       26.0           8.9         18.1        0.0       977.5       968.1  \n",
       "3       26.0           8.9         18.1        0.0       977.5       968.1  \n",
       "5        3.0           3.9          8.9        9.1      1011.0      1008.5  \n",
       "6        3.0           3.9          8.9        9.1      1011.0      1008.5  \n",
       "7        2.0           1.4          4.7        6.5      1011.8      1008.0  "
      ]
     },
     "execution_count": 54,
     "metadata": {},
     "output_type": "execute_result"
    }
   ],
   "source": [
    "numb_data = ahogamientos_df.select_dtypes(include = ['float64', 'int64'])\n",
    "numb_data.head()"
   ]
  },
  {
   "cell_type": "code",
   "execution_count": 55,
   "id": "802368c2",
   "metadata": {},
   "outputs": [
    {
     "data": {
      "image/png": "[encoded data removed]",
      "text/plain": [
       "<Figure size 1200x700 with 2 Axes>"
      ]
     },
     "metadata": {},
     "output_type": "display_data"
    }
   ],
   "source": [
    "corr = numb_data.corr()\n",
    "\n",
    "f, ax = plt.subplots(figsize = (12,7))\n",
    "\n",
    "sns.heatmap(corr, cmap = 'Blues', annot = True, square = False, ax = ax)\n",
    "plt.title('Pearson Correlation of Features')\n",
    "plt.yticks(rotation=45);"
   ]
  },
  {
   "cell_type": "markdown",
   "id": "df7d1460",
   "metadata": {},
   "source": [
    "+ Podemos ver varias características con correlaciones muy altas entre ellas que pueden hacer que nuestro modelo interprete incorrectamente, por lo que debemos seleccionar:\n",
    "\n",
    "    - La temperatura media tiene correlaciones muy altas con las variables temperatuda mínima y máxima como es de esperar, ya que cuando la temperatura máxima y mínima de un día frío es baja, es de esperar que la temperatura media del día también lo sea y viceversa con las temperaturas para un día caluroso.\n",
    "    \n",
    "    - La velocidad media del viento y la racha de viento tienen una correlación del 75%, de modo que solo nos quedaremos con la racha del viento, ya que la variable velocidad media del viento está fuertemente correlacionada con la variable altitud.\n",
    "    \n",
    "    - La variable TempSol esta correlacionada con la temperatura media, pero al no ser una relación fuerte la mantendremos en el modelo.\n",
    "    \n",
    "    - La altitud esta intrísicamente relacionada con la presión mínima y máxima, ya que a menor altitud mayor presión y viceversa. Por lo que decidimos quedarnos únicamente con la altitud, ya que presion max y min están a su vez relacionadas porque cuando en una sube, la otra baja. "
   ]
  },
  {
   "cell_type": "code",
   "execution_count": 56,
   "id": "700272bc",
   "metadata": {},
   "outputs": [],
   "source": [
    "columns = [\"TempMin\", \"TempMax\", \"VelMedViento\", \"PresionMax\", \"PresionMin\"]\n",
    "numb_data = numb_data.drop(columns, axis = 1)"
   ]
  },
  {
   "cell_type": "code",
   "execution_count": 57,
   "id": "af0d98db",
   "metadata": {
    "scrolled": false
   },
   "outputs": [
    {
     "data": {
      "image/png": "[encoded data removed]",
      "text/plain": [
       "<Figure size 1200x700 with 2 Axes>"
      ]
     },
     "metadata": {},
     "output_type": "display_data"
    }
   ],
   "source": [
    "corr = numb_data.corr()\n",
    "\n",
    "f, ax = plt.subplots(figsize = (12,7))\n",
    "\n",
    "sns.heatmap(corr, cmap = 'Blues', annot = True, square = False, ax = ax)\n",
    "plt.title('Pearson Correlation of Features')\n",
    "plt.yticks(rotation=45);"
   ]
  },
  {
   "cell_type": "code",
   "execution_count": 58,
   "id": "ab691c79",
   "metadata": {},
   "outputs": [],
   "source": [
    "from sklearn.preprocessing import MinMaxScaler\n",
    "# Normalizamos los datos meteorologicos\n",
    "scaler = MinMaxScaler()\n",
    "\n",
    "# Aplicación de la normalización sonre las variables\n",
    "numb_data = pd.DataFrame(scaler.fit_transform(numb_data), columns = numb_data.columns)"
   ]
  },
  {
   "cell_type": "markdown",
   "id": "bb3d64a4",
   "metadata": {},
   "source": [
    "# Clustering GOWER ALL VARIABLES"
   ]
  },
  {
   "cell_type": "code",
   "execution_count": 59,
   "id": "e776758f",
   "metadata": {
    "scrolled": true
   },
   "outputs": [
    {
     "data": {
      "text/html": [
       "<div>\n",
       "<style scoped>\n",
       "    .dataframe tbody tr th:only-of-type {\n",
       "        vertical-align: middle;\n",
       "    }\n",
       "\n",
       "    .dataframe tbody tr th {\n",
       "        vertical-align: top;\n",
       "    }\n",
       "\n",
       "    .dataframe thead th {\n",
       "        text-align: right;\n",
       "    }\n",
       "</style>\n",
       "<table border=\"1\" class=\"dataframe\">\n",
       "  <thead>\n",
       "    <tr style=\"text-align: right;\">\n",
       "      <th></th>\n",
       "      <th>Fecha</th>\n",
       "      <th>CCAA</th>\n",
       "      <th>Latitud</th>\n",
       "      <th>Longitud</th>\n",
       "      <th>Sexo</th>\n",
       "      <th>Edad</th>\n",
       "      <th>Nacionalidad</th>\n",
       "      <th>Extraccion</th>\n",
       "      <th>TipoAhogamiento</th>\n",
       "      <th>Intervencion</th>\n",
       "      <th>Pronostico</th>\n",
       "      <th>Localizacion</th>\n",
       "      <th>Reanimacion</th>\n",
       "      <th>Vigilancia</th>\n",
       "      <th>Actividad</th>\n",
       "      <th>Deteccion</th>\n",
       "      <th>Altitud</th>\n",
       "      <th>TempMed</th>\n",
       "      <th>Precip</th>\n",
       "      <th>TempMin</th>\n",
       "      <th>TempMax</th>\n",
       "      <th>DirViento</th>\n",
       "      <th>VelMedViento</th>\n",
       "      <th>RachaViento</th>\n",
       "      <th>TiempoSol</th>\n",
       "      <th>PresionMax</th>\n",
       "      <th>PresionMin</th>\n",
       "      <th>GrupoEdad</th>\n",
       "    </tr>\n",
       "  </thead>\n",
       "  <tbody>\n",
       "    <tr>\n",
       "      <th>2</th>\n",
       "      <td>2020-12-29</td>\n",
       "      <td>País Vasco</td>\n",
       "      <td>43.317215</td>\n",
       "      <td>-1.977996</td>\n",
       "      <td>Hombre</td>\n",
       "      <td>47.0</td>\n",
       "      <td>España</td>\n",
       "      <td>Cuerpo de Seguridad o Emergencias</td>\n",
       "      <td>Ahogamiento secundario a accidente</td>\n",
       "      <td>Recuperación de cadaver</td>\n",
       "      <td>Ahogamiento mortal</td>\n",
       "      <td>Puertos, embarcaderos, amarres</td>\n",
       "      <td>Recuperacion de cadaver</td>\n",
       "      <td>No vigilado</td>\n",
       "      <td>Circulación en vehiculo</td>\n",
       "      <td>Acompañante, familiar, amigo</td>\n",
       "      <td>251</td>\n",
       "      <td>5.4</td>\n",
       "      <td>36.6</td>\n",
       "      <td>3.8</td>\n",
       "      <td>7.0</td>\n",
       "      <td>26.0</td>\n",
       "      <td>8.9</td>\n",
       "      <td>18.1</td>\n",
       "      <td>0.0</td>\n",
       "      <td>977.5</td>\n",
       "      <td>968.1</td>\n",
       "      <td>adultos</td>\n",
       "    </tr>\n",
       "    <tr>\n",
       "      <th>3</th>\n",
       "      <td>2020-12-29</td>\n",
       "      <td>País Vasco</td>\n",
       "      <td>43.317215</td>\n",
       "      <td>-1.977996</td>\n",
       "      <td>Hombre</td>\n",
       "      <td>33.0</td>\n",
       "      <td>España</td>\n",
       "      <td>No preciso extraccion</td>\n",
       "      <td>Perdida de Control</td>\n",
       "      <td>Recuperación de cadaver</td>\n",
       "      <td>Rescate y traslado a supervisión médica</td>\n",
       "      <td>Puertos, embarcaderos, amarres</td>\n",
       "      <td>Sin Reanimacion</td>\n",
       "      <td>No vigilado</td>\n",
       "      <td>Circulación en vehiculo</td>\n",
       "      <td>Acompañante, familiar, amigo</td>\n",
       "      <td>251</td>\n",
       "      <td>5.4</td>\n",
       "      <td>36.6</td>\n",
       "      <td>3.8</td>\n",
       "      <td>7.0</td>\n",
       "      <td>26.0</td>\n",
       "      <td>8.9</td>\n",
       "      <td>18.1</td>\n",
       "      <td>0.0</td>\n",
       "      <td>977.5</td>\n",
       "      <td>968.1</td>\n",
       "      <td>jovenes_adultos</td>\n",
       "    </tr>\n",
       "  </tbody>\n",
       "</table>\n",
       "</div>"
      ],
      "text/plain": [
       "       Fecha        CCAA    Latitud  Longitud    Sexo  Edad Nacionalidad  \\\n",
       "2 2020-12-29  País Vasco  43.317215 -1.977996  Hombre  47.0       España   \n",
       "3 2020-12-29  País Vasco  43.317215 -1.977996  Hombre  33.0       España   \n",
       "\n",
       "                          Extraccion                     TipoAhogamiento  \\\n",
       "2  Cuerpo de Seguridad o Emergencias  Ahogamiento secundario a accidente   \n",
       "3              No preciso extraccion                  Perdida de Control   \n",
       "\n",
       "              Intervencion                               Pronostico  \\\n",
       "2  Recuperación de cadaver                       Ahogamiento mortal   \n",
       "3  Recuperación de cadaver  Rescate y traslado a supervisión médica   \n",
       "\n",
       "                     Localizacion              Reanimacion   Vigilancia  \\\n",
       "2  Puertos, embarcaderos, amarres  Recuperacion de cadaver  No vigilado   \n",
       "3  Puertos, embarcaderos, amarres          Sin Reanimacion  No vigilado   \n",
       "\n",
       "                 Actividad                     Deteccion  Altitud  TempMed  \\\n",
       "2  Circulación en vehiculo  Acompañante, familiar, amigo      251      5.4   \n",
       "3  Circulación en vehiculo  Acompañante, familiar, amigo      251      5.4   \n",
       "\n",
       "   Precip  TempMin  TempMax  DirViento  VelMedViento  RachaViento  TiempoSol  \\\n",
       "2    36.6      3.8      7.0       26.0           8.9         18.1        0.0   \n",
       "3    36.6      3.8      7.0       26.0           8.9         18.1        0.0   \n",
       "\n",
       "   PresionMax  PresionMin        GrupoEdad  \n",
       "2       977.5       968.1          adultos  \n",
       "3       977.5       968.1  jovenes_adultos  "
      ]
     },
     "execution_count": 59,
     "metadata": {},
     "output_type": "execute_result"
    }
   ],
   "source": [
    "ahogamientos_df.head(2)"
   ]
  },
  {
   "cell_type": "code",
   "execution_count": 60,
   "id": "0c95adfb",
   "metadata": {
    "scrolled": true
   },
   "outputs": [
    {
     "data": {
      "text/plain": [
       "(6436, 28)"
      ]
     },
     "execution_count": 60,
     "metadata": {},
     "output_type": "execute_result"
    }
   ],
   "source": [
    "ahogamientos_df.shape"
   ]
  },
  {
   "cell_type": "code",
   "execution_count": 61,
   "id": "599f9b39",
   "metadata": {},
   "outputs": [],
   "source": [
    "# Eliminar 4 valores faltantes\n",
    "ahogamientos_df.drop([\"Latitud\", \"Longitud\"], axis =1, inplace= True)"
   ]
  },
  {
   "cell_type": "code",
   "execution_count": 62,
   "id": "3abec4ab",
   "metadata": {
    "scrolled": true
   },
   "outputs": [
    {
     "ename": "KeyError",
     "evalue": "\"['TempMin', 'TempMax', 'VelMedViento', 'PresionMax', 'PresionMin'] not found in axis\"",
     "output_type": "error",
     "traceback": [
      "\u001b[0;31m---------------------------------------------------------------------------\u001b[0m",
      "\u001b[0;31mKeyError\u001b[0m                                  Traceback (most recent call last)",
      "Cell \u001b[0;32mIn[62], line 3\u001b[0m\n\u001b[1;32m      1\u001b[0m \u001b[38;5;66;03m# Eliminamos columnas que no van a intervenir en nuestro modelo\u001b[39;00m\n\u001b[1;32m      2\u001b[0m columns \u001b[38;5;241m=\u001b[39m [\u001b[38;5;124m\"\u001b[39m\u001b[38;5;124mTempMin\u001b[39m\u001b[38;5;124m\"\u001b[39m, \u001b[38;5;124m\"\u001b[39m\u001b[38;5;124mTempMax\u001b[39m\u001b[38;5;124m\"\u001b[39m, \u001b[38;5;124m\"\u001b[39m\u001b[38;5;124mVelMedViento\u001b[39m\u001b[38;5;124m\"\u001b[39m, \u001b[38;5;124m\"\u001b[39m\u001b[38;5;124mPresionMax\u001b[39m\u001b[38;5;124m\"\u001b[39m, \u001b[38;5;124m\"\u001b[39m\u001b[38;5;124mPresionMin\u001b[39m\u001b[38;5;124m\"\u001b[39m]\n\u001b[0;32m----> 3\u001b[0m numb_data \u001b[38;5;241m=\u001b[39m \u001b[43mnumb_data\u001b[49m\u001b[38;5;241;43m.\u001b[39;49m\u001b[43mdrop\u001b[49m\u001b[43m(\u001b[49m\u001b[43mcolumns\u001b[49m\u001b[43m,\u001b[49m\u001b[43m \u001b[49m\u001b[43maxis\u001b[49m\u001b[43m \u001b[49m\u001b[38;5;241;43m=\u001b[39;49m\u001b[43m \u001b[49m\u001b[38;5;241;43m1\u001b[39;49m\u001b[43m)\u001b[49m\n",
      "File \u001b[0;32m~/mambaforge/lib/python3.10/site-packages/pandas/util/_decorators.py:331\u001b[0m, in \u001b[0;36mdeprecate_nonkeyword_arguments.<locals>.decorate.<locals>.wrapper\u001b[0;34m(*args, **kwargs)\u001b[0m\n\u001b[1;32m    325\u001b[0m \u001b[38;5;28;01mif\u001b[39;00m \u001b[38;5;28mlen\u001b[39m(args) \u001b[38;5;241m>\u001b[39m num_allow_args:\n\u001b[1;32m    326\u001b[0m     warnings\u001b[38;5;241m.\u001b[39mwarn(\n\u001b[1;32m    327\u001b[0m         msg\u001b[38;5;241m.\u001b[39mformat(arguments\u001b[38;5;241m=\u001b[39m_format_argument_list(allow_args)),\n\u001b[1;32m    328\u001b[0m         \u001b[38;5;167;01mFutureWarning\u001b[39;00m,\n\u001b[1;32m    329\u001b[0m         stacklevel\u001b[38;5;241m=\u001b[39mfind_stack_level(),\n\u001b[1;32m    330\u001b[0m     )\n\u001b[0;32m--> 331\u001b[0m \u001b[38;5;28;01mreturn\u001b[39;00m \u001b[43mfunc\u001b[49m\u001b[43m(\u001b[49m\u001b[38;5;241;43m*\u001b[39;49m\u001b[43margs\u001b[49m\u001b[43m,\u001b[49m\u001b[43m \u001b[49m\u001b[38;5;241;43m*\u001b[39;49m\u001b[38;5;241;43m*\u001b[39;49m\u001b[43mkwargs\u001b[49m\u001b[43m)\u001b[49m\n",
      "File \u001b[0;32m~/mambaforge/lib/python3.10/site-packages/pandas/core/frame.py:5399\u001b[0m, in \u001b[0;36mDataFrame.drop\u001b[0;34m(self, labels, axis, index, columns, level, inplace, errors)\u001b[0m\n\u001b[1;32m   5251\u001b[0m \u001b[38;5;129m@deprecate_nonkeyword_arguments\u001b[39m(version\u001b[38;5;241m=\u001b[39m\u001b[38;5;28;01mNone\u001b[39;00m, allowed_args\u001b[38;5;241m=\u001b[39m[\u001b[38;5;124m\"\u001b[39m\u001b[38;5;124mself\u001b[39m\u001b[38;5;124m\"\u001b[39m, \u001b[38;5;124m\"\u001b[39m\u001b[38;5;124mlabels\u001b[39m\u001b[38;5;124m\"\u001b[39m])\n\u001b[1;32m   5252\u001b[0m \u001b[38;5;28;01mdef\u001b[39;00m \u001b[38;5;21mdrop\u001b[39m(  \u001b[38;5;66;03m# type: ignore[override]\u001b[39;00m\n\u001b[1;32m   5253\u001b[0m     \u001b[38;5;28mself\u001b[39m,\n\u001b[0;32m   (...)\u001b[0m\n\u001b[1;32m   5260\u001b[0m     errors: IgnoreRaise \u001b[38;5;241m=\u001b[39m \u001b[38;5;124m\"\u001b[39m\u001b[38;5;124mraise\u001b[39m\u001b[38;5;124m\"\u001b[39m,\n\u001b[1;32m   5261\u001b[0m ) \u001b[38;5;241m-\u001b[39m\u001b[38;5;241m>\u001b[39m DataFrame \u001b[38;5;241m|\u001b[39m \u001b[38;5;28;01mNone\u001b[39;00m:\n\u001b[1;32m   5262\u001b[0m     \u001b[38;5;124;03m\"\"\"\u001b[39;00m\n\u001b[1;32m   5263\u001b[0m \u001b[38;5;124;03m    Drop specified labels from rows or columns.\u001b[39;00m\n\u001b[1;32m   5264\u001b[0m \n\u001b[0;32m   (...)\u001b[0m\n\u001b[1;32m   5397\u001b[0m \u001b[38;5;124;03m            weight  1.0     0.8\u001b[39;00m\n\u001b[1;32m   5398\u001b[0m \u001b[38;5;124;03m    \"\"\"\u001b[39;00m\n\u001b[0;32m-> 5399\u001b[0m     \u001b[38;5;28;01mreturn\u001b[39;00m \u001b[38;5;28;43msuper\u001b[39;49m\u001b[43m(\u001b[49m\u001b[43m)\u001b[49m\u001b[38;5;241;43m.\u001b[39;49m\u001b[43mdrop\u001b[49m\u001b[43m(\u001b[49m\n\u001b[1;32m   5400\u001b[0m \u001b[43m        \u001b[49m\u001b[43mlabels\u001b[49m\u001b[38;5;241;43m=\u001b[39;49m\u001b[43mlabels\u001b[49m\u001b[43m,\u001b[49m\n\u001b[1;32m   5401\u001b[0m \u001b[43m        \u001b[49m\u001b[43maxis\u001b[49m\u001b[38;5;241;43m=\u001b[39;49m\u001b[43maxis\u001b[49m\u001b[43m,\u001b[49m\n\u001b[1;32m   5402\u001b[0m \u001b[43m        \u001b[49m\u001b[43mindex\u001b[49m\u001b[38;5;241;43m=\u001b[39;49m\u001b[43mindex\u001b[49m\u001b[43m,\u001b[49m\n\u001b[1;32m   5403\u001b[0m \u001b[43m        \u001b[49m\u001b[43mcolumns\u001b[49m\u001b[38;5;241;43m=\u001b[39;49m\u001b[43mcolumns\u001b[49m\u001b[43m,\u001b[49m\n\u001b[1;32m   5404\u001b[0m \u001b[43m        \u001b[49m\u001b[43mlevel\u001b[49m\u001b[38;5;241;43m=\u001b[39;49m\u001b[43mlevel\u001b[49m\u001b[43m,\u001b[49m\n\u001b[1;32m   5405\u001b[0m \u001b[43m        \u001b[49m\u001b[43minplace\u001b[49m\u001b[38;5;241;43m=\u001b[39;49m\u001b[43minplace\u001b[49m\u001b[43m,\u001b[49m\n\u001b[1;32m   5406\u001b[0m \u001b[43m        \u001b[49m\u001b[43merrors\u001b[49m\u001b[38;5;241;43m=\u001b[39;49m\u001b[43merrors\u001b[49m\u001b[43m,\u001b[49m\n\u001b[1;32m   5407\u001b[0m \u001b[43m    \u001b[49m\u001b[43m)\u001b[49m\n",
      "File \u001b[0;32m~/mambaforge/lib/python3.10/site-packages/pandas/util/_decorators.py:331\u001b[0m, in \u001b[0;36mdeprecate_nonkeyword_arguments.<locals>.decorate.<locals>.wrapper\u001b[0;34m(*args, **kwargs)\u001b[0m\n\u001b[1;32m    325\u001b[0m \u001b[38;5;28;01mif\u001b[39;00m \u001b[38;5;28mlen\u001b[39m(args) \u001b[38;5;241m>\u001b[39m num_allow_args:\n\u001b[1;32m    326\u001b[0m     warnings\u001b[38;5;241m.\u001b[39mwarn(\n\u001b[1;32m    327\u001b[0m         msg\u001b[38;5;241m.\u001b[39mformat(arguments\u001b[38;5;241m=\u001b[39m_format_argument_list(allow_args)),\n\u001b[1;32m    328\u001b[0m         \u001b[38;5;167;01mFutureWarning\u001b[39;00m,\n\u001b[1;32m    329\u001b[0m         stacklevel\u001b[38;5;241m=\u001b[39mfind_stack_level(),\n\u001b[1;32m    330\u001b[0m     )\n\u001b[0;32m--> 331\u001b[0m \u001b[38;5;28;01mreturn\u001b[39;00m \u001b[43mfunc\u001b[49m\u001b[43m(\u001b[49m\u001b[38;5;241;43m*\u001b[39;49m\u001b[43margs\u001b[49m\u001b[43m,\u001b[49m\u001b[43m \u001b[49m\u001b[38;5;241;43m*\u001b[39;49m\u001b[38;5;241;43m*\u001b[39;49m\u001b[43mkwargs\u001b[49m\u001b[43m)\u001b[49m\n",
      "File \u001b[0;32m~/mambaforge/lib/python3.10/site-packages/pandas/core/generic.py:4505\u001b[0m, in \u001b[0;36mNDFrame.drop\u001b[0;34m(self, labels, axis, index, columns, level, inplace, errors)\u001b[0m\n\u001b[1;32m   4503\u001b[0m \u001b[38;5;28;01mfor\u001b[39;00m axis, labels \u001b[38;5;129;01min\u001b[39;00m axes\u001b[38;5;241m.\u001b[39mitems():\n\u001b[1;32m   4504\u001b[0m     \u001b[38;5;28;01mif\u001b[39;00m labels \u001b[38;5;129;01mis\u001b[39;00m \u001b[38;5;129;01mnot\u001b[39;00m \u001b[38;5;28;01mNone\u001b[39;00m:\n\u001b[0;32m-> 4505\u001b[0m         obj \u001b[38;5;241m=\u001b[39m \u001b[43mobj\u001b[49m\u001b[38;5;241;43m.\u001b[39;49m\u001b[43m_drop_axis\u001b[49m\u001b[43m(\u001b[49m\u001b[43mlabels\u001b[49m\u001b[43m,\u001b[49m\u001b[43m \u001b[49m\u001b[43maxis\u001b[49m\u001b[43m,\u001b[49m\u001b[43m \u001b[49m\u001b[43mlevel\u001b[49m\u001b[38;5;241;43m=\u001b[39;49m\u001b[43mlevel\u001b[49m\u001b[43m,\u001b[49m\u001b[43m \u001b[49m\u001b[43merrors\u001b[49m\u001b[38;5;241;43m=\u001b[39;49m\u001b[43merrors\u001b[49m\u001b[43m)\u001b[49m\n\u001b[1;32m   4507\u001b[0m \u001b[38;5;28;01mif\u001b[39;00m inplace:\n\u001b[1;32m   4508\u001b[0m     \u001b[38;5;28mself\u001b[39m\u001b[38;5;241m.\u001b[39m_update_inplace(obj)\n",
      "File \u001b[0;32m~/mambaforge/lib/python3.10/site-packages/pandas/core/generic.py:4546\u001b[0m, in \u001b[0;36mNDFrame._drop_axis\u001b[0;34m(self, labels, axis, level, errors, only_slice)\u001b[0m\n\u001b[1;32m   4544\u001b[0m         new_axis \u001b[38;5;241m=\u001b[39m axis\u001b[38;5;241m.\u001b[39mdrop(labels, level\u001b[38;5;241m=\u001b[39mlevel, errors\u001b[38;5;241m=\u001b[39merrors)\n\u001b[1;32m   4545\u001b[0m     \u001b[38;5;28;01melse\u001b[39;00m:\n\u001b[0;32m-> 4546\u001b[0m         new_axis \u001b[38;5;241m=\u001b[39m \u001b[43maxis\u001b[49m\u001b[38;5;241;43m.\u001b[39;49m\u001b[43mdrop\u001b[49m\u001b[43m(\u001b[49m\u001b[43mlabels\u001b[49m\u001b[43m,\u001b[49m\u001b[43m \u001b[49m\u001b[43merrors\u001b[49m\u001b[38;5;241;43m=\u001b[39;49m\u001b[43merrors\u001b[49m\u001b[43m)\u001b[49m\n\u001b[1;32m   4547\u001b[0m     indexer \u001b[38;5;241m=\u001b[39m axis\u001b[38;5;241m.\u001b[39mget_indexer(new_axis)\n\u001b[1;32m   4549\u001b[0m \u001b[38;5;66;03m# Case for non-unique axis\u001b[39;00m\n\u001b[1;32m   4550\u001b[0m \u001b[38;5;28;01melse\u001b[39;00m:\n",
      "File \u001b[0;32m~/mambaforge/lib/python3.10/site-packages/pandas/core/indexes/base.py:6934\u001b[0m, in \u001b[0;36mIndex.drop\u001b[0;34m(self, labels, errors)\u001b[0m\n\u001b[1;32m   6932\u001b[0m \u001b[38;5;28;01mif\u001b[39;00m mask\u001b[38;5;241m.\u001b[39many():\n\u001b[1;32m   6933\u001b[0m     \u001b[38;5;28;01mif\u001b[39;00m errors \u001b[38;5;241m!=\u001b[39m \u001b[38;5;124m\"\u001b[39m\u001b[38;5;124mignore\u001b[39m\u001b[38;5;124m\"\u001b[39m:\n\u001b[0;32m-> 6934\u001b[0m         \u001b[38;5;28;01mraise\u001b[39;00m \u001b[38;5;167;01mKeyError\u001b[39;00m(\u001b[38;5;124mf\u001b[39m\u001b[38;5;124m\"\u001b[39m\u001b[38;5;132;01m{\u001b[39;00m\u001b[38;5;28mlist\u001b[39m(labels[mask])\u001b[38;5;132;01m}\u001b[39;00m\u001b[38;5;124m not found in axis\u001b[39m\u001b[38;5;124m\"\u001b[39m)\n\u001b[1;32m   6935\u001b[0m     indexer \u001b[38;5;241m=\u001b[39m indexer[\u001b[38;5;241m~\u001b[39mmask]\n\u001b[1;32m   6936\u001b[0m \u001b[38;5;28;01mreturn\u001b[39;00m \u001b[38;5;28mself\u001b[39m\u001b[38;5;241m.\u001b[39mdelete(indexer)\n",
      "\u001b[0;31mKeyError\u001b[0m: \"['TempMin', 'TempMax', 'VelMedViento', 'PresionMax', 'PresionMin'] not found in axis\""
     ]
    }
   ],
   "source": [
    "# Eliminamos columnas que no van a intervenir en nuestro modelo\n",
    "columns = [\"TempMin\", \"TempMax\", \"VelMedViento\", \"PresionMax\", \"PresionMin\"]\n",
    "numb_data = numb_data.drop(columns, axis = 1)"
   ]
  },
  {
   "cell_type": "code",
   "execution_count": null,
   "id": "6c64500c",
   "metadata": {},
   "outputs": [],
   "source": [
    "X = ahogamientos_df.iloc[:, :-1]\n",
    "y = ahogamientos_df.iloc[:, -1]"
   ]
  },
  {
   "cell_type": "code",
   "execution_count": null,
   "id": "4e3624b6",
   "metadata": {
    "run_control": {
     "marked": false
    }
   },
   "outputs": [],
   "source": [
    "# Normalizamos los datos que son numericos\n",
    "# df_numeric = X.select_dtypes(include = [np.number])\n",
    "\n",
    "# scaler = MinMaxScaler()\n",
    "\n",
    "# df_numeric = pd.DataFrame(scaler.fit_transform(df_numeric), columns = df_numeric.columns)"
   ]
  },
  {
   "cell_type": "code",
   "execution_count": null,
   "id": "34212e71",
   "metadata": {},
   "outputs": [],
   "source": [
    "# Reemplazar las columnas originales con las columnas normalizadas\n",
    "#X.update(df_numeric)"
   ]
  },
  {
   "cell_type": "code",
   "execution_count": null,
   "id": "e2c4f3ad",
   "metadata": {},
   "outputs": [],
   "source": [
    "X.shape"
   ]
  },
  {
   "cell_type": "code",
   "execution_count": null,
   "id": "c8b35771",
   "metadata": {},
   "outputs": [],
   "source": [
    "import gower\n",
    "\n",
    "distance_matrix = gower.gower_matrix(X)"
   ]
  },
  {
   "cell_type": "code",
   "execution_count": null,
   "id": "d945aa93",
   "metadata": {},
   "outputs": [],
   "source": [
    "from sklearn.cluster import DBSCAN\n",
    "\n",
    "dbscan_cluster = DBSCAN(eps = 0.2, min_samples = 2, metric = \"precomputed\")\n",
    "\n",
    "dbscan_cluster.fit(distance_matrix)"
   ]
  },
  {
   "cell_type": "code",
   "execution_count": null,
   "id": "84308de0",
   "metadata": {
    "run_control": {
     "marked": false
    }
   },
   "outputs": [],
   "source": [
    "X[\"Cluster\"] = dbscan_cluster.labels_"
   ]
  },
  {
   "cell_type": "code",
   "execution_count": null,
   "id": "4da49ac3",
   "metadata": {},
   "outputs": [],
   "source": [
    "X[\"Cluster\"].value_counts()"
   ]
  },
  {
   "cell_type": "markdown",
   "id": "e221165e",
   "metadata": {},
   "source": [
    "# Clustering GOWER only with the important features"
   ]
  },
  {
   "cell_type": "code",
   "execution_count": null,
   "id": "4adabcfd",
   "metadata": {
    "scrolled": true
   },
   "outputs": [],
   "source": [
    "ahogamientos_df.head(2)"
   ]
  },
  {
   "cell_type": "code",
   "execution_count": null,
   "id": "a8802fc6",
   "metadata": {},
   "outputs": [],
   "source": [
    "ahogamientos_df2 = ahogamientos_df[[\"Extraccion\", \"TipoAhogamiento\", \"Pronostico\", \"Reanimacion\", \"Deteccion\",\\\n",
    "                                            \"Altitud\", \"TempMed\", \"Precip\", \"DirViento\", \"RachaViento\", \"TiempoSol\"]]\n",
    "\n",
    "ahogamientos_df2.head(3)"
   ]
  },
  {
   "cell_type": "code",
   "execution_count": null,
   "id": "661e701a",
   "metadata": {},
   "outputs": [],
   "source": [
    "distance_matrix2 = gower.gower_matrix(ahogamientos_df2)"
   ]
  },
  {
   "cell_type": "code",
   "execution_count": null,
   "id": "340d7d09",
   "metadata": {},
   "outputs": [],
   "source": [
    "dbscan_cluster = DBSCAN(eps = 0.2, min_samples = 2, metric = \"precomputed\")\n",
    "\n",
    "dbscan_cluster.fit(distance_matrix2)"
   ]
  },
  {
   "cell_type": "code",
   "execution_count": null,
   "id": "2f6717a5",
   "metadata": {},
   "outputs": [],
   "source": [
    "ahogamientos_df2[\"Cluster\"] = dbscan_cluster.labels_"
   ]
  },
  {
   "cell_type": "code",
   "execution_count": null,
   "id": "06ffeee6",
   "metadata": {},
   "outputs": [],
   "source": [
    "ahogamientos_df2[\"Cluster\"].value_counts()"
   ]
  },
  {
   "cell_type": "markdown",
   "id": "de4da5f3",
   "metadata": {},
   "source": [
    "# Clustering KPROTOTYPES ALL VARIABLES"
   ]
  },
  {
   "cell_type": "code",
   "execution_count": null,
   "id": "c3571384",
   "metadata": {},
   "outputs": [],
   "source": [
    "# Import module for data manipulation\n",
    "import pandas as pd\n",
    "# Import module for linear algebra\n",
    "import numpy as np\n",
    "# Import module for data visualization\n",
    "from plotnine import *\n",
    "import plotnine\n",
    "\n",
    "# Import module for k-protoype cluster\n",
    "from kmodes.kprototypes import KPrototypes"
   ]
  },
  {
   "cell_type": "code",
   "execution_count": null,
   "id": "33efb64b",
   "metadata": {},
   "outputs": [],
   "source": [
    "ahogamientos_df.drop([\"Fecha\"], axis = 1, inplace = True)"
   ]
  },
  {
   "cell_type": "code",
   "execution_count": null,
   "id": "04c69c03",
   "metadata": {},
   "outputs": [],
   "source": [
    "df = ahogamientos_df.copy()\n",
    "df.head(2)"
   ]
  },
  {
   "cell_type": "code",
   "execution_count": null,
   "id": "b410208a",
   "metadata": {},
   "outputs": [],
   "source": [
    "df.select_dtypes('object').nunique()"
   ]
  },
  {
   "cell_type": "code",
   "execution_count": null,
   "id": "8a6cf14c",
   "metadata": {},
   "outputs": [],
   "source": [
    "df.describe()"
   ]
  },
  {
   "cell_type": "code",
   "execution_count": null,
   "id": "b9d715a9",
   "metadata": {},
   "outputs": [],
   "source": [
    "# Obtener la posicion de las columnas categoricas\n",
    "cat_cols = [df.columns.get_loc(col) for col in list(df.select_dtypes('object').columns)]\n",
    "print ( 'Categorical column: {}'.format(list(df.select_dtypes('object').columns))) \n",
    "print ( 'Posición de columnas categóricas: {}'.format(cat_cols))\n",
    "    "
   ]
  },
  {
   "cell_type": "code",
   "execution_count": null,
   "id": "8c15bbea",
   "metadata": {},
   "outputs": [],
   "source": [
    "# Convertir dataframe a matriz\n",
    "dfMatrix = df.to_numpy()\n",
    "dfMatrix"
   ]
  },
  {
   "cell_type": "code",
   "execution_count": null,
   "id": "46547a84",
   "metadata": {},
   "outputs": [],
   "source": [
    "# Choose optimal K using Elbow method\n",
    "cost = []\n",
    "for cluster in range(1, 10):\n",
    "    try:\n",
    "        kprototype = KPrototypes(n_jobs = -1, n_clusters = cluster, init = 'Huang', random_state = 0)\n",
    "        kprototype.fit_predict(dfMatrix, categorical = cat_cols)\n",
    "        cost.append(kprototype.cost_)\n",
    "        print('Cluster initiation: {}'.format(cluster))\n",
    "    except:\n",
    "        break"
   ]
  },
  {
   "cell_type": "code",
   "execution_count": 65,
   "id": "9d4645d0",
   "metadata": {},
   "outputs": [
    {
     "data": {
      "text/html": [
       "<div>\n",
       "<style scoped>\n",
       "    .dataframe tbody tr th:only-of-type {\n",
       "        vertical-align: middle;\n",
       "    }\n",
       "\n",
       "    .dataframe tbody tr th {\n",
       "        vertical-align: top;\n",
       "    }\n",
       "\n",
       "    .dataframe thead th {\n",
       "        text-align: right;\n",
       "    }\n",
       "</style>\n",
       "<table border=\"1\" class=\"dataframe\">\n",
       "  <thead>\n",
       "    <tr style=\"text-align: right;\">\n",
       "      <th></th>\n",
       "      <th>Cluster</th>\n",
       "      <th>Cost</th>\n",
       "    </tr>\n",
       "  </thead>\n",
       "  <tbody>\n",
       "    <tr>\n",
       "      <th>0</th>\n",
       "      <td>1</td>\n",
       "      <td>4.011459e+08</td>\n",
       "    </tr>\n",
       "    <tr>\n",
       "      <th>1</th>\n",
       "      <td>2</td>\n",
       "      <td>9.010735e+07</td>\n",
       "    </tr>\n",
       "    <tr>\n",
       "      <th>2</th>\n",
       "      <td>3</td>\n",
       "      <td>3.989438e+07</td>\n",
       "    </tr>\n",
       "    <tr>\n",
       "      <th>3</th>\n",
       "      <td>4</td>\n",
       "      <td>3.156617e+07</td>\n",
       "    </tr>\n",
       "    <tr>\n",
       "      <th>4</th>\n",
       "      <td>5</td>\n",
       "      <td>2.607604e+07</td>\n",
       "    </tr>\n",
       "  </tbody>\n",
       "</table>\n",
       "</div>"
      ],
      "text/plain": [
       "   Cluster          Cost\n",
       "0        1  4.011459e+08\n",
       "1        2  9.010735e+07\n",
       "2        3  3.989438e+07\n",
       "3        4  3.156617e+07\n",
       "4        5  2.607604e+07"
      ]
     },
     "execution_count": 65,
     "metadata": {},
     "output_type": "execute_result"
    }
   ],
   "source": [
    "# Converting the results into a dataframe and plotting them\n",
    "df_cost = pd.DataFrame({'Cluster':range(1, 10), 'Cost':cost})\n",
    "df_cost.head()"
   ]
  },
  {
   "cell_type": "code",
   "execution_count": 66,
   "id": "73e7a756",
   "metadata": {},
   "outputs": [
    {
     "data": {
      "image/png": "[encoded data removed]",
      "text/plain": [
       "<Figure size 800x480 with 1 Axes>"
      ]
     },
     "metadata": {
      "image/png": {
       "height": 480,
       "width": 800
      },
      "needs_background": "light"
     },
     "output_type": "display_data"
    },
    {
     "data": {
      "text/plain": [
       "<Figure Size: (800 x 480)>"
      ]
     },
     "execution_count": 66,
     "metadata": {},
     "output_type": "execute_result"
    }
   ],
   "source": [
    "# Data viz\n",
    "plotnine.options.figure_size = (8, 4.8)\n",
    "(\n",
    "    ggplot(data = df_cost)+\n",
    "    geom_line(aes(x = 'Cluster',\n",
    "                  y = 'Cost'))+\n",
    "    geom_point(aes(x = 'Cluster',\n",
    "                   y = 'Cost'))+\n",
    "    geom_label(aes(x = 'Cluster',\n",
    "                   y = 'Cost',\n",
    "                   label = 'Cluster'),\n",
    "               size = 10,\n",
    "               nudge_y = 1000) +\n",
    "    labs(title = 'Optimal number of cluster with Elbow Method')+\n",
    "    xlab('Number of Clusters k')+\n",
    "    ylab('Cost')+\n",
    "    theme_minimal()\n",
    ")"
   ]
  },
  {
   "cell_type": "code",
   "execution_count": 67,
   "id": "4e8c0162",
   "metadata": {},
   "outputs": [
    {
     "data": {
      "text/plain": [
       "array([0, 0, 1, ..., 1, 1, 1], dtype=uint16)"
      ]
     },
     "execution_count": 67,
     "metadata": {},
     "output_type": "execute_result"
    }
   ],
   "source": [
    "# Fit the cluster\n",
    "kprototype = KPrototypes(n_jobs = -1, n_clusters = 3, init = 'Huang', random_state = 0)\n",
    "kprototype.fit_predict(dfMatrix, categorical = cat_cols)"
   ]
  },
  {
   "cell_type": "code",
   "execution_count": 70,
   "id": "6709da4d",
   "metadata": {},
   "outputs": [
    {
     "data": {
      "text/plain": [
       "39894378.91813779"
      ]
     },
     "execution_count": 70,
     "metadata": {},
     "output_type": "execute_result"
    }
   ],
   "source": [
    "# Cluster centorid\n",
    "kprototype.cluster_centroids_\n",
    "# Check the iteration of the clusters created\n",
    "kprototype.n_iter_\n",
    "# Check the cost of the clusters created\n",
    "kprototype.cost_"
   ]
  },
  {
   "cell_type": "code",
   "execution_count": 71,
   "id": "4068fd3f",
   "metadata": {},
   "outputs": [],
   "source": [
    "# Add the cluster to the dataframe\n",
    "df['Cluster Labels'] = kprototype.labels_\n",
    "df['Segment'] = df['Cluster Labels'].map({0:'First', 1:'Second', 2:'Third'})\n",
    "# Order the cluster\n",
    "df['Segment'] = df['Segment'].astype('category')\n",
    "df['Segment'] = df['Segment'].cat.reorder_categories(['First','Second','Third'])"
   ]
  },
  {
   "cell_type": "code",
   "execution_count": 89,
   "id": "887e82e2",
   "metadata": {},
   "outputs": [
    {
     "data": {
      "text/plain": [
       "Second    5125\n",
       "First      832\n",
       "Third      479\n",
       "Name: Segment, dtype: int64"
      ]
     },
     "execution_count": 89,
     "metadata": {},
     "output_type": "execute_result"
    }
   ],
   "source": [
    "df[\"Segment\"].value_counts()"
   ]
  },
  {
   "cell_type": "code",
   "execution_count": 72,
   "id": "aafe3410",
   "metadata": {},
   "outputs": [
    {
     "data": {
      "text/html": [
       "<div>\n",
       "<style scoped>\n",
       "    .dataframe tbody tr th:only-of-type {\n",
       "        vertical-align: middle;\n",
       "    }\n",
       "\n",
       "    .dataframe tbody tr th {\n",
       "        vertical-align: top;\n",
       "    }\n",
       "\n",
       "    .dataframe thead th {\n",
       "        text-align: right;\n",
       "    }\n",
       "</style>\n",
       "<table border=\"1\" class=\"dataframe\">\n",
       "  <thead>\n",
       "    <tr style=\"text-align: right;\">\n",
       "      <th></th>\n",
       "      <th>CCAA</th>\n",
       "      <th>Sexo</th>\n",
       "      <th>Edad</th>\n",
       "      <th>Nacionalidad</th>\n",
       "      <th>Extraccion</th>\n",
       "      <th>TipoAhogamiento</th>\n",
       "      <th>Intervencion</th>\n",
       "      <th>Pronostico</th>\n",
       "      <th>Localizacion</th>\n",
       "      <th>Reanimacion</th>\n",
       "      <th>Vigilancia</th>\n",
       "      <th>Actividad</th>\n",
       "      <th>Deteccion</th>\n",
       "      <th>Altitud</th>\n",
       "      <th>TempMed</th>\n",
       "      <th>Precip</th>\n",
       "      <th>TempMin</th>\n",
       "      <th>TempMax</th>\n",
       "      <th>DirViento</th>\n",
       "      <th>VelMedViento</th>\n",
       "      <th>RachaViento</th>\n",
       "      <th>TiempoSol</th>\n",
       "      <th>PresionMax</th>\n",
       "      <th>PresionMin</th>\n",
       "      <th>GrupoEdad</th>\n",
       "      <th>Cluster Labels</th>\n",
       "      <th>Segment</th>\n",
       "    </tr>\n",
       "  </thead>\n",
       "  <tbody>\n",
       "    <tr>\n",
       "      <th>2</th>\n",
       "      <td>País Vasco</td>\n",
       "      <td>Hombre</td>\n",
       "      <td>47.0</td>\n",
       "      <td>España</td>\n",
       "      <td>Cuerpo de Seguridad o Emergencias</td>\n",
       "      <td>Ahogamiento secundario a accidente</td>\n",
       "      <td>Recuperación de cadaver</td>\n",
       "      <td>Ahogamiento mortal</td>\n",
       "      <td>Puertos, embarcaderos, amarres</td>\n",
       "      <td>Recuperacion de cadaver</td>\n",
       "      <td>No vigilado</td>\n",
       "      <td>Circulación en vehiculo</td>\n",
       "      <td>Acompañante, familiar, amigo</td>\n",
       "      <td>251</td>\n",
       "      <td>5.4</td>\n",
       "      <td>36.6</td>\n",
       "      <td>3.8</td>\n",
       "      <td>7.0</td>\n",
       "      <td>26.0</td>\n",
       "      <td>8.9</td>\n",
       "      <td>18.1</td>\n",
       "      <td>0.0</td>\n",
       "      <td>977.5</td>\n",
       "      <td>968.1</td>\n",
       "      <td>adultos</td>\n",
       "      <td>0</td>\n",
       "      <td>First</td>\n",
       "    </tr>\n",
       "    <tr>\n",
       "      <th>3</th>\n",
       "      <td>País Vasco</td>\n",
       "      <td>Hombre</td>\n",
       "      <td>33.0</td>\n",
       "      <td>España</td>\n",
       "      <td>No preciso extraccion</td>\n",
       "      <td>Perdida de Control</td>\n",
       "      <td>Recuperación de cadaver</td>\n",
       "      <td>Rescate y traslado a supervisión médica</td>\n",
       "      <td>Puertos, embarcaderos, amarres</td>\n",
       "      <td>Sin Reanimacion</td>\n",
       "      <td>No vigilado</td>\n",
       "      <td>Circulación en vehiculo</td>\n",
       "      <td>Acompañante, familiar, amigo</td>\n",
       "      <td>251</td>\n",
       "      <td>5.4</td>\n",
       "      <td>36.6</td>\n",
       "      <td>3.8</td>\n",
       "      <td>7.0</td>\n",
       "      <td>26.0</td>\n",
       "      <td>8.9</td>\n",
       "      <td>18.1</td>\n",
       "      <td>0.0</td>\n",
       "      <td>977.5</td>\n",
       "      <td>968.1</td>\n",
       "      <td>jovenes_adultos</td>\n",
       "      <td>0</td>\n",
       "      <td>First</td>\n",
       "    </tr>\n",
       "    <tr>\n",
       "      <th>5</th>\n",
       "      <td>Canarias</td>\n",
       "      <td>Hombre</td>\n",
       "      <td>63.0</td>\n",
       "      <td>Otro</td>\n",
       "      <td>Helicoptero</td>\n",
       "      <td>Ahogamiento secundario a accidente</td>\n",
       "      <td>Rescate por personal adiestrado con equipamiento</td>\n",
       "      <td>Ahogamiento mortal</td>\n",
       "      <td>Playas sin vigilancia</td>\n",
       "      <td>SVA por SEM</td>\n",
       "      <td>No vigilado</td>\n",
       "      <td>Natación recreativa</td>\n",
       "      <td>Acompañante, familiar, amigo</td>\n",
       "      <td>24</td>\n",
       "      <td>19.6</td>\n",
       "      <td>0.0</td>\n",
       "      <td>15.2</td>\n",
       "      <td>24.0</td>\n",
       "      <td>3.0</td>\n",
       "      <td>3.9</td>\n",
       "      <td>8.9</td>\n",
       "      <td>9.1</td>\n",
       "      <td>1011.0</td>\n",
       "      <td>1008.5</td>\n",
       "      <td>mayores</td>\n",
       "      <td>1</td>\n",
       "      <td>Second</td>\n",
       "    </tr>\n",
       "    <tr>\n",
       "      <th>6</th>\n",
       "      <td>Canarias</td>\n",
       "      <td>Hombre</td>\n",
       "      <td>53.0</td>\n",
       "      <td>Otro</td>\n",
       "      <td>Helicoptero</td>\n",
       "      <td>Perdida de Control</td>\n",
       "      <td>Rescate por personal adiestrado con equipamiento</td>\n",
       "      <td>Lesiones</td>\n",
       "      <td>Playas sin vigilancia</td>\n",
       "      <td>Sin Reanimacion</td>\n",
       "      <td>No vigilado</td>\n",
       "      <td>Natación recreativa</td>\n",
       "      <td>Acompañante, familiar, amigo</td>\n",
       "      <td>24</td>\n",
       "      <td>19.6</td>\n",
       "      <td>0.0</td>\n",
       "      <td>15.2</td>\n",
       "      <td>24.0</td>\n",
       "      <td>3.0</td>\n",
       "      <td>3.9</td>\n",
       "      <td>8.9</td>\n",
       "      <td>9.1</td>\n",
       "      <td>1011.0</td>\n",
       "      <td>1008.5</td>\n",
       "      <td>adultos</td>\n",
       "      <td>1</td>\n",
       "      <td>Second</td>\n",
       "    </tr>\n",
       "    <tr>\n",
       "      <th>7</th>\n",
       "      <td>Canarias</td>\n",
       "      <td>Hombre</td>\n",
       "      <td>32.0</td>\n",
       "      <td>Otro</td>\n",
       "      <td>Helicoptero</td>\n",
       "      <td>Ahogamiento secundario a accidente</td>\n",
       "      <td>Rescate por personal adiestrado con equipamiento</td>\n",
       "      <td>Ahogamiento mortal</td>\n",
       "      <td>Playas sin vigilancia</td>\n",
       "      <td>SVA por SEM</td>\n",
       "      <td>No vigilado</td>\n",
       "      <td>Actividad cerca del agua</td>\n",
       "      <td>Acompañante, familiar, amigo</td>\n",
       "      <td>32</td>\n",
       "      <td>19.2</td>\n",
       "      <td>0.0</td>\n",
       "      <td>17.4</td>\n",
       "      <td>20.9</td>\n",
       "      <td>2.0</td>\n",
       "      <td>1.4</td>\n",
       "      <td>4.7</td>\n",
       "      <td>6.5</td>\n",
       "      <td>1011.8</td>\n",
       "      <td>1008.0</td>\n",
       "      <td>jovenes_adultos</td>\n",
       "      <td>1</td>\n",
       "      <td>Second</td>\n",
       "    </tr>\n",
       "  </tbody>\n",
       "</table>\n",
       "</div>"
      ],
      "text/plain": [
       "         CCAA    Sexo  Edad Nacionalidad                         Extraccion  \\\n",
       "2  País Vasco  Hombre  47.0       España  Cuerpo de Seguridad o Emergencias   \n",
       "3  País Vasco  Hombre  33.0       España              No preciso extraccion   \n",
       "5    Canarias  Hombre  63.0         Otro                        Helicoptero   \n",
       "6    Canarias  Hombre  53.0         Otro                        Helicoptero   \n",
       "7    Canarias  Hombre  32.0         Otro                        Helicoptero   \n",
       "\n",
       "                      TipoAhogamiento  \\\n",
       "2  Ahogamiento secundario a accidente   \n",
       "3                  Perdida de Control   \n",
       "5  Ahogamiento secundario a accidente   \n",
       "6                  Perdida de Control   \n",
       "7  Ahogamiento secundario a accidente   \n",
       "\n",
       "                                       Intervencion  \\\n",
       "2                           Recuperación de cadaver   \n",
       "3                           Recuperación de cadaver   \n",
       "5  Rescate por personal adiestrado con equipamiento   \n",
       "6  Rescate por personal adiestrado con equipamiento   \n",
       "7  Rescate por personal adiestrado con equipamiento   \n",
       "\n",
       "                                Pronostico                    Localizacion  \\\n",
       "2                       Ahogamiento mortal  Puertos, embarcaderos, amarres   \n",
       "3  Rescate y traslado a supervisión médica  Puertos, embarcaderos, amarres   \n",
       "5                       Ahogamiento mortal           Playas sin vigilancia   \n",
       "6                                 Lesiones           Playas sin vigilancia   \n",
       "7                       Ahogamiento mortal           Playas sin vigilancia   \n",
       "\n",
       "               Reanimacion   Vigilancia                 Actividad  \\\n",
       "2  Recuperacion de cadaver  No vigilado   Circulación en vehiculo   \n",
       "3          Sin Reanimacion  No vigilado   Circulación en vehiculo   \n",
       "5              SVA por SEM  No vigilado       Natación recreativa   \n",
       "6          Sin Reanimacion  No vigilado       Natación recreativa   \n",
       "7              SVA por SEM  No vigilado  Actividad cerca del agua   \n",
       "\n",
       "                      Deteccion  Altitud  TempMed  Precip  TempMin  TempMax  \\\n",
       "2  Acompañante, familiar, amigo      251      5.4    36.6      3.8      7.0   \n",
       "3  Acompañante, familiar, amigo      251      5.4    36.6      3.8      7.0   \n",
       "5  Acompañante, familiar, amigo       24     19.6     0.0     15.2     24.0   \n",
       "6  Acompañante, familiar, amigo       24     19.6     0.0     15.2     24.0   \n",
       "7  Acompañante, familiar, amigo       32     19.2     0.0     17.4     20.9   \n",
       "\n",
       "   DirViento  VelMedViento  RachaViento  TiempoSol  PresionMax  PresionMin  \\\n",
       "2       26.0           8.9         18.1        0.0       977.5       968.1   \n",
       "3       26.0           8.9         18.1        0.0       977.5       968.1   \n",
       "5        3.0           3.9          8.9        9.1      1011.0      1008.5   \n",
       "6        3.0           3.9          8.9        9.1      1011.0      1008.5   \n",
       "7        2.0           1.4          4.7        6.5      1011.8      1008.0   \n",
       "\n",
       "         GrupoEdad  Cluster Labels Segment  \n",
       "2          adultos               0   First  \n",
       "3  jovenes_adultos               0   First  \n",
       "5          mayores               1  Second  \n",
       "6          adultos               1  Second  \n",
       "7  jovenes_adultos               1  Second  "
      ]
     },
     "execution_count": 72,
     "metadata": {},
     "output_type": "execute_result"
    }
   ],
   "source": [
    "df.head()"
   ]
  },
  {
   "cell_type": "markdown",
   "id": "64e9d118",
   "metadata": {},
   "source": [
    "# Clustering KPROTOTYPES only with the important features"
   ]
  },
  {
   "cell_type": "code",
   "execution_count": 116,
   "id": "5bce7bf3",
   "metadata": {},
   "outputs": [
    {
     "data": {
      "text/html": [
       "<div>\n",
       "<style scoped>\n",
       "    .dataframe tbody tr th:only-of-type {\n",
       "        vertical-align: middle;\n",
       "    }\n",
       "\n",
       "    .dataframe tbody tr th {\n",
       "        vertical-align: top;\n",
       "    }\n",
       "\n",
       "    .dataframe thead th {\n",
       "        text-align: right;\n",
       "    }\n",
       "</style>\n",
       "<table border=\"1\" class=\"dataframe\">\n",
       "  <thead>\n",
       "    <tr style=\"text-align: right;\">\n",
       "      <th></th>\n",
       "      <th>Sexo</th>\n",
       "      <th>Edad</th>\n",
       "      <th>Nacionalidad</th>\n",
       "      <th>Extraccion</th>\n",
       "      <th>TipoAhogamiento</th>\n",
       "      <th>Pronostico</th>\n",
       "      <th>Reanimacion</th>\n",
       "      <th>Deteccion</th>\n",
       "      <th>Altitud</th>\n",
       "      <th>TempMed</th>\n",
       "      <th>Precip</th>\n",
       "      <th>DirViento</th>\n",
       "      <th>RachaViento</th>\n",
       "      <th>TiempoSol</th>\n",
       "    </tr>\n",
       "  </thead>\n",
       "  <tbody>\n",
       "    <tr>\n",
       "      <th>2</th>\n",
       "      <td>Hombre</td>\n",
       "      <td>47.0</td>\n",
       "      <td>España</td>\n",
       "      <td>Cuerpo de Seguridad o Emergencias</td>\n",
       "      <td>Ahogamiento secundario a accidente</td>\n",
       "      <td>Ahogamiento mortal</td>\n",
       "      <td>Recuperacion de cadaver</td>\n",
       "      <td>Acompañante, familiar, amigo</td>\n",
       "      <td>251</td>\n",
       "      <td>5.4</td>\n",
       "      <td>36.6</td>\n",
       "      <td>26.0</td>\n",
       "      <td>18.1</td>\n",
       "      <td>0.0</td>\n",
       "    </tr>\n",
       "    <tr>\n",
       "      <th>3</th>\n",
       "      <td>Hombre</td>\n",
       "      <td>33.0</td>\n",
       "      <td>España</td>\n",
       "      <td>No preciso extraccion</td>\n",
       "      <td>Perdida de Control</td>\n",
       "      <td>Rescate y traslado a supervisión médica</td>\n",
       "      <td>Sin Reanimacion</td>\n",
       "      <td>Acompañante, familiar, amigo</td>\n",
       "      <td>251</td>\n",
       "      <td>5.4</td>\n",
       "      <td>36.6</td>\n",
       "      <td>26.0</td>\n",
       "      <td>18.1</td>\n",
       "      <td>0.0</td>\n",
       "    </tr>\n",
       "    <tr>\n",
       "      <th>5</th>\n",
       "      <td>Hombre</td>\n",
       "      <td>63.0</td>\n",
       "      <td>Otro</td>\n",
       "      <td>Helicoptero</td>\n",
       "      <td>Ahogamiento secundario a accidente</td>\n",
       "      <td>Ahogamiento mortal</td>\n",
       "      <td>SVA por SEM</td>\n",
       "      <td>Acompañante, familiar, amigo</td>\n",
       "      <td>24</td>\n",
       "      <td>19.6</td>\n",
       "      <td>0.0</td>\n",
       "      <td>3.0</td>\n",
       "      <td>8.9</td>\n",
       "      <td>9.1</td>\n",
       "    </tr>\n",
       "  </tbody>\n",
       "</table>\n",
       "</div>"
      ],
      "text/plain": [
       "     Sexo  Edad Nacionalidad                         Extraccion  \\\n",
       "2  Hombre  47.0       España  Cuerpo de Seguridad o Emergencias   \n",
       "3  Hombre  33.0       España              No preciso extraccion   \n",
       "5  Hombre  63.0         Otro                        Helicoptero   \n",
       "\n",
       "                      TipoAhogamiento  \\\n",
       "2  Ahogamiento secundario a accidente   \n",
       "3                  Perdida de Control   \n",
       "5  Ahogamiento secundario a accidente   \n",
       "\n",
       "                                Pronostico              Reanimacion  \\\n",
       "2                       Ahogamiento mortal  Recuperacion de cadaver   \n",
       "3  Rescate y traslado a supervisión médica          Sin Reanimacion   \n",
       "5                       Ahogamiento mortal              SVA por SEM   \n",
       "\n",
       "                      Deteccion  Altitud  TempMed  Precip  DirViento  \\\n",
       "2  Acompañante, familiar, amigo      251      5.4    36.6       26.0   \n",
       "3  Acompañante, familiar, amigo      251      5.4    36.6       26.0   \n",
       "5  Acompañante, familiar, amigo       24     19.6     0.0        3.0   \n",
       "\n",
       "   RachaViento  TiempoSol  \n",
       "2         18.1        0.0  \n",
       "3         18.1        0.0  \n",
       "5          8.9        9.1  "
      ]
     },
     "execution_count": 116,
     "metadata": {},
     "output_type": "execute_result"
    }
   ],
   "source": [
    "ahogamientos_df2 = ahogamientos_df[[\"Sexo\", \"Edad\", \"Nacionalidad\",\"Extraccion\", \"TipoAhogamiento\", \"Pronostico\", \"Reanimacion\", \"Deteccion\",\\\n",
    "                                            \"Altitud\", \"TempMed\", \"Precip\", \"DirViento\", \"RachaViento\", \"TiempoSol\"]]\n",
    "\n",
    "df2 = ahogamientos_df2.copy()\n",
    "df2.head(3)"
   ]
  },
  {
   "cell_type": "code",
   "execution_count": 117,
   "id": "64abe665",
   "metadata": {},
   "outputs": [
    {
     "name": "stdout",
     "output_type": "stream",
     "text": [
      "Categorical column: ['Sexo', 'Nacionalidad', 'Extraccion', 'TipoAhogamiento', 'Pronostico', 'Reanimacion', 'Deteccion']\n",
      "Posición de columnas categóricas: [0, 2, 3, 4, 5, 6, 7]\n"
     ]
    }
   ],
   "source": [
    "# Obtener la posicion de las columnas categoricas\n",
    "cat_cols2 = [df2.columns.get_loc(col) for col in list(df2.select_dtypes('object').columns)]\n",
    "print ( 'Categorical column: {}'.format(list(df2.select_dtypes('object').columns))) \n",
    "print ( 'Posición de columnas categóricas: {}'.format(cat_cols2))"
   ]
  },
  {
   "cell_type": "code",
   "execution_count": 118,
   "id": "93ba8bfd",
   "metadata": {},
   "outputs": [
    {
     "data": {
      "text/plain": [
       "array([['Hombre', 47.0, 'España', ..., 26.0, 18.1, 0.0],\n",
       "       ['Hombre', 33.0, 'España', ..., 26.0, 18.1, 0.0],\n",
       "       ['Hombre', 63.0, 'Otro', ..., 3.0, 8.9, 9.1],\n",
       "       ...,\n",
       "       ['Hombre', 67.0, 'Otro', ..., 11.0, 12.5, 8.6],\n",
       "       ['Hombre', 67.0, 'Otro', ..., 30.0, 8.3, 8.2],\n",
       "       ['Hombre', 44.0, 'Otro', ..., 30.0, 8.3, 8.2]], dtype=object)"
      ]
     },
     "execution_count": 118,
     "metadata": {},
     "output_type": "execute_result"
    }
   ],
   "source": [
    "# Convertir dataframe a matriz\n",
    "dfMatrix2 = df2.to_numpy()\n",
    "dfMatrix2"
   ]
  },
  {
   "cell_type": "code",
   "execution_count": 119,
   "id": "0b5c0e36",
   "metadata": {},
   "outputs": [
    {
     "name": "stdout",
     "output_type": "stream",
     "text": [
      "Cluster initiation: 1\n",
      "Cluster initiation: 2\n",
      "Cluster initiation: 3\n",
      "Cluster initiation: 4\n",
      "Cluster initiation: 5\n"
     ]
    }
   ],
   "source": [
    "# Choose optimal K using Elbow method\n",
    "cost2 = []\n",
    "for cluster in range(1, 6):\n",
    "    try:\n",
    "        kprototype = KPrototypes(n_jobs = -1, n_clusters = cluster, init = 'Huang', random_state = 0)\n",
    "        kprototype.fit_predict(dfMatrix2, categorical = cat_cols2)\n",
    "        cost2.append(kprototype.cost_)\n",
    "        print('Cluster initiation: {}'.format(cluster))\n",
    "    except:\n",
    "        break"
   ]
  },
  {
   "cell_type": "code",
   "execution_count": 120,
   "id": "085b3118",
   "metadata": {},
   "outputs": [
    {
     "data": {
      "text/html": [
       "<div>\n",
       "<style scoped>\n",
       "    .dataframe tbody tr th:only-of-type {\n",
       "        vertical-align: middle;\n",
       "    }\n",
       "\n",
       "    .dataframe tbody tr th {\n",
       "        vertical-align: top;\n",
       "    }\n",
       "\n",
       "    .dataframe thead th {\n",
       "        text-align: right;\n",
       "    }\n",
       "</style>\n",
       "<table border=\"1\" class=\"dataframe\">\n",
       "  <thead>\n",
       "    <tr style=\"text-align: right;\">\n",
       "      <th></th>\n",
       "      <th>Cluster</th>\n",
       "      <th>Cost</th>\n",
       "    </tr>\n",
       "  </thead>\n",
       "  <tbody>\n",
       "    <tr>\n",
       "      <th>0</th>\n",
       "      <td>1</td>\n",
       "      <td>3.906804e+08</td>\n",
       "    </tr>\n",
       "    <tr>\n",
       "      <th>1</th>\n",
       "      <td>2</td>\n",
       "      <td>9.168338e+07</td>\n",
       "    </tr>\n",
       "    <tr>\n",
       "      <th>2</th>\n",
       "      <td>3</td>\n",
       "      <td>3.781922e+07</td>\n",
       "    </tr>\n",
       "    <tr>\n",
       "      <th>3</th>\n",
       "      <td>4</td>\n",
       "      <td>2.973710e+07</td>\n",
       "    </tr>\n",
       "    <tr>\n",
       "      <th>4</th>\n",
       "      <td>5</td>\n",
       "      <td>2.578000e+07</td>\n",
       "    </tr>\n",
       "  </tbody>\n",
       "</table>\n",
       "</div>"
      ],
      "text/plain": [
       "   Cluster          Cost\n",
       "0        1  3.906804e+08\n",
       "1        2  9.168338e+07\n",
       "2        3  3.781922e+07\n",
       "3        4  2.973710e+07\n",
       "4        5  2.578000e+07"
      ]
     },
     "execution_count": 120,
     "metadata": {},
     "output_type": "execute_result"
    }
   ],
   "source": [
    "# Converting the results into a dataframe and plotting them\n",
    "df_cost2 = pd.DataFrame({'Cluster':range(1, 6), 'Cost':cost2})\n",
    "df_cost2.head()"
   ]
  },
  {
   "cell_type": "code",
   "execution_count": 121,
   "id": "6843b3b3",
   "metadata": {},
   "outputs": [
    {
     "data": {
      "image/png": "[encoded data removed]",
      "text/plain": [
       "<Figure size 800x480 with 1 Axes>"
      ]
     },
     "metadata": {
      "image/png": {
       "height": 480,
       "width": 800
      },
      "needs_background": "light"
     },
     "output_type": "display_data"
    },
    {
     "data": {
      "text/plain": [
       "<Figure Size: (800 x 480)>"
      ]
     },
     "execution_count": 121,
     "metadata": {},
     "output_type": "execute_result"
    }
   ],
   "source": [
    "# Data viz\n",
    "plotnine.options.figure_size = (8, 4.8)\n",
    "(\n",
    "    ggplot(data = df_cost2)+\n",
    "    geom_line(aes(x = 'Cluster',\n",
    "                  y = 'Cost'))+\n",
    "    geom_point(aes(x = 'Cluster',\n",
    "                   y = 'Cost'))+\n",
    "    geom_label(aes(x = 'Cluster',\n",
    "                   y = 'Cost',\n",
    "                   label = 'Cluster'),\n",
    "               size = 10,\n",
    "               nudge_y = 1000) +\n",
    "    labs(title = 'Optimal number of cluster with Elbow Method')+\n",
    "    xlab('Number of Clusters k')+\n",
    "    ylab('Cost')+\n",
    "    theme_minimal()\n",
    ")"
   ]
  },
  {
   "cell_type": "code",
   "execution_count": 122,
   "id": "fb3b6e0e",
   "metadata": {},
   "outputs": [
    {
     "data": {
      "text/plain": [
       "array([1, 1, 2, ..., 2, 2, 2], dtype=uint16)"
      ]
     },
     "execution_count": 122,
     "metadata": {},
     "output_type": "execute_result"
    }
   ],
   "source": [
    "# Fit the cluster\n",
    "kprototype2 = KPrototypes(n_jobs = -1, n_clusters = 3, init = 'Huang', random_state = 0)\n",
    "kprototype2.fit_predict(dfMatrix2, categorical = cat_cols2)"
   ]
  },
  {
   "cell_type": "code",
   "execution_count": 123,
   "id": "bfd464e4",
   "metadata": {},
   "outputs": [
    {
     "data": {
      "text/plain": [
       "37819220.8573823"
      ]
     },
     "execution_count": 123,
     "metadata": {},
     "output_type": "execute_result"
    }
   ],
   "source": [
    "# Cluster centorid\n",
    "kprototype2.cluster_centroids_\n",
    "# Check the iteration of the clusters created\n",
    "kprototype2.n_iter_\n",
    "# Check the cost of the clusters created\n",
    "kprototype2.cost_"
   ]
  },
  {
   "cell_type": "code",
   "execution_count": 112,
   "id": "b97e0bef",
   "metadata": {},
   "outputs": [],
   "source": [
    "df2.drop(['Cluster Labels', 'Segment'], axis = 1, inplace = True)"
   ]
  },
  {
   "cell_type": "code",
   "execution_count": 124,
   "id": "a9a440dc",
   "metadata": {},
   "outputs": [],
   "source": [
    "# Add the cluster to the dataframe\n",
    "df2['Cluster Labels'] = kprototype2.labels_\n",
    "df2['Segment'] = df2['Cluster Labels'].map({0:'First', 1:'Second', 2:'Third'})\n",
    "# Order the cluster\n",
    "df2['Segment'] = df2['Segment'].astype('category')\n",
    "df2['Segment'] = df2['Segment'].cat.reorder_categories(['First','Second','Third'])"
   ]
  },
  {
   "cell_type": "code",
   "execution_count": 125,
   "id": "ec712b1d",
   "metadata": {},
   "outputs": [
    {
     "data": {
      "text/plain": [
       "Third     5125\n",
       "Second     832\n",
       "First      479\n",
       "Name: Segment, dtype: int64"
      ]
     },
     "execution_count": 125,
     "metadata": {},
     "output_type": "execute_result"
    }
   ],
   "source": [
    "df2[\"Segment\"].value_counts()"
   ]
  },
  {
   "cell_type": "code",
   "execution_count": 126,
   "id": "5ebacb13",
   "metadata": {},
   "outputs": [
    {
     "data": {
      "text/html": [
       "<div>\n",
       "<style scoped>\n",
       "    .dataframe tbody tr th:only-of-type {\n",
       "        vertical-align: middle;\n",
       "    }\n",
       "\n",
       "    .dataframe tbody tr th {\n",
       "        vertical-align: top;\n",
       "    }\n",
       "\n",
       "    .dataframe thead th {\n",
       "        text-align: right;\n",
       "    }\n",
       "</style>\n",
       "<table border=\"1\" class=\"dataframe\">\n",
       "  <thead>\n",
       "    <tr style=\"text-align: right;\">\n",
       "      <th></th>\n",
       "      <th>Sexo</th>\n",
       "      <th>Edad</th>\n",
       "      <th>Nacionalidad</th>\n",
       "      <th>Extraccion</th>\n",
       "      <th>TipoAhogamiento</th>\n",
       "      <th>Pronostico</th>\n",
       "      <th>Reanimacion</th>\n",
       "      <th>Deteccion</th>\n",
       "      <th>Altitud</th>\n",
       "      <th>TempMed</th>\n",
       "      <th>Precip</th>\n",
       "      <th>DirViento</th>\n",
       "      <th>RachaViento</th>\n",
       "      <th>TiempoSol</th>\n",
       "      <th>Cluster Labels</th>\n",
       "      <th>Segment</th>\n",
       "    </tr>\n",
       "  </thead>\n",
       "  <tbody>\n",
       "    <tr>\n",
       "      <th>2</th>\n",
       "      <td>Hombre</td>\n",
       "      <td>47.0</td>\n",
       "      <td>España</td>\n",
       "      <td>Cuerpo de Seguridad o Emergencias</td>\n",
       "      <td>Ahogamiento secundario a accidente</td>\n",
       "      <td>Ahogamiento mortal</td>\n",
       "      <td>Recuperacion de cadaver</td>\n",
       "      <td>Acompañante, familiar, amigo</td>\n",
       "      <td>251</td>\n",
       "      <td>5.4</td>\n",
       "      <td>36.6</td>\n",
       "      <td>26.0</td>\n",
       "      <td>18.1</td>\n",
       "      <td>0.0</td>\n",
       "      <td>1</td>\n",
       "      <td>Second</td>\n",
       "    </tr>\n",
       "    <tr>\n",
       "      <th>3</th>\n",
       "      <td>Hombre</td>\n",
       "      <td>33.0</td>\n",
       "      <td>España</td>\n",
       "      <td>No preciso extraccion</td>\n",
       "      <td>Perdida de Control</td>\n",
       "      <td>Rescate y traslado a supervisión médica</td>\n",
       "      <td>Sin Reanimacion</td>\n",
       "      <td>Acompañante, familiar, amigo</td>\n",
       "      <td>251</td>\n",
       "      <td>5.4</td>\n",
       "      <td>36.6</td>\n",
       "      <td>26.0</td>\n",
       "      <td>18.1</td>\n",
       "      <td>0.0</td>\n",
       "      <td>1</td>\n",
       "      <td>Second</td>\n",
       "    </tr>\n",
       "    <tr>\n",
       "      <th>5</th>\n",
       "      <td>Hombre</td>\n",
       "      <td>63.0</td>\n",
       "      <td>Otro</td>\n",
       "      <td>Helicoptero</td>\n",
       "      <td>Ahogamiento secundario a accidente</td>\n",
       "      <td>Ahogamiento mortal</td>\n",
       "      <td>SVA por SEM</td>\n",
       "      <td>Acompañante, familiar, amigo</td>\n",
       "      <td>24</td>\n",
       "      <td>19.6</td>\n",
       "      <td>0.0</td>\n",
       "      <td>3.0</td>\n",
       "      <td>8.9</td>\n",
       "      <td>9.1</td>\n",
       "      <td>2</td>\n",
       "      <td>Third</td>\n",
       "    </tr>\n",
       "    <tr>\n",
       "      <th>6</th>\n",
       "      <td>Hombre</td>\n",
       "      <td>53.0</td>\n",
       "      <td>Otro</td>\n",
       "      <td>Helicoptero</td>\n",
       "      <td>Perdida de Control</td>\n",
       "      <td>Lesiones</td>\n",
       "      <td>Sin Reanimacion</td>\n",
       "      <td>Acompañante, familiar, amigo</td>\n",
       "      <td>24</td>\n",
       "      <td>19.6</td>\n",
       "      <td>0.0</td>\n",
       "      <td>3.0</td>\n",
       "      <td>8.9</td>\n",
       "      <td>9.1</td>\n",
       "      <td>2</td>\n",
       "      <td>Third</td>\n",
       "    </tr>\n",
       "    <tr>\n",
       "      <th>7</th>\n",
       "      <td>Hombre</td>\n",
       "      <td>32.0</td>\n",
       "      <td>Otro</td>\n",
       "      <td>Helicoptero</td>\n",
       "      <td>Ahogamiento secundario a accidente</td>\n",
       "      <td>Ahogamiento mortal</td>\n",
       "      <td>SVA por SEM</td>\n",
       "      <td>Acompañante, familiar, amigo</td>\n",
       "      <td>32</td>\n",
       "      <td>19.2</td>\n",
       "      <td>0.0</td>\n",
       "      <td>2.0</td>\n",
       "      <td>4.7</td>\n",
       "      <td>6.5</td>\n",
       "      <td>2</td>\n",
       "      <td>Third</td>\n",
       "    </tr>\n",
       "  </tbody>\n",
       "</table>\n",
       "</div>"
      ],
      "text/plain": [
       "     Sexo  Edad Nacionalidad                         Extraccion  \\\n",
       "2  Hombre  47.0       España  Cuerpo de Seguridad o Emergencias   \n",
       "3  Hombre  33.0       España              No preciso extraccion   \n",
       "5  Hombre  63.0         Otro                        Helicoptero   \n",
       "6  Hombre  53.0         Otro                        Helicoptero   \n",
       "7  Hombre  32.0         Otro                        Helicoptero   \n",
       "\n",
       "                      TipoAhogamiento  \\\n",
       "2  Ahogamiento secundario a accidente   \n",
       "3                  Perdida de Control   \n",
       "5  Ahogamiento secundario a accidente   \n",
       "6                  Perdida de Control   \n",
       "7  Ahogamiento secundario a accidente   \n",
       "\n",
       "                                Pronostico              Reanimacion  \\\n",
       "2                       Ahogamiento mortal  Recuperacion de cadaver   \n",
       "3  Rescate y traslado a supervisión médica          Sin Reanimacion   \n",
       "5                       Ahogamiento mortal              SVA por SEM   \n",
       "6                                 Lesiones          Sin Reanimacion   \n",
       "7                       Ahogamiento mortal              SVA por SEM   \n",
       "\n",
       "                      Deteccion  Altitud  TempMed  Precip  DirViento  \\\n",
       "2  Acompañante, familiar, amigo      251      5.4    36.6       26.0   \n",
       "3  Acompañante, familiar, amigo      251      5.4    36.6       26.0   \n",
       "5  Acompañante, familiar, amigo       24     19.6     0.0        3.0   \n",
       "6  Acompañante, familiar, amigo       24     19.6     0.0        3.0   \n",
       "7  Acompañante, familiar, amigo       32     19.2     0.0        2.0   \n",
       "\n",
       "   RachaViento  TiempoSol  Cluster Labels Segment  \n",
       "2         18.1        0.0               1  Second  \n",
       "3         18.1        0.0               1  Second  \n",
       "5          8.9        9.1               2   Third  \n",
       "6          8.9        9.1               2   Third  \n",
       "7          4.7        6.5               2   Third  "
      ]
     },
     "execution_count": 126,
     "metadata": {},
     "output_type": "execute_result"
    }
   ],
   "source": [
    "df2.head()"
   ]
  },
  {
   "cell_type": "markdown",
   "id": "1ff08fc3",
   "metadata": {},
   "source": [
    "**UNION OF CATEGORICAL AND NUMERIC DATA**"
   ]
  },
  {
   "cell_type": "code",
   "execution_count": null,
   "id": "26a0534d",
   "metadata": {},
   "outputs": [],
   "source": [
    "import pandas as pd\n",
    "\n",
    "# Creating a dictionary with the data\n",
    "dictionary = {\"age\": [22, 25, 30, 38, 42, 47, 55, 62, 61, 90], \n",
    "              \"gender\": [\"M\", \"M\", \"F\", \"F\", \"F\", \"M\", \"M\", \"M\", \"M\", \"M\"], \n",
    "              \"civil_status\": [\"SINGLE\", \"SINGLE\", \"SINGLE\", \"MARRIED\", \"MARRIED\", \"SINGLE\", \"MARRIED\", \"DIVORCED\", \"MARRIED\", \"DIVORCED\"], \n",
    "              \"salary\": [18000, 23000, 27000, 32000, 34000, 20000, 40000, 42000, 25000, 70000], \n",
    "              \"has_children\": [False, False, False, True, True, False, False, False, False, True], \n",
    "              \"purchaser_type\": [\"LOW_PURCHASER\", \"LOW_PURCHASER\", \"LOW_PURCHASER\", \"HEAVY_PURCHASER\", \"HEAVY_PURCHASER\", \"LOW_PURCHASER\", \"MEDIUM_PURCHASER\", \"MEDIUM_PURCHASER\", \"MEDIUM_PURCHASER\", \"LOW_PURCHASER\"]}\n",
    "\n",
    "# Creating a Pandas DataFrame from the dictionary\n",
    "dataframe = pd.DataFrame.from_dict(dictionary)"
   ]
  },
  {
   "cell_type": "code",
   "execution_count": null,
   "id": "dbbbcdbd",
   "metadata": {},
   "outputs": [],
   "source": [
    "dataframe"
   ]
  },
  {
   "cell_type": "code",
   "execution_count": null,
   "id": "24524384",
   "metadata": {},
   "outputs": [],
   "source": [
    "import gower\n",
    "\n",
    "distance_matrix = gower.gower_matrix(dataframe)\n",
    "distance_matrix"
   ]
  },
  {
   "cell_type": "code",
   "execution_count": null,
   "id": "fcaf9731",
   "metadata": {},
   "outputs": [],
   "source": [
    "from sklearn.cluster import DBSCAN\n",
    "\n",
    "# Configuring the parameters of the clustering algorithm\n",
    "dbscan_cluster = DBSCAN(eps=0.3, \n",
    "                        min_samples=2, \n",
    "                        metric=\"precomputed\")\n",
    "\n",
    "# Fitting the clustering algorithm\n",
    "dbscan_cluster.fit(distance_matrix)\n",
    "\n",
    "# Adding the results to a new column in the dataframe\n",
    "dataframe[\"cluster\"] = dbscan_cluster.labels_"
   ]
  },
  {
   "cell_type": "code",
   "execution_count": null,
   "id": "28e3e21f",
   "metadata": {},
   "outputs": [],
   "source": [
    "dataframe"
   ]
  },
  {
   "cell_type": "code",
   "execution_count": null,
   "id": "68cdcfb6",
   "metadata": {},
   "outputs": [],
   "source": []
  },
  {
   "cell_type": "markdown",
   "id": "fcec7c4c",
   "metadata": {},
   "source": [
    "**K-MODES**"
   ]
  },
  {
   "cell_type": "code",
   "execution_count": null,
   "id": "77aab0b9",
   "metadata": {},
   "outputs": [],
   "source": [
    "import pandas as pd\n",
    "import numpy as np\n",
    "\n",
    "# Create toy dataset\n",
    "hair_color = np.array(['blonde', 'brunette', 'red', 'black', 'brunette', 'black', 'red', 'black'])\n",
    "eye_color = np.array(['amber', 'gray', 'green', 'hazel', 'amber', 'gray', 'green', 'hazel'])\n",
    "skin_color = np.array(['fair', 'brown', 'brown', 'brown', 'fair', 'brown', 'fair', 'fair'])\n",
    "person = ['P1','P2','P3','P4','P5','P6','P7','P8']\n",
    "data = pd.DataFrame({'person':person, 'hair_color':hair_color, 'eye_color':eye_color, 'skin_color':skin_color})\n",
    "data = data.set_index('person')\n",
    "print(data)"
   ]
  },
  {
   "cell_type": "code",
   "execution_count": null,
   "id": "f0fe5a0a",
   "metadata": {},
   "outputs": [],
   "source": [
    "# importing necessary libraries\n",
    "import pandas as pd\n",
    "import numpy as np\n",
    "# !pip install kmodes\n",
    "from kmodes.kmodes import KModes\n",
    "import matplotlib.pyplot as plt\n",
    "%matplotlib inline"
   ]
  },
  {
   "cell_type": "code",
   "execution_count": null,
   "id": "87cdebdf",
   "metadata": {},
   "outputs": [],
   "source": [
    "# Elbow curve to find optimal K\n",
    "cost = []\n",
    "K = range(1,5)\n",
    "for num_clusters in list(K):\n",
    "    kmode = KModes(n_clusters=num_clusters, init = \"random\", n_init = 5, verbose=1)\n",
    "    kmode.fit_predict(data)\n",
    "    cost.append(kmode.cost_)\n",
    "    \n",
    "plt.plot(K, cost, 'bx-')\n",
    "plt.xlabel('No. of clusters')\n",
    "plt.ylabel('Cost')\n",
    "plt.title('Elbow Method For Optimal k')\n",
    "plt.show()"
   ]
  },
  {
   "cell_type": "code",
   "execution_count": null,
   "id": "eb34656f",
   "metadata": {},
   "outputs": [],
   "source": [
    "# Building the model with 3 clusters\n",
    "kmode = KModes(n_clusters=3, init = \"random\", n_init = 5, verbose=1)\n",
    "clusters = kmode.fit_predict(data)\n",
    "clusters"
   ]
  },
  {
   "cell_type": "code",
   "execution_count": null,
   "id": "0b3d809e",
   "metadata": {},
   "outputs": [],
   "source": [
    "data.insert(0, \"Cluster\", clusters, True)\n",
    "data"
   ]
  },
  {
   "cell_type": "code",
   "execution_count": null,
   "id": "3d630fad",
   "metadata": {},
   "outputs": [],
   "source": []
  },
  {
   "cell_type": "code",
   "execution_count": null,
   "id": "d5b02eb7",
   "metadata": {},
   "outputs": [],
   "source": []
  },
  {
   "cell_type": "code",
   "execution_count": null,
   "id": "67afc3dd",
   "metadata": {},
   "outputs": [],
   "source": []
  },
  {
   "cell_type": "code",
   "execution_count": null,
   "id": "b95038ec",
   "metadata": {},
   "outputs": [],
   "source": []
  },
  {
   "cell_type": "code",
   "execution_count": null,
   "id": "ec2e5029",
   "metadata": {},
   "outputs": [],
   "source": []
  },
  {
   "cell_type": "code",
   "execution_count": null,
   "id": "e3627762",
   "metadata": {},
   "outputs": [],
   "source": []
  },
  {
   "cell_type": "code",
   "execution_count": null,
   "id": "34946d2b",
   "metadata": {},
   "outputs": [],
   "source": []
  },
  {
   "cell_type": "code",
   "execution_count": null,
   "id": "d44dccce",
   "metadata": {},
   "outputs": [],
   "source": []
  },
  {
   "cell_type": "code",
   "execution_count": null,
   "id": "a95754bc",
   "metadata": {},
   "outputs": [],
   "source": []
  },
  {
   "cell_type": "code",
   "execution_count": null,
   "id": "cc3b0b50",
   "metadata": {},
   "outputs": [],
   "source": []
  },
  {
   "cell_type": "markdown",
   "id": "89ec6ef6",
   "metadata": {},
   "source": [
    "**FEATURE SELECTION**"
   ]
  },
  {
   "cell_type": "code",
   "execution_count": null,
   "id": "df33bae3",
   "metadata": {},
   "outputs": [],
   "source": [
    "# example of chi squared feature selection for categorical data\n",
    "from pandas import read_csv\n",
    "from sklearn.model_selection import train_test_split\n",
    "from sklearn.preprocessing import LabelEncoder\n",
    "from sklearn.preprocessing import OrdinalEncoder\n",
    "from sklearn.feature_selection import SelectKBest\n",
    "from sklearn.feature_selection import chi2\n",
    "from matplotlib import pyplot\n",
    "\n",
    "# load the dataset\n",
    "def load_dataset(filename):\n",
    "\t# load the dataset as a pandas DataFrame\n",
    "\tdata = read_csv(filename, header=None)\n",
    "\t# retrieve numpy array\n",
    "\tdataset = data.values\n",
    "\t# split into input (X) and output (y) variables\n",
    "\tX = dataset[:, :-1]\n",
    "\ty = dataset[:,-1]\n",
    "\t# format all fields as string\n",
    "\tX = X.astype(str)\n",
    "\treturn X, y\n",
    "\n",
    "# prepare input data\n",
    "def prepare_inputs(X_train, X_test):\n",
    "\toe = OrdinalEncoder()\n",
    "\toe.fit(X_train)\n",
    "\tX_train_enc = oe.transform(X_train)\n",
    "\tX_test_enc = oe.transform(X_test)\n",
    "\treturn X_train_enc, X_test_enc\n",
    "\n",
    "# prepare target\n",
    "def prepare_targets(y_train, y_test):\n",
    "\tle = LabelEncoder()\n",
    "\tle.fit(y_train)\n",
    "\ty_train_enc = le.transform(y_train)\n",
    "\ty_test_enc = le.transform(y_test)\n",
    "\treturn y_train_enc, y_test_enc\n",
    "\n",
    "# feature selection\n",
    "def select_features(X_train, y_train, X_test):\n",
    "\tfs = SelectKBest(score_func=chi2, k='all')\n",
    "\tfs.fit(X_train, y_train)\n",
    "\tX_train_fs = fs.transform(X_train)\n",
    "\tX_test_fs = fs.transform(X_test)\n",
    "\treturn X_train_fs, X_test_fs, fs\n",
    "\n",
    "# load the dataset\n",
    "X, y = load_dataset('/Users/adrianova/Desktop/breast_cancer.csv')\n",
    "# split into train and test sets\n",
    "X_train, X_test, y_train, y_test = train_test_split(X, y, test_size=0.33, random_state=1)\n",
    "# prepare input data\n",
    "X_train_enc, X_test_enc = prepare_inputs(X_train, X_test)\n",
    "# prepare output data\n",
    "y_train_enc, y_test_enc = prepare_targets(y_train, y_test)\n",
    "# feature selection\n",
    "X_train_fs, X_test_fs, fs = select_features(X_train_enc, y_train_enc, X_test_enc)\n",
    "# what are scores for the features\n",
    "for i in range(len(fs.scores_)):\n",
    "\tprint('Feature %d: %f' % (i, fs.scores_[i]))\n",
    "# plot the scores\n",
    "pyplot.bar([i for i in range(len(fs.scores_))], fs.scores_)\n",
    "pyplot.show()"
   ]
  },
  {
   "cell_type": "code",
   "execution_count": null,
   "id": "cde66b61",
   "metadata": {},
   "outputs": [],
   "source": [
    "# example of mutual information feature selection for categorical data\n",
    "from pandas import read_csv\n",
    "from sklearn.model_selection import train_test_split\n",
    "from sklearn.preprocessing import LabelEncoder\n",
    "from sklearn.preprocessing import OrdinalEncoder\n",
    "from sklearn.feature_selection import SelectKBest\n",
    "from sklearn.feature_selection import mutual_info_classif\n",
    "from matplotlib import pyplot\n",
    "\n",
    "# load the dataset\n",
    "def load_dataset(filename):\n",
    "\t# load the dataset as a pandas DataFrame\n",
    "\tdata = read_csv(filename, header=None)\n",
    "\t# retrieve numpy array\n",
    "\tdataset = data.values\n",
    "\t# split into input (X) and output (y) variables\n",
    "\tX = dataset[:, :-1]\n",
    "\ty = dataset[:,-1]\n",
    "\t# format all fields as string\n",
    "\tX = X.astype(str)\n",
    "\treturn X, y\n",
    "\n",
    "# prepare input data\n",
    "def prepare_inputs(X_train, X_test):\n",
    "\toe = OrdinalEncoder()\n",
    "\toe.fit(X_train)\n",
    "\tX_train_enc = oe.transform(X_train)\n",
    "\tX_test_enc = oe.transform(X_test)\n",
    "\treturn X_train_enc, X_test_enc\n",
    "\n",
    "# prepare target\n",
    "def prepare_targets(y_train, y_test):\n",
    "\tle = LabelEncoder()\n",
    "\tle.fit(y_train)\n",
    "\ty_train_enc = le.transform(y_train)\n",
    "\ty_test_enc = le.transform(y_test)\n",
    "\treturn y_train_enc, y_test_enc\n",
    "\n",
    "# feature selection\n",
    "def select_features(X_train, y_train, X_test):\n",
    "\tfs = SelectKBest(score_func=mutual_info_classif, k='all')\n",
    "\tfs.fit(X_train, y_train)\n",
    "\tX_train_fs = fs.transform(X_train)\n",
    "\tX_test_fs = fs.transform(X_test)\n",
    "\treturn X_train_fs, X_test_fs, fs\n",
    "\n",
    "# load the dataset\n",
    "X, y = load_dataset('/Users/adrianova/Desktop/breast_cancer.csv')\n",
    "# split into train and test sets\n",
    "X_train, X_test, y_train, y_test = train_test_split(X, y, test_size=0.33, random_state=1)\n",
    "# prepare input data\n",
    "X_train_enc, X_test_enc = prepare_inputs(X_train, X_test)\n",
    "# prepare output data\n",
    "y_train_enc, y_test_enc = prepare_targets(y_train, y_test)\n",
    "# feature selection\n",
    "X_train_fs, X_test_fs, fs = select_features(X_train_enc, y_train_enc, X_test_enc)\n",
    "# what are scores for the features\n",
    "for i in range(len(fs.scores_)):\n",
    "\tprint('Feature %d: %f' % (i, fs.scores_[i]))\n",
    "# plot the scores\n",
    "pyplot.bar([i for i in range(len(fs.scores_))], fs.scores_)\n",
    "pyplot.show()"
   ]
  },
  {
   "cell_type": "code",
   "execution_count": null,
   "id": "c38f53c0",
   "metadata": {},
   "outputs": [],
   "source": [
    "# Modelo de regresión logística con todas las variables \n",
    "# evaluation of a model using all input features\n",
    "from pandas import read_csv\n",
    "from sklearn.preprocessing import LabelEncoder\n",
    "from sklearn.preprocessing import OrdinalEncoder\n",
    "from sklearn.model_selection import train_test_split\n",
    "from sklearn.linear_model import LogisticRegression\n",
    "from sklearn.metrics import accuracy_score\n",
    "\n",
    "# load the dataset\n",
    "def load_dataset(filename):\n",
    "\t# load the dataset as a pandas DataFrame\n",
    "\tdata = read_csv(filename, header=None)\n",
    "\t# retrieve numpy array\n",
    "\tdataset = data.values\n",
    "\t# split into input (X) and output (y) variables\n",
    "\tX = dataset[:, :-1]\n",
    "\ty = dataset[:,-1]\n",
    "\t# format all fields as string\n",
    "\tX = X.astype(str)\n",
    "\treturn X, y\n",
    "\n",
    "# prepare input data\n",
    "def prepare_inputs(X_train, X_test):\n",
    "\toe = OrdinalEncoder()\n",
    "\toe.fit(X_train)\n",
    "\tX_train_enc = oe.transform(X_train)\n",
    "\tX_test_enc = oe.transform(X_test)\n",
    "\treturn X_train_enc, X_test_enc\n",
    "\n",
    "# prepare target\n",
    "def prepare_targets(y_train, y_test):\n",
    "\tle = LabelEncoder()\n",
    "\tle.fit(y_train)\n",
    "\ty_train_enc = le.transform(y_train)\n",
    "\ty_test_enc = le.transform(y_test)\n",
    "\treturn y_train_enc, y_test_enc\n",
    "\n",
    "# load the dataset\n",
    "X, y = load_dataset('/Users/adrianova/Desktop/breast_cancer.csv')\n",
    "# split into train and test sets\n",
    "X_train, X_test, y_train, y_test = train_test_split(X, y, test_size=0.33, random_state=1)\n",
    "# prepare input data\n",
    "X_train_enc, X_test_enc = prepare_inputs(X_train, X_test)\n",
    "# prepare output data\n",
    "y_train_enc, y_test_enc = prepare_targets(y_train, y_test)\n",
    "# fit the model\n",
    "model = LogisticRegression(solver='lbfgs')\n",
    "model.fit(X_train_enc, y_train_enc)\n",
    "# evaluate the model\n",
    "yhat = model.predict(X_test_enc)\n",
    "# evaluate predictions\n",
    "accuracy = accuracy_score(y_test_enc, yhat)\n",
    "print('Accuracy: %.2f' % (accuracy*100))"
   ]
  },
  {
   "cell_type": "code",
   "execution_count": null,
   "id": "60ff75de",
   "metadata": {},
   "outputs": [],
   "source": [
    "# Seleccion de 4 variables más relevantes con chi2\n",
    "# evaluation of a model fit using chi squared input features\n",
    "from pandas import read_csv\n",
    "from sklearn.preprocessing import LabelEncoder\n",
    "from sklearn.preprocessing import OrdinalEncoder\n",
    "from sklearn.feature_selection import SelectKBest\n",
    "from sklearn.feature_selection import chi2\n",
    "from sklearn.model_selection import train_test_split\n",
    "from sklearn.linear_model import LogisticRegression\n",
    "from sklearn.metrics import accuracy_score\n",
    "\n",
    "# load the dataset\n",
    "def load_dataset(filename):\n",
    "\t# load the dataset as a pandas DataFrame\n",
    "\tdata = read_csv(filename, header=None)\n",
    "\t# retrieve numpy array\n",
    "\tdataset = data.values\n",
    "\t# split into input (X) and output (y) variables\n",
    "\tX = dataset[:, :-1]\n",
    "\ty = dataset[:,-1]\n",
    "\t# format all fields as string\n",
    "\tX = X.astype(str)\n",
    "\treturn X, y\n",
    "\n",
    "# prepare input data\n",
    "def prepare_inputs(X_train, X_test):\n",
    "\toe = OrdinalEncoder()\n",
    "\toe.fit(X_train)\n",
    "\tX_train_enc = oe.transform(X_train)\n",
    "\tX_test_enc = oe.transform(X_test)\n",
    "\treturn X_train_enc, X_test_enc\n",
    "\n",
    "# prepare target\n",
    "def prepare_targets(y_train, y_test):\n",
    "\tle = LabelEncoder()\n",
    "\tle.fit(y_train)\n",
    "\ty_train_enc = le.transform(y_train)\n",
    "\ty_test_enc = le.transform(y_test)\n",
    "\treturn y_train_enc, y_test_enc\n",
    "\n",
    "# feature selection\n",
    "def select_features(X_train, y_train, X_test):\n",
    "\tfs = SelectKBest(score_func=chi2, k=4)\n",
    "\tfs.fit(X_train, y_train)\n",
    "\tX_train_fs = fs.transform(X_train)\n",
    "\tX_test_fs = fs.transform(X_test)\n",
    "\treturn X_train_fs, X_test_fs\n",
    "\n",
    "# load the dataset\n",
    "X, y = load_dataset('/Users/adrianova/Desktop/breast_cancer.csv')\n",
    "# split into train and test sets\n",
    "X_train, X_test, y_train, y_test = train_test_split(X, y, test_size=0.33, random_state=1)\n",
    "# prepare input data\n",
    "X_train_enc, X_test_enc = prepare_inputs(X_train, X_test)\n",
    "# prepare output data\n",
    "y_train_enc, y_test_enc = prepare_targets(y_train, y_test)\n",
    "# feature selection\n",
    "X_train_fs, X_test_fs = select_features(X_train_enc, y_train_enc, X_test_enc)\n",
    "# fit the model\n",
    "model = LogisticRegression(solver='lbfgs')\n",
    "model.fit(X_train_fs, y_train_enc)\n",
    "# evaluate the model\n",
    "yhat = model.predict(X_test_fs)\n",
    "# evaluate predictions\n",
    "accuracy = accuracy_score(y_test_enc, yhat)\n",
    "print('Accuracy: %.2f' % (accuracy*100))"
   ]
  },
  {
   "cell_type": "code",
   "execution_count": null,
   "id": "8de154a4",
   "metadata": {},
   "outputs": [],
   "source": [
    "# Seleccion de 4 variables más relevantes con evaluación mutua\n",
    "# evaluation of a model fit using mutual information input features\n",
    "from pandas import read_csv\n",
    "from sklearn.preprocessing import LabelEncoder\n",
    "from sklearn.preprocessing import OrdinalEncoder\n",
    "from sklearn.feature_selection import SelectKBest\n",
    "from sklearn.feature_selection import mutual_info_classif\n",
    "from sklearn.model_selection import train_test_split\n",
    "from sklearn.linear_model import LogisticRegression\n",
    "from sklearn.metrics import accuracy_score\n",
    "\n",
    "# load the dataset\n",
    "def load_dataset(filename):\n",
    "\t# load the dataset as a pandas DataFrame\n",
    "\tdata = read_csv(filename, header=None)\n",
    "\t# retrieve numpy array\n",
    "\tdataset = data.values\n",
    "\t# split into input (X) and output (y) variables\n",
    "\tX = dataset[:, :-1]\n",
    "\ty = dataset[:,-1]\n",
    "\t# format all fields as string\n",
    "\tX = X.astype(str)\n",
    "\treturn X, y\n",
    "\n",
    "# prepare input data\n",
    "def prepare_inputs(X_train, X_test):\n",
    "\toe = OrdinalEncoder()\n",
    "\toe.fit(X_train)\n",
    "\tX_train_enc = oe.transform(X_train)\n",
    "\tX_test_enc = oe.transform(X_test)\n",
    "\treturn X_train_enc, X_test_enc\n",
    "\n",
    "# prepare target\n",
    "def prepare_targets(y_train, y_test):\n",
    "\tle = LabelEncoder()\n",
    "\tle.fit(y_train)\n",
    "\ty_train_enc = le.transform(y_train)\n",
    "\ty_test_enc = le.transform(y_test)\n",
    "\treturn y_train_enc, y_test_enc\n",
    "\n",
    "# feature selection\n",
    "def select_features(X_train, y_train, X_test):\n",
    "\tfs = SelectKBest(score_func=mutual_info_classif, k=4)\n",
    "\tfs.fit(X_train, y_train)\n",
    "\tX_train_fs = fs.transform(X_train)\n",
    "\tX_test_fs = fs.transform(X_test)\n",
    "\treturn X_train_fs, X_test_fs\n",
    "\n",
    "# load the dataset\n",
    "X, y = load_dataset('/Users/adrianova/Desktop/breast_cancer.csv')\n",
    "# split into train and test sets\n",
    "X_train, X_test, y_train, y_test = train_test_split(X, y, test_size=0.33, random_state=1)\n",
    "# prepare input data\n",
    "X_train_enc, X_test_enc = prepare_inputs(X_train, X_test)\n",
    "# prepare output data\n",
    "y_train_enc, y_test_enc = prepare_targets(y_train, y_test)\n",
    "# feature selection\n",
    "X_train_fs, X_test_fs = select_features(X_train_enc, y_train_enc, X_test_enc)\n",
    "# fit the model\n",
    "model = LogisticRegression(solver='lbfgs')\n",
    "model.fit(X_train_fs, y_train_enc)\n",
    "# evaluate the model\n",
    "yhat = model.predict(X_test_fs)\n",
    "# evaluate predictions\n",
    "accuracy = accuracy_score(y_test_enc, yhat)\n",
    "print('Accuracy: %.2f' % (accuracy*100))"
   ]
  },
  {
   "cell_type": "markdown",
   "id": "760001cd",
   "metadata": {},
   "source": [
    "**FEATURE SELECTION 2**"
   ]
  },
  {
   "cell_type": "code",
   "execution_count": null,
   "id": "67b71b4a",
   "metadata": {},
   "outputs": [],
   "source": [
    "import pandas as pd\n",
    "\n",
    "from sklearn.model_selection import train_test_split\n",
    "from sklearn.feature_selection import chi2\n",
    "from sklearn.feature_selection import SelectKBest\n",
    "from sklearn.preprocessing import LabelEncoder, OrdinalEncoder\n",
    "from sklearn.ensemble import RandomForestClassifier\n",
    "from sklearn.preprocessing import MinMaxScaler\n",
    "from sklearn.compose import ColumnTransformer\n",
    "from sklearn.preprocessing import LabelEncoder\n",
    "from sklearn.compose import make_column_selector as selector\n",
    "from sklearn.pipeline import Pipeline\n",
    "\n",
    "import matplotlib.pyplot as plt\n",
    "import seaborn as sns\n",
    "\n",
    "df = pd.read_csv(\"/Users/adrianova/Desktop/bank.csv\", delimiter=\";\")\n",
    "df.head()"
   ]
  },
  {
   "cell_type": "code",
   "execution_count": null,
   "id": "a8d92503",
   "metadata": {},
   "outputs": [],
   "source": [
    "df[\"job\"].value_counts()"
   ]
  },
  {
   "cell_type": "code",
   "execution_count": null,
   "id": "95b430b1",
   "metadata": {},
   "outputs": [],
   "source": [
    "X_train_enc"
   ]
  },
  {
   "cell_type": "code",
   "execution_count": null,
   "id": "adc7d916",
   "metadata": {},
   "outputs": [],
   "source": [
    "# get categorical data\n",
    "cat_data = df.select_dtypes(include=['object'])"
   ]
  },
  {
   "cell_type": "code",
   "execution_count": null,
   "id": "682fb719",
   "metadata": {},
   "outputs": [],
   "source": [
    "X = cat_data.iloc[:, :-1].values\n",
    "y = cat_data.iloc[:,-1].values"
   ]
  },
  {
   "cell_type": "code",
   "execution_count": null,
   "id": "3cc06c60",
   "metadata": {},
   "outputs": [],
   "source": [
    "def prepare_inputs(X_train, X_test):\n",
    "    oe = OrdinalEncoder()\n",
    "    oe.fit(X_train)\n",
    "    X_train_enc = oe.transform(X_train)\n",
    "    X_test_enc = oe.transform(X_test)\n",
    "    return X_train_enc, X_test_enc\n",
    "\n",
    "def prepare_targets(y_train, y_test):\n",
    "    le = LabelEncoder()\n",
    "    le.fit(y_train)\n",
    "    y_train_enc = le.transform(y_train)\n",
    "    y_test_enc = le.transform(y_test)\n",
    "    return y_train_enc, y_test_enc"
   ]
  },
  {
   "cell_type": "code",
   "execution_count": null,
   "id": "feb063de",
   "metadata": {},
   "outputs": [],
   "source": [
    "X_train, X_test, y_train, y_test = train_test_split(X, y, test_size=0.33, random_state=1)\n",
    "# prepare input data\n",
    "X_train_enc, X_test_enc = prepare_inputs(X_train, X_test)\n",
    "# prepare output data\n",
    "y_train_enc, y_test_enc = prepare_targets(y_train, y_test)"
   ]
  },
  {
   "cell_type": "code",
   "execution_count": null,
   "id": "80b9a70f",
   "metadata": {},
   "outputs": [],
   "source": [
    "def select_features(X_train, y_train, X_test, k_value='all'):\n",
    "    fs = SelectKBest(score_func=chi2, k=k_value)\n",
    "    fs.fit(X_train, y_train)\n",
    "    X_train_fs = fs.transform(X_train)\n",
    "    X_test_fs = fs.transform(X_test)\n",
    "    return X_train_fs, X_test_fs, fs"
   ]
  },
  {
   "cell_type": "code",
   "execution_count": null,
   "id": "07bc0616",
   "metadata": {},
   "outputs": [],
   "source": [
    "# feature selection\n",
    "X_train_fs, X_test_fs, fs = select_features(X_train_enc, y_train_enc, X_test_enc)\n",
    "# what are scores for the features\n",
    "for i in range(len(fs.scores_)):\n",
    "    print('Feature %d: %f' % (i, fs.scores_[i]))"
   ]
  },
  {
   "cell_type": "code",
   "execution_count": null,
   "id": "64e6f891",
   "metadata": {},
   "outputs": [],
   "source": [
    "names = []\n",
    "values = []\n",
    "for i in range(len(fs.scores_)):\n",
    "    names.append(cat_data.columns[i])\n",
    "    values.append(fs.scores_[i])\n",
    "chi_list = zip(names, values)\n",
    "\n",
    "# plot the scores\n",
    "plt.figure(figsize=(10,4))\n",
    "sns.barplot(x=names, y=values)\n",
    "plt.xticks(rotation = 90)\n",
    "plt.show()\n"
   ]
  },
  {
   "cell_type": "code",
   "execution_count": null,
   "id": "06ce7392",
   "metadata": {},
   "outputs": [],
   "source": [
    "X_train_fs, X_test_fs, fs = select_features(X_train_enc, y_train_enc, X_test_enc, 5)"
   ]
  },
  {
   "cell_type": "code",
   "execution_count": null,
   "id": "7f23859c",
   "metadata": {},
   "outputs": [],
   "source": [
    "fs.get_feature_names_out()"
   ]
  },
  {
   "cell_type": "code",
   "execution_count": null,
   "id": "681155d0",
   "metadata": {},
   "outputs": [],
   "source": [
    "print(X_train_fs.shape)\n",
    "print(X_test_fs.shape)"
   ]
  },
  {
   "cell_type": "code",
   "execution_count": null,
   "id": "8e08f112",
   "metadata": {},
   "outputs": [],
   "source": []
  },
  {
   "cell_type": "code",
   "execution_count": null,
   "id": "194db986",
   "metadata": {},
   "outputs": [],
   "source": []
  },
  {
   "cell_type": "code",
   "execution_count": null,
   "id": "0a814442",
   "metadata": {},
   "outputs": [],
   "source": []
  },
  {
   "cell_type": "code",
   "execution_count": null,
   "id": "f4362ff4",
   "metadata": {},
   "outputs": [],
   "source": []
  },
  {
   "cell_type": "code",
   "execution_count": null,
   "id": "6aed6f4b",
   "metadata": {},
   "outputs": [],
   "source": []
  },
  {
   "cell_type": "code",
   "execution_count": null,
   "id": "a4b3db79",
   "metadata": {},
   "outputs": [],
   "source": []
  },
  {
   "cell_type": "code",
   "execution_count": null,
   "id": "c625bebc",
   "metadata": {},
   "outputs": [],
   "source": []
  },
  {
   "cell_type": "code",
   "execution_count": null,
   "id": "5ad1439e",
   "metadata": {},
   "outputs": [],
   "source": []
  },
  {
   "cell_type": "code",
   "execution_count": null,
   "id": "90f62146",
   "metadata": {},
   "outputs": [],
   "source": []
  }
 ],
 "metadata": {
  "kernelspec": {
   "display_name": "Python 3 (ipykernel)",
   "language": "python",
   "name": "python3"
  },
  "language_info": {
   "codemirror_mode": {
    "name": "ipython",
    "version": 3
   },
   "file_extension": ".py",
   "mimetype": "text/x-python",
   "name": "python",
   "nbconvert_exporter": "python",
   "pygments_lexer": "ipython3",
   "version": "3.10.6"
  },
  "toc": {
   "base_numbering": 1,
   "nav_menu": {},
   "number_sections": true,
   "sideBar": true,
   "skip_h1_title": false,
   "title_cell": "Table of Contents",
   "title_sidebar": "Contents",
   "toc_cell": false,
   "toc_position": {},
   "toc_section_display": true,
   "toc_window_display": false
  }
 },
 "nbformat": 4,
 "nbformat_minor": 5
}
